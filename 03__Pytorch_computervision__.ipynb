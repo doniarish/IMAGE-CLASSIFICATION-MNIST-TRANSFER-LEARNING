{
  "nbformat": 4,
  "nbformat_minor": 0,
  "metadata": {
    "colab": {
      "provenance": [],
      "gpuType": "T4",
      "authorship_tag": "ABX9TyOEt7FvAhLHtbnya3xU3/fh",
      "include_colab_link": true
    },
    "kernelspec": {
      "name": "python3",
      "display_name": "Python 3"
    },
    "language_info": {
      "name": "python"
    },
    "widgets": {
      "application/vnd.jupyter.widget-state+json": {
        "9600793f23fb4f2b88e4719aede8833b": {
          "model_module": "@jupyter-widgets/controls",
          "model_name": "HBoxModel",
          "model_module_version": "1.5.0",
          "state": {
            "_dom_classes": [],
            "_model_module": "@jupyter-widgets/controls",
            "_model_module_version": "1.5.0",
            "_model_name": "HBoxModel",
            "_view_count": null,
            "_view_module": "@jupyter-widgets/controls",
            "_view_module_version": "1.5.0",
            "_view_name": "HBoxView",
            "box_style": "",
            "children": [
              "IPY_MODEL_3dcb433ec768492a8e63662b0dff27e7",
              "IPY_MODEL_76423b3b07f94aa384cd368c041ea4f4",
              "IPY_MODEL_ceab43e566e141abb24ec94a0c35bd46"
            ],
            "layout": "IPY_MODEL_e13a832b33e14e109738f1c96229863f"
          }
        },
        "3dcb433ec768492a8e63662b0dff27e7": {
          "model_module": "@jupyter-widgets/controls",
          "model_name": "HTMLModel",
          "model_module_version": "1.5.0",
          "state": {
            "_dom_classes": [],
            "_model_module": "@jupyter-widgets/controls",
            "_model_module_version": "1.5.0",
            "_model_name": "HTMLModel",
            "_view_count": null,
            "_view_module": "@jupyter-widgets/controls",
            "_view_module_version": "1.5.0",
            "_view_name": "HTMLView",
            "description": "",
            "description_tooltip": null,
            "layout": "IPY_MODEL_2126beb705a7419691b6c64ee41bf726",
            "placeholder": "​",
            "style": "IPY_MODEL_12dc5e8809b342659236f7b0b47df1e5",
            "value": "100%"
          }
        },
        "76423b3b07f94aa384cd368c041ea4f4": {
          "model_module": "@jupyter-widgets/controls",
          "model_name": "FloatProgressModel",
          "model_module_version": "1.5.0",
          "state": {
            "_dom_classes": [],
            "_model_module": "@jupyter-widgets/controls",
            "_model_module_version": "1.5.0",
            "_model_name": "FloatProgressModel",
            "_view_count": null,
            "_view_module": "@jupyter-widgets/controls",
            "_view_module_version": "1.5.0",
            "_view_name": "ProgressView",
            "bar_style": "success",
            "description": "",
            "description_tooltip": null,
            "layout": "IPY_MODEL_fac4667247de4086a3bc8ce19e9aa1c2",
            "max": 3,
            "min": 0,
            "orientation": "horizontal",
            "style": "IPY_MODEL_9119da175619418d8916d55021531524",
            "value": 3
          }
        },
        "ceab43e566e141abb24ec94a0c35bd46": {
          "model_module": "@jupyter-widgets/controls",
          "model_name": "HTMLModel",
          "model_module_version": "1.5.0",
          "state": {
            "_dom_classes": [],
            "_model_module": "@jupyter-widgets/controls",
            "_model_module_version": "1.5.0",
            "_model_name": "HTMLModel",
            "_view_count": null,
            "_view_module": "@jupyter-widgets/controls",
            "_view_module_version": "1.5.0",
            "_view_name": "HTMLView",
            "description": "",
            "description_tooltip": null,
            "layout": "IPY_MODEL_3b3c8133b4164de286ee446177a978be",
            "placeholder": "​",
            "style": "IPY_MODEL_c12aaab25733458a9eee946f22e79f5e",
            "value": " 3/3 [00:24&lt;00:00,  8.25s/it]"
          }
        },
        "e13a832b33e14e109738f1c96229863f": {
          "model_module": "@jupyter-widgets/base",
          "model_name": "LayoutModel",
          "model_module_version": "1.2.0",
          "state": {
            "_model_module": "@jupyter-widgets/base",
            "_model_module_version": "1.2.0",
            "_model_name": "LayoutModel",
            "_view_count": null,
            "_view_module": "@jupyter-widgets/base",
            "_view_module_version": "1.2.0",
            "_view_name": "LayoutView",
            "align_content": null,
            "align_items": null,
            "align_self": null,
            "border": null,
            "bottom": null,
            "display": null,
            "flex": null,
            "flex_flow": null,
            "grid_area": null,
            "grid_auto_columns": null,
            "grid_auto_flow": null,
            "grid_auto_rows": null,
            "grid_column": null,
            "grid_gap": null,
            "grid_row": null,
            "grid_template_areas": null,
            "grid_template_columns": null,
            "grid_template_rows": null,
            "height": null,
            "justify_content": null,
            "justify_items": null,
            "left": null,
            "margin": null,
            "max_height": null,
            "max_width": null,
            "min_height": null,
            "min_width": null,
            "object_fit": null,
            "object_position": null,
            "order": null,
            "overflow": null,
            "overflow_x": null,
            "overflow_y": null,
            "padding": null,
            "right": null,
            "top": null,
            "visibility": null,
            "width": null
          }
        },
        "2126beb705a7419691b6c64ee41bf726": {
          "model_module": "@jupyter-widgets/base",
          "model_name": "LayoutModel",
          "model_module_version": "1.2.0",
          "state": {
            "_model_module": "@jupyter-widgets/base",
            "_model_module_version": "1.2.0",
            "_model_name": "LayoutModel",
            "_view_count": null,
            "_view_module": "@jupyter-widgets/base",
            "_view_module_version": "1.2.0",
            "_view_name": "LayoutView",
            "align_content": null,
            "align_items": null,
            "align_self": null,
            "border": null,
            "bottom": null,
            "display": null,
            "flex": null,
            "flex_flow": null,
            "grid_area": null,
            "grid_auto_columns": null,
            "grid_auto_flow": null,
            "grid_auto_rows": null,
            "grid_column": null,
            "grid_gap": null,
            "grid_row": null,
            "grid_template_areas": null,
            "grid_template_columns": null,
            "grid_template_rows": null,
            "height": null,
            "justify_content": null,
            "justify_items": null,
            "left": null,
            "margin": null,
            "max_height": null,
            "max_width": null,
            "min_height": null,
            "min_width": null,
            "object_fit": null,
            "object_position": null,
            "order": null,
            "overflow": null,
            "overflow_x": null,
            "overflow_y": null,
            "padding": null,
            "right": null,
            "top": null,
            "visibility": null,
            "width": null
          }
        },
        "12dc5e8809b342659236f7b0b47df1e5": {
          "model_module": "@jupyter-widgets/controls",
          "model_name": "DescriptionStyleModel",
          "model_module_version": "1.5.0",
          "state": {
            "_model_module": "@jupyter-widgets/controls",
            "_model_module_version": "1.5.0",
            "_model_name": "DescriptionStyleModel",
            "_view_count": null,
            "_view_module": "@jupyter-widgets/base",
            "_view_module_version": "1.2.0",
            "_view_name": "StyleView",
            "description_width": ""
          }
        },
        "fac4667247de4086a3bc8ce19e9aa1c2": {
          "model_module": "@jupyter-widgets/base",
          "model_name": "LayoutModel",
          "model_module_version": "1.2.0",
          "state": {
            "_model_module": "@jupyter-widgets/base",
            "_model_module_version": "1.2.0",
            "_model_name": "LayoutModel",
            "_view_count": null,
            "_view_module": "@jupyter-widgets/base",
            "_view_module_version": "1.2.0",
            "_view_name": "LayoutView",
            "align_content": null,
            "align_items": null,
            "align_self": null,
            "border": null,
            "bottom": null,
            "display": null,
            "flex": null,
            "flex_flow": null,
            "grid_area": null,
            "grid_auto_columns": null,
            "grid_auto_flow": null,
            "grid_auto_rows": null,
            "grid_column": null,
            "grid_gap": null,
            "grid_row": null,
            "grid_template_areas": null,
            "grid_template_columns": null,
            "grid_template_rows": null,
            "height": null,
            "justify_content": null,
            "justify_items": null,
            "left": null,
            "margin": null,
            "max_height": null,
            "max_width": null,
            "min_height": null,
            "min_width": null,
            "object_fit": null,
            "object_position": null,
            "order": null,
            "overflow": null,
            "overflow_x": null,
            "overflow_y": null,
            "padding": null,
            "right": null,
            "top": null,
            "visibility": null,
            "width": null
          }
        },
        "9119da175619418d8916d55021531524": {
          "model_module": "@jupyter-widgets/controls",
          "model_name": "ProgressStyleModel",
          "model_module_version": "1.5.0",
          "state": {
            "_model_module": "@jupyter-widgets/controls",
            "_model_module_version": "1.5.0",
            "_model_name": "ProgressStyleModel",
            "_view_count": null,
            "_view_module": "@jupyter-widgets/base",
            "_view_module_version": "1.2.0",
            "_view_name": "StyleView",
            "bar_color": null,
            "description_width": ""
          }
        },
        "3b3c8133b4164de286ee446177a978be": {
          "model_module": "@jupyter-widgets/base",
          "model_name": "LayoutModel",
          "model_module_version": "1.2.0",
          "state": {
            "_model_module": "@jupyter-widgets/base",
            "_model_module_version": "1.2.0",
            "_model_name": "LayoutModel",
            "_view_count": null,
            "_view_module": "@jupyter-widgets/base",
            "_view_module_version": "1.2.0",
            "_view_name": "LayoutView",
            "align_content": null,
            "align_items": null,
            "align_self": null,
            "border": null,
            "bottom": null,
            "display": null,
            "flex": null,
            "flex_flow": null,
            "grid_area": null,
            "grid_auto_columns": null,
            "grid_auto_flow": null,
            "grid_auto_rows": null,
            "grid_column": null,
            "grid_gap": null,
            "grid_row": null,
            "grid_template_areas": null,
            "grid_template_columns": null,
            "grid_template_rows": null,
            "height": null,
            "justify_content": null,
            "justify_items": null,
            "left": null,
            "margin": null,
            "max_height": null,
            "max_width": null,
            "min_height": null,
            "min_width": null,
            "object_fit": null,
            "object_position": null,
            "order": null,
            "overflow": null,
            "overflow_x": null,
            "overflow_y": null,
            "padding": null,
            "right": null,
            "top": null,
            "visibility": null,
            "width": null
          }
        },
        "c12aaab25733458a9eee946f22e79f5e": {
          "model_module": "@jupyter-widgets/controls",
          "model_name": "DescriptionStyleModel",
          "model_module_version": "1.5.0",
          "state": {
            "_model_module": "@jupyter-widgets/controls",
            "_model_module_version": "1.5.0",
            "_model_name": "DescriptionStyleModel",
            "_view_count": null,
            "_view_module": "@jupyter-widgets/base",
            "_view_module_version": "1.2.0",
            "_view_name": "StyleView",
            "description_width": ""
          }
        },
        "7e9be123bda4442f9d4e7b53361b9300": {
          "model_module": "@jupyter-widgets/controls",
          "model_name": "HBoxModel",
          "model_module_version": "1.5.0",
          "state": {
            "_dom_classes": [],
            "_model_module": "@jupyter-widgets/controls",
            "_model_module_version": "1.5.0",
            "_model_name": "HBoxModel",
            "_view_count": null,
            "_view_module": "@jupyter-widgets/controls",
            "_view_module_version": "1.5.0",
            "_view_name": "HBoxView",
            "box_style": "",
            "children": [
              "IPY_MODEL_262942e2d7064bd49ede995a443f8ba0",
              "IPY_MODEL_89ac2409cf4c402e80283a21748925da",
              "IPY_MODEL_27aee37f783e411bab2d4c2c5327b95f"
            ],
            "layout": "IPY_MODEL_871aa9bdd66741d592aef224aca6243f"
          }
        },
        "262942e2d7064bd49ede995a443f8ba0": {
          "model_module": "@jupyter-widgets/controls",
          "model_name": "HTMLModel",
          "model_module_version": "1.5.0",
          "state": {
            "_dom_classes": [],
            "_model_module": "@jupyter-widgets/controls",
            "_model_module_version": "1.5.0",
            "_model_name": "HTMLModel",
            "_view_count": null,
            "_view_module": "@jupyter-widgets/controls",
            "_view_module_version": "1.5.0",
            "_view_name": "HTMLView",
            "description": "",
            "description_tooltip": null,
            "layout": "IPY_MODEL_50a47914e43c469199d581bc38c6589e",
            "placeholder": "​",
            "style": "IPY_MODEL_285a540ed15f415aaafb5c4974fcb1c1",
            "value": "100%"
          }
        },
        "89ac2409cf4c402e80283a21748925da": {
          "model_module": "@jupyter-widgets/controls",
          "model_name": "FloatProgressModel",
          "model_module_version": "1.5.0",
          "state": {
            "_dom_classes": [],
            "_model_module": "@jupyter-widgets/controls",
            "_model_module_version": "1.5.0",
            "_model_name": "FloatProgressModel",
            "_view_count": null,
            "_view_module": "@jupyter-widgets/controls",
            "_view_module_version": "1.5.0",
            "_view_name": "ProgressView",
            "bar_style": "success",
            "description": "",
            "description_tooltip": null,
            "layout": "IPY_MODEL_bee2e25bba804c0ea40ebf7d5caf22d2",
            "max": 313,
            "min": 0,
            "orientation": "horizontal",
            "style": "IPY_MODEL_8b94ed2df02e4718a55e8a2e6dc92a96",
            "value": 313
          }
        },
        "27aee37f783e411bab2d4c2c5327b95f": {
          "model_module": "@jupyter-widgets/controls",
          "model_name": "HTMLModel",
          "model_module_version": "1.5.0",
          "state": {
            "_dom_classes": [],
            "_model_module": "@jupyter-widgets/controls",
            "_model_module_version": "1.5.0",
            "_model_name": "HTMLModel",
            "_view_count": null,
            "_view_module": "@jupyter-widgets/controls",
            "_view_module_version": "1.5.0",
            "_view_name": "HTMLView",
            "description": "",
            "description_tooltip": null,
            "layout": "IPY_MODEL_15f24fc294134778a7265cc130b03a16",
            "placeholder": "​",
            "style": "IPY_MODEL_0e5a493b551d481c8b40c97a30a2f15a",
            "value": " 313/313 [00:01&lt;00:00, 317.56it/s]"
          }
        },
        "871aa9bdd66741d592aef224aca6243f": {
          "model_module": "@jupyter-widgets/base",
          "model_name": "LayoutModel",
          "model_module_version": "1.2.0",
          "state": {
            "_model_module": "@jupyter-widgets/base",
            "_model_module_version": "1.2.0",
            "_model_name": "LayoutModel",
            "_view_count": null,
            "_view_module": "@jupyter-widgets/base",
            "_view_module_version": "1.2.0",
            "_view_name": "LayoutView",
            "align_content": null,
            "align_items": null,
            "align_self": null,
            "border": null,
            "bottom": null,
            "display": null,
            "flex": null,
            "flex_flow": null,
            "grid_area": null,
            "grid_auto_columns": null,
            "grid_auto_flow": null,
            "grid_auto_rows": null,
            "grid_column": null,
            "grid_gap": null,
            "grid_row": null,
            "grid_template_areas": null,
            "grid_template_columns": null,
            "grid_template_rows": null,
            "height": null,
            "justify_content": null,
            "justify_items": null,
            "left": null,
            "margin": null,
            "max_height": null,
            "max_width": null,
            "min_height": null,
            "min_width": null,
            "object_fit": null,
            "object_position": null,
            "order": null,
            "overflow": null,
            "overflow_x": null,
            "overflow_y": null,
            "padding": null,
            "right": null,
            "top": null,
            "visibility": null,
            "width": null
          }
        },
        "50a47914e43c469199d581bc38c6589e": {
          "model_module": "@jupyter-widgets/base",
          "model_name": "LayoutModel",
          "model_module_version": "1.2.0",
          "state": {
            "_model_module": "@jupyter-widgets/base",
            "_model_module_version": "1.2.0",
            "_model_name": "LayoutModel",
            "_view_count": null,
            "_view_module": "@jupyter-widgets/base",
            "_view_module_version": "1.2.0",
            "_view_name": "LayoutView",
            "align_content": null,
            "align_items": null,
            "align_self": null,
            "border": null,
            "bottom": null,
            "display": null,
            "flex": null,
            "flex_flow": null,
            "grid_area": null,
            "grid_auto_columns": null,
            "grid_auto_flow": null,
            "grid_auto_rows": null,
            "grid_column": null,
            "grid_gap": null,
            "grid_row": null,
            "grid_template_areas": null,
            "grid_template_columns": null,
            "grid_template_rows": null,
            "height": null,
            "justify_content": null,
            "justify_items": null,
            "left": null,
            "margin": null,
            "max_height": null,
            "max_width": null,
            "min_height": null,
            "min_width": null,
            "object_fit": null,
            "object_position": null,
            "order": null,
            "overflow": null,
            "overflow_x": null,
            "overflow_y": null,
            "padding": null,
            "right": null,
            "top": null,
            "visibility": null,
            "width": null
          }
        },
        "285a540ed15f415aaafb5c4974fcb1c1": {
          "model_module": "@jupyter-widgets/controls",
          "model_name": "DescriptionStyleModel",
          "model_module_version": "1.5.0",
          "state": {
            "_model_module": "@jupyter-widgets/controls",
            "_model_module_version": "1.5.0",
            "_model_name": "DescriptionStyleModel",
            "_view_count": null,
            "_view_module": "@jupyter-widgets/base",
            "_view_module_version": "1.2.0",
            "_view_name": "StyleView",
            "description_width": ""
          }
        },
        "bee2e25bba804c0ea40ebf7d5caf22d2": {
          "model_module": "@jupyter-widgets/base",
          "model_name": "LayoutModel",
          "model_module_version": "1.2.0",
          "state": {
            "_model_module": "@jupyter-widgets/base",
            "_model_module_version": "1.2.0",
            "_model_name": "LayoutModel",
            "_view_count": null,
            "_view_module": "@jupyter-widgets/base",
            "_view_module_version": "1.2.0",
            "_view_name": "LayoutView",
            "align_content": null,
            "align_items": null,
            "align_self": null,
            "border": null,
            "bottom": null,
            "display": null,
            "flex": null,
            "flex_flow": null,
            "grid_area": null,
            "grid_auto_columns": null,
            "grid_auto_flow": null,
            "grid_auto_rows": null,
            "grid_column": null,
            "grid_gap": null,
            "grid_row": null,
            "grid_template_areas": null,
            "grid_template_columns": null,
            "grid_template_rows": null,
            "height": null,
            "justify_content": null,
            "justify_items": null,
            "left": null,
            "margin": null,
            "max_height": null,
            "max_width": null,
            "min_height": null,
            "min_width": null,
            "object_fit": null,
            "object_position": null,
            "order": null,
            "overflow": null,
            "overflow_x": null,
            "overflow_y": null,
            "padding": null,
            "right": null,
            "top": null,
            "visibility": null,
            "width": null
          }
        },
        "8b94ed2df02e4718a55e8a2e6dc92a96": {
          "model_module": "@jupyter-widgets/controls",
          "model_name": "ProgressStyleModel",
          "model_module_version": "1.5.0",
          "state": {
            "_model_module": "@jupyter-widgets/controls",
            "_model_module_version": "1.5.0",
            "_model_name": "ProgressStyleModel",
            "_view_count": null,
            "_view_module": "@jupyter-widgets/base",
            "_view_module_version": "1.2.0",
            "_view_name": "StyleView",
            "bar_color": null,
            "description_width": ""
          }
        },
        "15f24fc294134778a7265cc130b03a16": {
          "model_module": "@jupyter-widgets/base",
          "model_name": "LayoutModel",
          "model_module_version": "1.2.0",
          "state": {
            "_model_module": "@jupyter-widgets/base",
            "_model_module_version": "1.2.0",
            "_model_name": "LayoutModel",
            "_view_count": null,
            "_view_module": "@jupyter-widgets/base",
            "_view_module_version": "1.2.0",
            "_view_name": "LayoutView",
            "align_content": null,
            "align_items": null,
            "align_self": null,
            "border": null,
            "bottom": null,
            "display": null,
            "flex": null,
            "flex_flow": null,
            "grid_area": null,
            "grid_auto_columns": null,
            "grid_auto_flow": null,
            "grid_auto_rows": null,
            "grid_column": null,
            "grid_gap": null,
            "grid_row": null,
            "grid_template_areas": null,
            "grid_template_columns": null,
            "grid_template_rows": null,
            "height": null,
            "justify_content": null,
            "justify_items": null,
            "left": null,
            "margin": null,
            "max_height": null,
            "max_width": null,
            "min_height": null,
            "min_width": null,
            "object_fit": null,
            "object_position": null,
            "order": null,
            "overflow": null,
            "overflow_x": null,
            "overflow_y": null,
            "padding": null,
            "right": null,
            "top": null,
            "visibility": null,
            "width": null
          }
        },
        "0e5a493b551d481c8b40c97a30a2f15a": {
          "model_module": "@jupyter-widgets/controls",
          "model_name": "DescriptionStyleModel",
          "model_module_version": "1.5.0",
          "state": {
            "_model_module": "@jupyter-widgets/controls",
            "_model_module_version": "1.5.0",
            "_model_name": "DescriptionStyleModel",
            "_view_count": null,
            "_view_module": "@jupyter-widgets/base",
            "_view_module_version": "1.2.0",
            "_view_name": "StyleView",
            "description_width": ""
          }
        },
        "f4a1e069df9e48e09308cecddb1f6da2": {
          "model_module": "@jupyter-widgets/controls",
          "model_name": "HBoxModel",
          "model_module_version": "1.5.0",
          "state": {
            "_dom_classes": [],
            "_model_module": "@jupyter-widgets/controls",
            "_model_module_version": "1.5.0",
            "_model_name": "HBoxModel",
            "_view_count": null,
            "_view_module": "@jupyter-widgets/controls",
            "_view_module_version": "1.5.0",
            "_view_name": "HBoxView",
            "box_style": "",
            "children": [
              "IPY_MODEL_96971850895c409cbfb439a44c673a38",
              "IPY_MODEL_292d4dbb0b314b0193a6cbfe779c703a",
              "IPY_MODEL_4cdc23d486c744b198bd197ad13c332b"
            ],
            "layout": "IPY_MODEL_3ff3a0629e0b4d1bbe8e72e83e00f449"
          }
        },
        "96971850895c409cbfb439a44c673a38": {
          "model_module": "@jupyter-widgets/controls",
          "model_name": "HTMLModel",
          "model_module_version": "1.5.0",
          "state": {
            "_dom_classes": [],
            "_model_module": "@jupyter-widgets/controls",
            "_model_module_version": "1.5.0",
            "_model_name": "HTMLModel",
            "_view_count": null,
            "_view_module": "@jupyter-widgets/controls",
            "_view_module_version": "1.5.0",
            "_view_name": "HTMLView",
            "description": "",
            "description_tooltip": null,
            "layout": "IPY_MODEL_c05d19d60ef349d983817658a38211f5",
            "placeholder": "​",
            "style": "IPY_MODEL_1a688720446f4d889ad81066b126b1b8",
            "value": "100%"
          }
        },
        "292d4dbb0b314b0193a6cbfe779c703a": {
          "model_module": "@jupyter-widgets/controls",
          "model_name": "FloatProgressModel",
          "model_module_version": "1.5.0",
          "state": {
            "_dom_classes": [],
            "_model_module": "@jupyter-widgets/controls",
            "_model_module_version": "1.5.0",
            "_model_name": "FloatProgressModel",
            "_view_count": null,
            "_view_module": "@jupyter-widgets/controls",
            "_view_module_version": "1.5.0",
            "_view_name": "ProgressView",
            "bar_style": "success",
            "description": "",
            "description_tooltip": null,
            "layout": "IPY_MODEL_533d9144cb6145eab69c1f0fad8f2320",
            "max": 3,
            "min": 0,
            "orientation": "horizontal",
            "style": "IPY_MODEL_fa1205b654474359bf23d07dde99d4f7",
            "value": 3
          }
        },
        "4cdc23d486c744b198bd197ad13c332b": {
          "model_module": "@jupyter-widgets/controls",
          "model_name": "HTMLModel",
          "model_module_version": "1.5.0",
          "state": {
            "_dom_classes": [],
            "_model_module": "@jupyter-widgets/controls",
            "_model_module_version": "1.5.0",
            "_model_name": "HTMLModel",
            "_view_count": null,
            "_view_module": "@jupyter-widgets/controls",
            "_view_module_version": "1.5.0",
            "_view_name": "HTMLView",
            "description": "",
            "description_tooltip": null,
            "layout": "IPY_MODEL_42c65b559e674172a00aed7d9c17b30a",
            "placeholder": "​",
            "style": "IPY_MODEL_ce18da78f475481e8c4fff3e0e6d8848",
            "value": " 3/3 [00:27&lt;00:00,  9.04s/it]"
          }
        },
        "3ff3a0629e0b4d1bbe8e72e83e00f449": {
          "model_module": "@jupyter-widgets/base",
          "model_name": "LayoutModel",
          "model_module_version": "1.2.0",
          "state": {
            "_model_module": "@jupyter-widgets/base",
            "_model_module_version": "1.2.0",
            "_model_name": "LayoutModel",
            "_view_count": null,
            "_view_module": "@jupyter-widgets/base",
            "_view_module_version": "1.2.0",
            "_view_name": "LayoutView",
            "align_content": null,
            "align_items": null,
            "align_self": null,
            "border": null,
            "bottom": null,
            "display": null,
            "flex": null,
            "flex_flow": null,
            "grid_area": null,
            "grid_auto_columns": null,
            "grid_auto_flow": null,
            "grid_auto_rows": null,
            "grid_column": null,
            "grid_gap": null,
            "grid_row": null,
            "grid_template_areas": null,
            "grid_template_columns": null,
            "grid_template_rows": null,
            "height": null,
            "justify_content": null,
            "justify_items": null,
            "left": null,
            "margin": null,
            "max_height": null,
            "max_width": null,
            "min_height": null,
            "min_width": null,
            "object_fit": null,
            "object_position": null,
            "order": null,
            "overflow": null,
            "overflow_x": null,
            "overflow_y": null,
            "padding": null,
            "right": null,
            "top": null,
            "visibility": null,
            "width": null
          }
        },
        "c05d19d60ef349d983817658a38211f5": {
          "model_module": "@jupyter-widgets/base",
          "model_name": "LayoutModel",
          "model_module_version": "1.2.0",
          "state": {
            "_model_module": "@jupyter-widgets/base",
            "_model_module_version": "1.2.0",
            "_model_name": "LayoutModel",
            "_view_count": null,
            "_view_module": "@jupyter-widgets/base",
            "_view_module_version": "1.2.0",
            "_view_name": "LayoutView",
            "align_content": null,
            "align_items": null,
            "align_self": null,
            "border": null,
            "bottom": null,
            "display": null,
            "flex": null,
            "flex_flow": null,
            "grid_area": null,
            "grid_auto_columns": null,
            "grid_auto_flow": null,
            "grid_auto_rows": null,
            "grid_column": null,
            "grid_gap": null,
            "grid_row": null,
            "grid_template_areas": null,
            "grid_template_columns": null,
            "grid_template_rows": null,
            "height": null,
            "justify_content": null,
            "justify_items": null,
            "left": null,
            "margin": null,
            "max_height": null,
            "max_width": null,
            "min_height": null,
            "min_width": null,
            "object_fit": null,
            "object_position": null,
            "order": null,
            "overflow": null,
            "overflow_x": null,
            "overflow_y": null,
            "padding": null,
            "right": null,
            "top": null,
            "visibility": null,
            "width": null
          }
        },
        "1a688720446f4d889ad81066b126b1b8": {
          "model_module": "@jupyter-widgets/controls",
          "model_name": "DescriptionStyleModel",
          "model_module_version": "1.5.0",
          "state": {
            "_model_module": "@jupyter-widgets/controls",
            "_model_module_version": "1.5.0",
            "_model_name": "DescriptionStyleModel",
            "_view_count": null,
            "_view_module": "@jupyter-widgets/base",
            "_view_module_version": "1.2.0",
            "_view_name": "StyleView",
            "description_width": ""
          }
        },
        "533d9144cb6145eab69c1f0fad8f2320": {
          "model_module": "@jupyter-widgets/base",
          "model_name": "LayoutModel",
          "model_module_version": "1.2.0",
          "state": {
            "_model_module": "@jupyter-widgets/base",
            "_model_module_version": "1.2.0",
            "_model_name": "LayoutModel",
            "_view_count": null,
            "_view_module": "@jupyter-widgets/base",
            "_view_module_version": "1.2.0",
            "_view_name": "LayoutView",
            "align_content": null,
            "align_items": null,
            "align_self": null,
            "border": null,
            "bottom": null,
            "display": null,
            "flex": null,
            "flex_flow": null,
            "grid_area": null,
            "grid_auto_columns": null,
            "grid_auto_flow": null,
            "grid_auto_rows": null,
            "grid_column": null,
            "grid_gap": null,
            "grid_row": null,
            "grid_template_areas": null,
            "grid_template_columns": null,
            "grid_template_rows": null,
            "height": null,
            "justify_content": null,
            "justify_items": null,
            "left": null,
            "margin": null,
            "max_height": null,
            "max_width": null,
            "min_height": null,
            "min_width": null,
            "object_fit": null,
            "object_position": null,
            "order": null,
            "overflow": null,
            "overflow_x": null,
            "overflow_y": null,
            "padding": null,
            "right": null,
            "top": null,
            "visibility": null,
            "width": null
          }
        },
        "fa1205b654474359bf23d07dde99d4f7": {
          "model_module": "@jupyter-widgets/controls",
          "model_name": "ProgressStyleModel",
          "model_module_version": "1.5.0",
          "state": {
            "_model_module": "@jupyter-widgets/controls",
            "_model_module_version": "1.5.0",
            "_model_name": "ProgressStyleModel",
            "_view_count": null,
            "_view_module": "@jupyter-widgets/base",
            "_view_module_version": "1.2.0",
            "_view_name": "StyleView",
            "bar_color": null,
            "description_width": ""
          }
        },
        "42c65b559e674172a00aed7d9c17b30a": {
          "model_module": "@jupyter-widgets/base",
          "model_name": "LayoutModel",
          "model_module_version": "1.2.0",
          "state": {
            "_model_module": "@jupyter-widgets/base",
            "_model_module_version": "1.2.0",
            "_model_name": "LayoutModel",
            "_view_count": null,
            "_view_module": "@jupyter-widgets/base",
            "_view_module_version": "1.2.0",
            "_view_name": "LayoutView",
            "align_content": null,
            "align_items": null,
            "align_self": null,
            "border": null,
            "bottom": null,
            "display": null,
            "flex": null,
            "flex_flow": null,
            "grid_area": null,
            "grid_auto_columns": null,
            "grid_auto_flow": null,
            "grid_auto_rows": null,
            "grid_column": null,
            "grid_gap": null,
            "grid_row": null,
            "grid_template_areas": null,
            "grid_template_columns": null,
            "grid_template_rows": null,
            "height": null,
            "justify_content": null,
            "justify_items": null,
            "left": null,
            "margin": null,
            "max_height": null,
            "max_width": null,
            "min_height": null,
            "min_width": null,
            "object_fit": null,
            "object_position": null,
            "order": null,
            "overflow": null,
            "overflow_x": null,
            "overflow_y": null,
            "padding": null,
            "right": null,
            "top": null,
            "visibility": null,
            "width": null
          }
        },
        "ce18da78f475481e8c4fff3e0e6d8848": {
          "model_module": "@jupyter-widgets/controls",
          "model_name": "DescriptionStyleModel",
          "model_module_version": "1.5.0",
          "state": {
            "_model_module": "@jupyter-widgets/controls",
            "_model_module_version": "1.5.0",
            "_model_name": "DescriptionStyleModel",
            "_view_count": null,
            "_view_module": "@jupyter-widgets/base",
            "_view_module_version": "1.2.0",
            "_view_name": "StyleView",
            "description_width": ""
          }
        },
        "045ea3c180434c83a1af5cfd85f4508b": {
          "model_module": "@jupyter-widgets/controls",
          "model_name": "HBoxModel",
          "model_module_version": "1.5.0",
          "state": {
            "_dom_classes": [],
            "_model_module": "@jupyter-widgets/controls",
            "_model_module_version": "1.5.0",
            "_model_name": "HBoxModel",
            "_view_count": null,
            "_view_module": "@jupyter-widgets/controls",
            "_view_module_version": "1.5.0",
            "_view_name": "HBoxView",
            "box_style": "",
            "children": [
              "IPY_MODEL_9711737b97e94ddf9638bae46a6a5799",
              "IPY_MODEL_61dbe4e36f364dca9ef537b7ef61248c",
              "IPY_MODEL_7fcee8f522c1470a99e2a05e9eccdc63"
            ],
            "layout": "IPY_MODEL_a54f96e85266425bafeea013f1cc8721"
          }
        },
        "9711737b97e94ddf9638bae46a6a5799": {
          "model_module": "@jupyter-widgets/controls",
          "model_name": "HTMLModel",
          "model_module_version": "1.5.0",
          "state": {
            "_dom_classes": [],
            "_model_module": "@jupyter-widgets/controls",
            "_model_module_version": "1.5.0",
            "_model_name": "HTMLModel",
            "_view_count": null,
            "_view_module": "@jupyter-widgets/controls",
            "_view_module_version": "1.5.0",
            "_view_name": "HTMLView",
            "description": "",
            "description_tooltip": null,
            "layout": "IPY_MODEL_c24a34cec6554e10ac3d304853d841e5",
            "placeholder": "​",
            "style": "IPY_MODEL_bc9954a3cf904c32af6bfcffd3c15d97",
            "value": "100%"
          }
        },
        "61dbe4e36f364dca9ef537b7ef61248c": {
          "model_module": "@jupyter-widgets/controls",
          "model_name": "FloatProgressModel",
          "model_module_version": "1.5.0",
          "state": {
            "_dom_classes": [],
            "_model_module": "@jupyter-widgets/controls",
            "_model_module_version": "1.5.0",
            "_model_name": "FloatProgressModel",
            "_view_count": null,
            "_view_module": "@jupyter-widgets/controls",
            "_view_module_version": "1.5.0",
            "_view_name": "ProgressView",
            "bar_style": "success",
            "description": "",
            "description_tooltip": null,
            "layout": "IPY_MODEL_ddfd1b0be15440669a31b0f2f4ec393d",
            "max": 313,
            "min": 0,
            "orientation": "horizontal",
            "style": "IPY_MODEL_7cd4e0cc42b7416e98244fd3d3f137d8",
            "value": 313
          }
        },
        "7fcee8f522c1470a99e2a05e9eccdc63": {
          "model_module": "@jupyter-widgets/controls",
          "model_name": "HTMLModel",
          "model_module_version": "1.5.0",
          "state": {
            "_dom_classes": [],
            "_model_module": "@jupyter-widgets/controls",
            "_model_module_version": "1.5.0",
            "_model_name": "HTMLModel",
            "_view_count": null,
            "_view_module": "@jupyter-widgets/controls",
            "_view_module_version": "1.5.0",
            "_view_name": "HTMLView",
            "description": "",
            "description_tooltip": null,
            "layout": "IPY_MODEL_78270eb10c9e4ad082740246d763dbdd",
            "placeholder": "​",
            "style": "IPY_MODEL_ffecad0aaf334155be6b5181e5a966db",
            "value": " 313/313 [00:01&lt;00:00, 246.93it/s]"
          }
        },
        "a54f96e85266425bafeea013f1cc8721": {
          "model_module": "@jupyter-widgets/base",
          "model_name": "LayoutModel",
          "model_module_version": "1.2.0",
          "state": {
            "_model_module": "@jupyter-widgets/base",
            "_model_module_version": "1.2.0",
            "_model_name": "LayoutModel",
            "_view_count": null,
            "_view_module": "@jupyter-widgets/base",
            "_view_module_version": "1.2.0",
            "_view_name": "LayoutView",
            "align_content": null,
            "align_items": null,
            "align_self": null,
            "border": null,
            "bottom": null,
            "display": null,
            "flex": null,
            "flex_flow": null,
            "grid_area": null,
            "grid_auto_columns": null,
            "grid_auto_flow": null,
            "grid_auto_rows": null,
            "grid_column": null,
            "grid_gap": null,
            "grid_row": null,
            "grid_template_areas": null,
            "grid_template_columns": null,
            "grid_template_rows": null,
            "height": null,
            "justify_content": null,
            "justify_items": null,
            "left": null,
            "margin": null,
            "max_height": null,
            "max_width": null,
            "min_height": null,
            "min_width": null,
            "object_fit": null,
            "object_position": null,
            "order": null,
            "overflow": null,
            "overflow_x": null,
            "overflow_y": null,
            "padding": null,
            "right": null,
            "top": null,
            "visibility": null,
            "width": null
          }
        },
        "c24a34cec6554e10ac3d304853d841e5": {
          "model_module": "@jupyter-widgets/base",
          "model_name": "LayoutModel",
          "model_module_version": "1.2.0",
          "state": {
            "_model_module": "@jupyter-widgets/base",
            "_model_module_version": "1.2.0",
            "_model_name": "LayoutModel",
            "_view_count": null,
            "_view_module": "@jupyter-widgets/base",
            "_view_module_version": "1.2.0",
            "_view_name": "LayoutView",
            "align_content": null,
            "align_items": null,
            "align_self": null,
            "border": null,
            "bottom": null,
            "display": null,
            "flex": null,
            "flex_flow": null,
            "grid_area": null,
            "grid_auto_columns": null,
            "grid_auto_flow": null,
            "grid_auto_rows": null,
            "grid_column": null,
            "grid_gap": null,
            "grid_row": null,
            "grid_template_areas": null,
            "grid_template_columns": null,
            "grid_template_rows": null,
            "height": null,
            "justify_content": null,
            "justify_items": null,
            "left": null,
            "margin": null,
            "max_height": null,
            "max_width": null,
            "min_height": null,
            "min_width": null,
            "object_fit": null,
            "object_position": null,
            "order": null,
            "overflow": null,
            "overflow_x": null,
            "overflow_y": null,
            "padding": null,
            "right": null,
            "top": null,
            "visibility": null,
            "width": null
          }
        },
        "bc9954a3cf904c32af6bfcffd3c15d97": {
          "model_module": "@jupyter-widgets/controls",
          "model_name": "DescriptionStyleModel",
          "model_module_version": "1.5.0",
          "state": {
            "_model_module": "@jupyter-widgets/controls",
            "_model_module_version": "1.5.0",
            "_model_name": "DescriptionStyleModel",
            "_view_count": null,
            "_view_module": "@jupyter-widgets/base",
            "_view_module_version": "1.2.0",
            "_view_name": "StyleView",
            "description_width": ""
          }
        },
        "ddfd1b0be15440669a31b0f2f4ec393d": {
          "model_module": "@jupyter-widgets/base",
          "model_name": "LayoutModel",
          "model_module_version": "1.2.0",
          "state": {
            "_model_module": "@jupyter-widgets/base",
            "_model_module_version": "1.2.0",
            "_model_name": "LayoutModel",
            "_view_count": null,
            "_view_module": "@jupyter-widgets/base",
            "_view_module_version": "1.2.0",
            "_view_name": "LayoutView",
            "align_content": null,
            "align_items": null,
            "align_self": null,
            "border": null,
            "bottom": null,
            "display": null,
            "flex": null,
            "flex_flow": null,
            "grid_area": null,
            "grid_auto_columns": null,
            "grid_auto_flow": null,
            "grid_auto_rows": null,
            "grid_column": null,
            "grid_gap": null,
            "grid_row": null,
            "grid_template_areas": null,
            "grid_template_columns": null,
            "grid_template_rows": null,
            "height": null,
            "justify_content": null,
            "justify_items": null,
            "left": null,
            "margin": null,
            "max_height": null,
            "max_width": null,
            "min_height": null,
            "min_width": null,
            "object_fit": null,
            "object_position": null,
            "order": null,
            "overflow": null,
            "overflow_x": null,
            "overflow_y": null,
            "padding": null,
            "right": null,
            "top": null,
            "visibility": null,
            "width": null
          }
        },
        "7cd4e0cc42b7416e98244fd3d3f137d8": {
          "model_module": "@jupyter-widgets/controls",
          "model_name": "ProgressStyleModel",
          "model_module_version": "1.5.0",
          "state": {
            "_model_module": "@jupyter-widgets/controls",
            "_model_module_version": "1.5.0",
            "_model_name": "ProgressStyleModel",
            "_view_count": null,
            "_view_module": "@jupyter-widgets/base",
            "_view_module_version": "1.2.0",
            "_view_name": "StyleView",
            "bar_color": null,
            "description_width": ""
          }
        },
        "78270eb10c9e4ad082740246d763dbdd": {
          "model_module": "@jupyter-widgets/base",
          "model_name": "LayoutModel",
          "model_module_version": "1.2.0",
          "state": {
            "_model_module": "@jupyter-widgets/base",
            "_model_module_version": "1.2.0",
            "_model_name": "LayoutModel",
            "_view_count": null,
            "_view_module": "@jupyter-widgets/base",
            "_view_module_version": "1.2.0",
            "_view_name": "LayoutView",
            "align_content": null,
            "align_items": null,
            "align_self": null,
            "border": null,
            "bottom": null,
            "display": null,
            "flex": null,
            "flex_flow": null,
            "grid_area": null,
            "grid_auto_columns": null,
            "grid_auto_flow": null,
            "grid_auto_rows": null,
            "grid_column": null,
            "grid_gap": null,
            "grid_row": null,
            "grid_template_areas": null,
            "grid_template_columns": null,
            "grid_template_rows": null,
            "height": null,
            "justify_content": null,
            "justify_items": null,
            "left": null,
            "margin": null,
            "max_height": null,
            "max_width": null,
            "min_height": null,
            "min_width": null,
            "object_fit": null,
            "object_position": null,
            "order": null,
            "overflow": null,
            "overflow_x": null,
            "overflow_y": null,
            "padding": null,
            "right": null,
            "top": null,
            "visibility": null,
            "width": null
          }
        },
        "ffecad0aaf334155be6b5181e5a966db": {
          "model_module": "@jupyter-widgets/controls",
          "model_name": "DescriptionStyleModel",
          "model_module_version": "1.5.0",
          "state": {
            "_model_module": "@jupyter-widgets/controls",
            "_model_module_version": "1.5.0",
            "_model_name": "DescriptionStyleModel",
            "_view_count": null,
            "_view_module": "@jupyter-widgets/base",
            "_view_module_version": "1.2.0",
            "_view_name": "StyleView",
            "description_width": ""
          }
        },
        "e3d963b10091477c9266a5c71ef662ed": {
          "model_module": "@jupyter-widgets/controls",
          "model_name": "HBoxModel",
          "model_module_version": "1.5.0",
          "state": {
            "_dom_classes": [],
            "_model_module": "@jupyter-widgets/controls",
            "_model_module_version": "1.5.0",
            "_model_name": "HBoxModel",
            "_view_count": null,
            "_view_module": "@jupyter-widgets/controls",
            "_view_module_version": "1.5.0",
            "_view_name": "HBoxView",
            "box_style": "",
            "children": [
              "IPY_MODEL_bf0aba4877cc417fbda159f8f9dd3fe5",
              "IPY_MODEL_963f38889118447c9611fc487a26cd3e",
              "IPY_MODEL_e9a701c3f7f743fca1d2939ec5fc1aa2"
            ],
            "layout": "IPY_MODEL_72c43a5037cc41b3a0ea31cfc575ba75"
          }
        },
        "bf0aba4877cc417fbda159f8f9dd3fe5": {
          "model_module": "@jupyter-widgets/controls",
          "model_name": "HTMLModel",
          "model_module_version": "1.5.0",
          "state": {
            "_dom_classes": [],
            "_model_module": "@jupyter-widgets/controls",
            "_model_module_version": "1.5.0",
            "_model_name": "HTMLModel",
            "_view_count": null,
            "_view_module": "@jupyter-widgets/controls",
            "_view_module_version": "1.5.0",
            "_view_name": "HTMLView",
            "description": "",
            "description_tooltip": null,
            "layout": "IPY_MODEL_e17ae06f62164d5f9c633d39c7d8314f",
            "placeholder": "​",
            "style": "IPY_MODEL_10038faffe9047739758281a969b707d",
            "value": "100%"
          }
        },
        "963f38889118447c9611fc487a26cd3e": {
          "model_module": "@jupyter-widgets/controls",
          "model_name": "FloatProgressModel",
          "model_module_version": "1.5.0",
          "state": {
            "_dom_classes": [],
            "_model_module": "@jupyter-widgets/controls",
            "_model_module_version": "1.5.0",
            "_model_name": "FloatProgressModel",
            "_view_count": null,
            "_view_module": "@jupyter-widgets/controls",
            "_view_module_version": "1.5.0",
            "_view_name": "ProgressView",
            "bar_style": "success",
            "description": "",
            "description_tooltip": null,
            "layout": "IPY_MODEL_fd5b3ac474af4afa9a77c52a31c1cd6e",
            "max": 3,
            "min": 0,
            "orientation": "horizontal",
            "style": "IPY_MODEL_a8a336d67ca0405c992f353ddad6c95a",
            "value": 3
          }
        },
        "e9a701c3f7f743fca1d2939ec5fc1aa2": {
          "model_module": "@jupyter-widgets/controls",
          "model_name": "HTMLModel",
          "model_module_version": "1.5.0",
          "state": {
            "_dom_classes": [],
            "_model_module": "@jupyter-widgets/controls",
            "_model_module_version": "1.5.0",
            "_model_name": "HTMLModel",
            "_view_count": null,
            "_view_module": "@jupyter-widgets/controls",
            "_view_module_version": "1.5.0",
            "_view_name": "HTMLView",
            "description": "",
            "description_tooltip": null,
            "layout": "IPY_MODEL_1ba5e871b0b040f68ece66433f4bf373",
            "placeholder": "​",
            "style": "IPY_MODEL_f696ef527fcf4f50a2665f34924ea5bd",
            "value": " 3/3 [00:34&lt;00:00, 11.46s/it]"
          }
        },
        "72c43a5037cc41b3a0ea31cfc575ba75": {
          "model_module": "@jupyter-widgets/base",
          "model_name": "LayoutModel",
          "model_module_version": "1.2.0",
          "state": {
            "_model_module": "@jupyter-widgets/base",
            "_model_module_version": "1.2.0",
            "_model_name": "LayoutModel",
            "_view_count": null,
            "_view_module": "@jupyter-widgets/base",
            "_view_module_version": "1.2.0",
            "_view_name": "LayoutView",
            "align_content": null,
            "align_items": null,
            "align_self": null,
            "border": null,
            "bottom": null,
            "display": null,
            "flex": null,
            "flex_flow": null,
            "grid_area": null,
            "grid_auto_columns": null,
            "grid_auto_flow": null,
            "grid_auto_rows": null,
            "grid_column": null,
            "grid_gap": null,
            "grid_row": null,
            "grid_template_areas": null,
            "grid_template_columns": null,
            "grid_template_rows": null,
            "height": null,
            "justify_content": null,
            "justify_items": null,
            "left": null,
            "margin": null,
            "max_height": null,
            "max_width": null,
            "min_height": null,
            "min_width": null,
            "object_fit": null,
            "object_position": null,
            "order": null,
            "overflow": null,
            "overflow_x": null,
            "overflow_y": null,
            "padding": null,
            "right": null,
            "top": null,
            "visibility": null,
            "width": null
          }
        },
        "e17ae06f62164d5f9c633d39c7d8314f": {
          "model_module": "@jupyter-widgets/base",
          "model_name": "LayoutModel",
          "model_module_version": "1.2.0",
          "state": {
            "_model_module": "@jupyter-widgets/base",
            "_model_module_version": "1.2.0",
            "_model_name": "LayoutModel",
            "_view_count": null,
            "_view_module": "@jupyter-widgets/base",
            "_view_module_version": "1.2.0",
            "_view_name": "LayoutView",
            "align_content": null,
            "align_items": null,
            "align_self": null,
            "border": null,
            "bottom": null,
            "display": null,
            "flex": null,
            "flex_flow": null,
            "grid_area": null,
            "grid_auto_columns": null,
            "grid_auto_flow": null,
            "grid_auto_rows": null,
            "grid_column": null,
            "grid_gap": null,
            "grid_row": null,
            "grid_template_areas": null,
            "grid_template_columns": null,
            "grid_template_rows": null,
            "height": null,
            "justify_content": null,
            "justify_items": null,
            "left": null,
            "margin": null,
            "max_height": null,
            "max_width": null,
            "min_height": null,
            "min_width": null,
            "object_fit": null,
            "object_position": null,
            "order": null,
            "overflow": null,
            "overflow_x": null,
            "overflow_y": null,
            "padding": null,
            "right": null,
            "top": null,
            "visibility": null,
            "width": null
          }
        },
        "10038faffe9047739758281a969b707d": {
          "model_module": "@jupyter-widgets/controls",
          "model_name": "DescriptionStyleModel",
          "model_module_version": "1.5.0",
          "state": {
            "_model_module": "@jupyter-widgets/controls",
            "_model_module_version": "1.5.0",
            "_model_name": "DescriptionStyleModel",
            "_view_count": null,
            "_view_module": "@jupyter-widgets/base",
            "_view_module_version": "1.2.0",
            "_view_name": "StyleView",
            "description_width": ""
          }
        },
        "fd5b3ac474af4afa9a77c52a31c1cd6e": {
          "model_module": "@jupyter-widgets/base",
          "model_name": "LayoutModel",
          "model_module_version": "1.2.0",
          "state": {
            "_model_module": "@jupyter-widgets/base",
            "_model_module_version": "1.2.0",
            "_model_name": "LayoutModel",
            "_view_count": null,
            "_view_module": "@jupyter-widgets/base",
            "_view_module_version": "1.2.0",
            "_view_name": "LayoutView",
            "align_content": null,
            "align_items": null,
            "align_self": null,
            "border": null,
            "bottom": null,
            "display": null,
            "flex": null,
            "flex_flow": null,
            "grid_area": null,
            "grid_auto_columns": null,
            "grid_auto_flow": null,
            "grid_auto_rows": null,
            "grid_column": null,
            "grid_gap": null,
            "grid_row": null,
            "grid_template_areas": null,
            "grid_template_columns": null,
            "grid_template_rows": null,
            "height": null,
            "justify_content": null,
            "justify_items": null,
            "left": null,
            "margin": null,
            "max_height": null,
            "max_width": null,
            "min_height": null,
            "min_width": null,
            "object_fit": null,
            "object_position": null,
            "order": null,
            "overflow": null,
            "overflow_x": null,
            "overflow_y": null,
            "padding": null,
            "right": null,
            "top": null,
            "visibility": null,
            "width": null
          }
        },
        "a8a336d67ca0405c992f353ddad6c95a": {
          "model_module": "@jupyter-widgets/controls",
          "model_name": "ProgressStyleModel",
          "model_module_version": "1.5.0",
          "state": {
            "_model_module": "@jupyter-widgets/controls",
            "_model_module_version": "1.5.0",
            "_model_name": "ProgressStyleModel",
            "_view_count": null,
            "_view_module": "@jupyter-widgets/base",
            "_view_module_version": "1.2.0",
            "_view_name": "StyleView",
            "bar_color": null,
            "description_width": ""
          }
        },
        "1ba5e871b0b040f68ece66433f4bf373": {
          "model_module": "@jupyter-widgets/base",
          "model_name": "LayoutModel",
          "model_module_version": "1.2.0",
          "state": {
            "_model_module": "@jupyter-widgets/base",
            "_model_module_version": "1.2.0",
            "_model_name": "LayoutModel",
            "_view_count": null,
            "_view_module": "@jupyter-widgets/base",
            "_view_module_version": "1.2.0",
            "_view_name": "LayoutView",
            "align_content": null,
            "align_items": null,
            "align_self": null,
            "border": null,
            "bottom": null,
            "display": null,
            "flex": null,
            "flex_flow": null,
            "grid_area": null,
            "grid_auto_columns": null,
            "grid_auto_flow": null,
            "grid_auto_rows": null,
            "grid_column": null,
            "grid_gap": null,
            "grid_row": null,
            "grid_template_areas": null,
            "grid_template_columns": null,
            "grid_template_rows": null,
            "height": null,
            "justify_content": null,
            "justify_items": null,
            "left": null,
            "margin": null,
            "max_height": null,
            "max_width": null,
            "min_height": null,
            "min_width": null,
            "object_fit": null,
            "object_position": null,
            "order": null,
            "overflow": null,
            "overflow_x": null,
            "overflow_y": null,
            "padding": null,
            "right": null,
            "top": null,
            "visibility": null,
            "width": null
          }
        },
        "f696ef527fcf4f50a2665f34924ea5bd": {
          "model_module": "@jupyter-widgets/controls",
          "model_name": "DescriptionStyleModel",
          "model_module_version": "1.5.0",
          "state": {
            "_model_module": "@jupyter-widgets/controls",
            "_model_module_version": "1.5.0",
            "_model_name": "DescriptionStyleModel",
            "_view_count": null,
            "_view_module": "@jupyter-widgets/base",
            "_view_module_version": "1.2.0",
            "_view_name": "StyleView",
            "description_width": ""
          }
        },
        "c15b9bd83ea64063bcf6a0c4331281bf": {
          "model_module": "@jupyter-widgets/controls",
          "model_name": "HBoxModel",
          "model_module_version": "1.5.0",
          "state": {
            "_dom_classes": [],
            "_model_module": "@jupyter-widgets/controls",
            "_model_module_version": "1.5.0",
            "_model_name": "HBoxModel",
            "_view_count": null,
            "_view_module": "@jupyter-widgets/controls",
            "_view_module_version": "1.5.0",
            "_view_name": "HBoxView",
            "box_style": "",
            "children": [
              "IPY_MODEL_ab60ddb5906c43c78b371b29bafe3b15",
              "IPY_MODEL_c05a4faf062341b59b7ab5e43ec27276",
              "IPY_MODEL_9588744e8f3a475491a95e7b45332a4c"
            ],
            "layout": "IPY_MODEL_e6202946c96a4fd480fe4a8bc85a229b"
          }
        },
        "ab60ddb5906c43c78b371b29bafe3b15": {
          "model_module": "@jupyter-widgets/controls",
          "model_name": "HTMLModel",
          "model_module_version": "1.5.0",
          "state": {
            "_dom_classes": [],
            "_model_module": "@jupyter-widgets/controls",
            "_model_module_version": "1.5.0",
            "_model_name": "HTMLModel",
            "_view_count": null,
            "_view_module": "@jupyter-widgets/controls",
            "_view_module_version": "1.5.0",
            "_view_name": "HTMLView",
            "description": "",
            "description_tooltip": null,
            "layout": "IPY_MODEL_ffb145cdfc914515819c76493b009c4c",
            "placeholder": "​",
            "style": "IPY_MODEL_6c212b9fbf9b4ceb930a0a03eca3ecb9",
            "value": "100%"
          }
        },
        "c05a4faf062341b59b7ab5e43ec27276": {
          "model_module": "@jupyter-widgets/controls",
          "model_name": "FloatProgressModel",
          "model_module_version": "1.5.0",
          "state": {
            "_dom_classes": [],
            "_model_module": "@jupyter-widgets/controls",
            "_model_module_version": "1.5.0",
            "_model_name": "FloatProgressModel",
            "_view_count": null,
            "_view_module": "@jupyter-widgets/controls",
            "_view_module_version": "1.5.0",
            "_view_name": "ProgressView",
            "bar_style": "success",
            "description": "",
            "description_tooltip": null,
            "layout": "IPY_MODEL_76d14ee5341a4750baf0b47a72b578e5",
            "max": 313,
            "min": 0,
            "orientation": "horizontal",
            "style": "IPY_MODEL_df882334abc64391bb8eb2e7479a7256",
            "value": 313
          }
        },
        "9588744e8f3a475491a95e7b45332a4c": {
          "model_module": "@jupyter-widgets/controls",
          "model_name": "HTMLModel",
          "model_module_version": "1.5.0",
          "state": {
            "_dom_classes": [],
            "_model_module": "@jupyter-widgets/controls",
            "_model_module_version": "1.5.0",
            "_model_name": "HTMLModel",
            "_view_count": null,
            "_view_module": "@jupyter-widgets/controls",
            "_view_module_version": "1.5.0",
            "_view_name": "HTMLView",
            "description": "",
            "description_tooltip": null,
            "layout": "IPY_MODEL_77412301983a44719dd0f8be634ffe8e",
            "placeholder": "​",
            "style": "IPY_MODEL_1b617c2d299a4d519055f21f340ad07f",
            "value": " 313/313 [00:01&lt;00:00, 275.47it/s]"
          }
        },
        "e6202946c96a4fd480fe4a8bc85a229b": {
          "model_module": "@jupyter-widgets/base",
          "model_name": "LayoutModel",
          "model_module_version": "1.2.0",
          "state": {
            "_model_module": "@jupyter-widgets/base",
            "_model_module_version": "1.2.0",
            "_model_name": "LayoutModel",
            "_view_count": null,
            "_view_module": "@jupyter-widgets/base",
            "_view_module_version": "1.2.0",
            "_view_name": "LayoutView",
            "align_content": null,
            "align_items": null,
            "align_self": null,
            "border": null,
            "bottom": null,
            "display": null,
            "flex": null,
            "flex_flow": null,
            "grid_area": null,
            "grid_auto_columns": null,
            "grid_auto_flow": null,
            "grid_auto_rows": null,
            "grid_column": null,
            "grid_gap": null,
            "grid_row": null,
            "grid_template_areas": null,
            "grid_template_columns": null,
            "grid_template_rows": null,
            "height": null,
            "justify_content": null,
            "justify_items": null,
            "left": null,
            "margin": null,
            "max_height": null,
            "max_width": null,
            "min_height": null,
            "min_width": null,
            "object_fit": null,
            "object_position": null,
            "order": null,
            "overflow": null,
            "overflow_x": null,
            "overflow_y": null,
            "padding": null,
            "right": null,
            "top": null,
            "visibility": null,
            "width": null
          }
        },
        "ffb145cdfc914515819c76493b009c4c": {
          "model_module": "@jupyter-widgets/base",
          "model_name": "LayoutModel",
          "model_module_version": "1.2.0",
          "state": {
            "_model_module": "@jupyter-widgets/base",
            "_model_module_version": "1.2.0",
            "_model_name": "LayoutModel",
            "_view_count": null,
            "_view_module": "@jupyter-widgets/base",
            "_view_module_version": "1.2.0",
            "_view_name": "LayoutView",
            "align_content": null,
            "align_items": null,
            "align_self": null,
            "border": null,
            "bottom": null,
            "display": null,
            "flex": null,
            "flex_flow": null,
            "grid_area": null,
            "grid_auto_columns": null,
            "grid_auto_flow": null,
            "grid_auto_rows": null,
            "grid_column": null,
            "grid_gap": null,
            "grid_row": null,
            "grid_template_areas": null,
            "grid_template_columns": null,
            "grid_template_rows": null,
            "height": null,
            "justify_content": null,
            "justify_items": null,
            "left": null,
            "margin": null,
            "max_height": null,
            "max_width": null,
            "min_height": null,
            "min_width": null,
            "object_fit": null,
            "object_position": null,
            "order": null,
            "overflow": null,
            "overflow_x": null,
            "overflow_y": null,
            "padding": null,
            "right": null,
            "top": null,
            "visibility": null,
            "width": null
          }
        },
        "6c212b9fbf9b4ceb930a0a03eca3ecb9": {
          "model_module": "@jupyter-widgets/controls",
          "model_name": "DescriptionStyleModel",
          "model_module_version": "1.5.0",
          "state": {
            "_model_module": "@jupyter-widgets/controls",
            "_model_module_version": "1.5.0",
            "_model_name": "DescriptionStyleModel",
            "_view_count": null,
            "_view_module": "@jupyter-widgets/base",
            "_view_module_version": "1.2.0",
            "_view_name": "StyleView",
            "description_width": ""
          }
        },
        "76d14ee5341a4750baf0b47a72b578e5": {
          "model_module": "@jupyter-widgets/base",
          "model_name": "LayoutModel",
          "model_module_version": "1.2.0",
          "state": {
            "_model_module": "@jupyter-widgets/base",
            "_model_module_version": "1.2.0",
            "_model_name": "LayoutModel",
            "_view_count": null,
            "_view_module": "@jupyter-widgets/base",
            "_view_module_version": "1.2.0",
            "_view_name": "LayoutView",
            "align_content": null,
            "align_items": null,
            "align_self": null,
            "border": null,
            "bottom": null,
            "display": null,
            "flex": null,
            "flex_flow": null,
            "grid_area": null,
            "grid_auto_columns": null,
            "grid_auto_flow": null,
            "grid_auto_rows": null,
            "grid_column": null,
            "grid_gap": null,
            "grid_row": null,
            "grid_template_areas": null,
            "grid_template_columns": null,
            "grid_template_rows": null,
            "height": null,
            "justify_content": null,
            "justify_items": null,
            "left": null,
            "margin": null,
            "max_height": null,
            "max_width": null,
            "min_height": null,
            "min_width": null,
            "object_fit": null,
            "object_position": null,
            "order": null,
            "overflow": null,
            "overflow_x": null,
            "overflow_y": null,
            "padding": null,
            "right": null,
            "top": null,
            "visibility": null,
            "width": null
          }
        },
        "df882334abc64391bb8eb2e7479a7256": {
          "model_module": "@jupyter-widgets/controls",
          "model_name": "ProgressStyleModel",
          "model_module_version": "1.5.0",
          "state": {
            "_model_module": "@jupyter-widgets/controls",
            "_model_module_version": "1.5.0",
            "_model_name": "ProgressStyleModel",
            "_view_count": null,
            "_view_module": "@jupyter-widgets/base",
            "_view_module_version": "1.2.0",
            "_view_name": "StyleView",
            "bar_color": null,
            "description_width": ""
          }
        },
        "77412301983a44719dd0f8be634ffe8e": {
          "model_module": "@jupyter-widgets/base",
          "model_name": "LayoutModel",
          "model_module_version": "1.2.0",
          "state": {
            "_model_module": "@jupyter-widgets/base",
            "_model_module_version": "1.2.0",
            "_model_name": "LayoutModel",
            "_view_count": null,
            "_view_module": "@jupyter-widgets/base",
            "_view_module_version": "1.2.0",
            "_view_name": "LayoutView",
            "align_content": null,
            "align_items": null,
            "align_self": null,
            "border": null,
            "bottom": null,
            "display": null,
            "flex": null,
            "flex_flow": null,
            "grid_area": null,
            "grid_auto_columns": null,
            "grid_auto_flow": null,
            "grid_auto_rows": null,
            "grid_column": null,
            "grid_gap": null,
            "grid_row": null,
            "grid_template_areas": null,
            "grid_template_columns": null,
            "grid_template_rows": null,
            "height": null,
            "justify_content": null,
            "justify_items": null,
            "left": null,
            "margin": null,
            "max_height": null,
            "max_width": null,
            "min_height": null,
            "min_width": null,
            "object_fit": null,
            "object_position": null,
            "order": null,
            "overflow": null,
            "overflow_x": null,
            "overflow_y": null,
            "padding": null,
            "right": null,
            "top": null,
            "visibility": null,
            "width": null
          }
        },
        "1b617c2d299a4d519055f21f340ad07f": {
          "model_module": "@jupyter-widgets/controls",
          "model_name": "DescriptionStyleModel",
          "model_module_version": "1.5.0",
          "state": {
            "_model_module": "@jupyter-widgets/controls",
            "_model_module_version": "1.5.0",
            "_model_name": "DescriptionStyleModel",
            "_view_count": null,
            "_view_module": "@jupyter-widgets/base",
            "_view_module_version": "1.2.0",
            "_view_name": "StyleView",
            "description_width": ""
          }
        },
        "64aaf6c41c8349afa10dc91732d9e3e8": {
          "model_module": "@jupyter-widgets/controls",
          "model_name": "HBoxModel",
          "model_module_version": "1.5.0",
          "state": {
            "_dom_classes": [],
            "_model_module": "@jupyter-widgets/controls",
            "_model_module_version": "1.5.0",
            "_model_name": "HBoxModel",
            "_view_count": null,
            "_view_module": "@jupyter-widgets/controls",
            "_view_module_version": "1.5.0",
            "_view_name": "HBoxView",
            "box_style": "",
            "children": [
              "IPY_MODEL_8e027b5bef234e5c81968dd893cd2231",
              "IPY_MODEL_200dd8ea3132479d971faa7fa678ab2b",
              "IPY_MODEL_1eb68209843b4a4ead0c2585a218a4a5"
            ],
            "layout": "IPY_MODEL_6ea52ce1970f4b33b4d1c1c49b9e19f9"
          }
        },
        "8e027b5bef234e5c81968dd893cd2231": {
          "model_module": "@jupyter-widgets/controls",
          "model_name": "HTMLModel",
          "model_module_version": "1.5.0",
          "state": {
            "_dom_classes": [],
            "_model_module": "@jupyter-widgets/controls",
            "_model_module_version": "1.5.0",
            "_model_name": "HTMLModel",
            "_view_count": null,
            "_view_module": "@jupyter-widgets/controls",
            "_view_module_version": "1.5.0",
            "_view_name": "HTMLView",
            "description": "",
            "description_tooltip": null,
            "layout": "IPY_MODEL_85e8b44207e743c2971000fac7353e27",
            "placeholder": "​",
            "style": "IPY_MODEL_b949fa68431d4ca99b438767a45acbe0",
            "value": "100%"
          }
        },
        "200dd8ea3132479d971faa7fa678ab2b": {
          "model_module": "@jupyter-widgets/controls",
          "model_name": "FloatProgressModel",
          "model_module_version": "1.5.0",
          "state": {
            "_dom_classes": [],
            "_model_module": "@jupyter-widgets/controls",
            "_model_module_version": "1.5.0",
            "_model_name": "FloatProgressModel",
            "_view_count": null,
            "_view_module": "@jupyter-widgets/controls",
            "_view_module_version": "1.5.0",
            "_view_name": "ProgressView",
            "bar_style": "success",
            "description": "",
            "description_tooltip": null,
            "layout": "IPY_MODEL_4632cd3560ac4a3f8c3b8b3d439d131b",
            "max": 313,
            "min": 0,
            "orientation": "horizontal",
            "style": "IPY_MODEL_9dc7ac63b8444b0eba5493fb784b28dd",
            "value": 313
          }
        },
        "1eb68209843b4a4ead0c2585a218a4a5": {
          "model_module": "@jupyter-widgets/controls",
          "model_name": "HTMLModel",
          "model_module_version": "1.5.0",
          "state": {
            "_dom_classes": [],
            "_model_module": "@jupyter-widgets/controls",
            "_model_module_version": "1.5.0",
            "_model_name": "HTMLModel",
            "_view_count": null,
            "_view_module": "@jupyter-widgets/controls",
            "_view_module_version": "1.5.0",
            "_view_name": "HTMLView",
            "description": "",
            "description_tooltip": null,
            "layout": "IPY_MODEL_246f178732e8458aa08ff37477ab2e68",
            "placeholder": "​",
            "style": "IPY_MODEL_e870d9f8fa1b4cc1ab9010596b05a100",
            "value": " 313/313 [00:01&lt;00:00, 315.50it/s]"
          }
        },
        "6ea52ce1970f4b33b4d1c1c49b9e19f9": {
          "model_module": "@jupyter-widgets/base",
          "model_name": "LayoutModel",
          "model_module_version": "1.2.0",
          "state": {
            "_model_module": "@jupyter-widgets/base",
            "_model_module_version": "1.2.0",
            "_model_name": "LayoutModel",
            "_view_count": null,
            "_view_module": "@jupyter-widgets/base",
            "_view_module_version": "1.2.0",
            "_view_name": "LayoutView",
            "align_content": null,
            "align_items": null,
            "align_self": null,
            "border": null,
            "bottom": null,
            "display": null,
            "flex": null,
            "flex_flow": null,
            "grid_area": null,
            "grid_auto_columns": null,
            "grid_auto_flow": null,
            "grid_auto_rows": null,
            "grid_column": null,
            "grid_gap": null,
            "grid_row": null,
            "grid_template_areas": null,
            "grid_template_columns": null,
            "grid_template_rows": null,
            "height": null,
            "justify_content": null,
            "justify_items": null,
            "left": null,
            "margin": null,
            "max_height": null,
            "max_width": null,
            "min_height": null,
            "min_width": null,
            "object_fit": null,
            "object_position": null,
            "order": null,
            "overflow": null,
            "overflow_x": null,
            "overflow_y": null,
            "padding": null,
            "right": null,
            "top": null,
            "visibility": null,
            "width": null
          }
        },
        "85e8b44207e743c2971000fac7353e27": {
          "model_module": "@jupyter-widgets/base",
          "model_name": "LayoutModel",
          "model_module_version": "1.2.0",
          "state": {
            "_model_module": "@jupyter-widgets/base",
            "_model_module_version": "1.2.0",
            "_model_name": "LayoutModel",
            "_view_count": null,
            "_view_module": "@jupyter-widgets/base",
            "_view_module_version": "1.2.0",
            "_view_name": "LayoutView",
            "align_content": null,
            "align_items": null,
            "align_self": null,
            "border": null,
            "bottom": null,
            "display": null,
            "flex": null,
            "flex_flow": null,
            "grid_area": null,
            "grid_auto_columns": null,
            "grid_auto_flow": null,
            "grid_auto_rows": null,
            "grid_column": null,
            "grid_gap": null,
            "grid_row": null,
            "grid_template_areas": null,
            "grid_template_columns": null,
            "grid_template_rows": null,
            "height": null,
            "justify_content": null,
            "justify_items": null,
            "left": null,
            "margin": null,
            "max_height": null,
            "max_width": null,
            "min_height": null,
            "min_width": null,
            "object_fit": null,
            "object_position": null,
            "order": null,
            "overflow": null,
            "overflow_x": null,
            "overflow_y": null,
            "padding": null,
            "right": null,
            "top": null,
            "visibility": null,
            "width": null
          }
        },
        "b949fa68431d4ca99b438767a45acbe0": {
          "model_module": "@jupyter-widgets/controls",
          "model_name": "DescriptionStyleModel",
          "model_module_version": "1.5.0",
          "state": {
            "_model_module": "@jupyter-widgets/controls",
            "_model_module_version": "1.5.0",
            "_model_name": "DescriptionStyleModel",
            "_view_count": null,
            "_view_module": "@jupyter-widgets/base",
            "_view_module_version": "1.2.0",
            "_view_name": "StyleView",
            "description_width": ""
          }
        },
        "4632cd3560ac4a3f8c3b8b3d439d131b": {
          "model_module": "@jupyter-widgets/base",
          "model_name": "LayoutModel",
          "model_module_version": "1.2.0",
          "state": {
            "_model_module": "@jupyter-widgets/base",
            "_model_module_version": "1.2.0",
            "_model_name": "LayoutModel",
            "_view_count": null,
            "_view_module": "@jupyter-widgets/base",
            "_view_module_version": "1.2.0",
            "_view_name": "LayoutView",
            "align_content": null,
            "align_items": null,
            "align_self": null,
            "border": null,
            "bottom": null,
            "display": null,
            "flex": null,
            "flex_flow": null,
            "grid_area": null,
            "grid_auto_columns": null,
            "grid_auto_flow": null,
            "grid_auto_rows": null,
            "grid_column": null,
            "grid_gap": null,
            "grid_row": null,
            "grid_template_areas": null,
            "grid_template_columns": null,
            "grid_template_rows": null,
            "height": null,
            "justify_content": null,
            "justify_items": null,
            "left": null,
            "margin": null,
            "max_height": null,
            "max_width": null,
            "min_height": null,
            "min_width": null,
            "object_fit": null,
            "object_position": null,
            "order": null,
            "overflow": null,
            "overflow_x": null,
            "overflow_y": null,
            "padding": null,
            "right": null,
            "top": null,
            "visibility": null,
            "width": null
          }
        },
        "9dc7ac63b8444b0eba5493fb784b28dd": {
          "model_module": "@jupyter-widgets/controls",
          "model_name": "ProgressStyleModel",
          "model_module_version": "1.5.0",
          "state": {
            "_model_module": "@jupyter-widgets/controls",
            "_model_module_version": "1.5.0",
            "_model_name": "ProgressStyleModel",
            "_view_count": null,
            "_view_module": "@jupyter-widgets/base",
            "_view_module_version": "1.2.0",
            "_view_name": "StyleView",
            "bar_color": null,
            "description_width": ""
          }
        },
        "246f178732e8458aa08ff37477ab2e68": {
          "model_module": "@jupyter-widgets/base",
          "model_name": "LayoutModel",
          "model_module_version": "1.2.0",
          "state": {
            "_model_module": "@jupyter-widgets/base",
            "_model_module_version": "1.2.0",
            "_model_name": "LayoutModel",
            "_view_count": null,
            "_view_module": "@jupyter-widgets/base",
            "_view_module_version": "1.2.0",
            "_view_name": "LayoutView",
            "align_content": null,
            "align_items": null,
            "align_self": null,
            "border": null,
            "bottom": null,
            "display": null,
            "flex": null,
            "flex_flow": null,
            "grid_area": null,
            "grid_auto_columns": null,
            "grid_auto_flow": null,
            "grid_auto_rows": null,
            "grid_column": null,
            "grid_gap": null,
            "grid_row": null,
            "grid_template_areas": null,
            "grid_template_columns": null,
            "grid_template_rows": null,
            "height": null,
            "justify_content": null,
            "justify_items": null,
            "left": null,
            "margin": null,
            "max_height": null,
            "max_width": null,
            "min_height": null,
            "min_width": null,
            "object_fit": null,
            "object_position": null,
            "order": null,
            "overflow": null,
            "overflow_x": null,
            "overflow_y": null,
            "padding": null,
            "right": null,
            "top": null,
            "visibility": null,
            "width": null
          }
        },
        "e870d9f8fa1b4cc1ab9010596b05a100": {
          "model_module": "@jupyter-widgets/controls",
          "model_name": "DescriptionStyleModel",
          "model_module_version": "1.5.0",
          "state": {
            "_model_module": "@jupyter-widgets/controls",
            "_model_module_version": "1.5.0",
            "_model_name": "DescriptionStyleModel",
            "_view_count": null,
            "_view_module": "@jupyter-widgets/base",
            "_view_module_version": "1.2.0",
            "_view_name": "StyleView",
            "description_width": ""
          }
        },
        "737216fd552b4437824a20599e94f170": {
          "model_module": "@jupyter-widgets/controls",
          "model_name": "HBoxModel",
          "model_module_version": "1.5.0",
          "state": {
            "_dom_classes": [],
            "_model_module": "@jupyter-widgets/controls",
            "_model_module_version": "1.5.0",
            "_model_name": "HBoxModel",
            "_view_count": null,
            "_view_module": "@jupyter-widgets/controls",
            "_view_module_version": "1.5.0",
            "_view_name": "HBoxView",
            "box_style": "",
            "children": [
              "IPY_MODEL_474776ef24ad4a55aef2fd3abca6e15e",
              "IPY_MODEL_f2c4ce834e294fc6b9a2d6c5dc4227e6",
              "IPY_MODEL_88b97a1d9a2e420e9629d1f83657c770"
            ],
            "layout": "IPY_MODEL_72d09346d3774add81f4717760c36bd9"
          }
        },
        "474776ef24ad4a55aef2fd3abca6e15e": {
          "model_module": "@jupyter-widgets/controls",
          "model_name": "HTMLModel",
          "model_module_version": "1.5.0",
          "state": {
            "_dom_classes": [],
            "_model_module": "@jupyter-widgets/controls",
            "_model_module_version": "1.5.0",
            "_model_name": "HTMLModel",
            "_view_count": null,
            "_view_module": "@jupyter-widgets/controls",
            "_view_module_version": "1.5.0",
            "_view_name": "HTMLView",
            "description": "",
            "description_tooltip": null,
            "layout": "IPY_MODEL_b5bc824b5bfb4f69b616d027fabb0d62",
            "placeholder": "​",
            "style": "IPY_MODEL_14db1552d8f5462caa5436930eacb989",
            "value": "Making prediction...: 100%"
          }
        },
        "f2c4ce834e294fc6b9a2d6c5dc4227e6": {
          "model_module": "@jupyter-widgets/controls",
          "model_name": "FloatProgressModel",
          "model_module_version": "1.5.0",
          "state": {
            "_dom_classes": [],
            "_model_module": "@jupyter-widgets/controls",
            "_model_module_version": "1.5.0",
            "_model_name": "FloatProgressModel",
            "_view_count": null,
            "_view_module": "@jupyter-widgets/controls",
            "_view_module_version": "1.5.0",
            "_view_name": "ProgressView",
            "bar_style": "success",
            "description": "",
            "description_tooltip": null,
            "layout": "IPY_MODEL_798d58d20b7a4d91825fe9c6fd6f4aa3",
            "max": 313,
            "min": 0,
            "orientation": "horizontal",
            "style": "IPY_MODEL_c858a10c7f534ca2b721897c356c413d",
            "value": 313
          }
        },
        "88b97a1d9a2e420e9629d1f83657c770": {
          "model_module": "@jupyter-widgets/controls",
          "model_name": "HTMLModel",
          "model_module_version": "1.5.0",
          "state": {
            "_dom_classes": [],
            "_model_module": "@jupyter-widgets/controls",
            "_model_module_version": "1.5.0",
            "_model_name": "HTMLModel",
            "_view_count": null,
            "_view_module": "@jupyter-widgets/controls",
            "_view_module_version": "1.5.0",
            "_view_name": "HTMLView",
            "description": "",
            "description_tooltip": null,
            "layout": "IPY_MODEL_6090176a36fa4c4a9c2c7d44a04964bf",
            "placeholder": "​",
            "style": "IPY_MODEL_a258815b3ed24b499ade4a6f2d7ef917",
            "value": " 313/313 [00:01&lt;00:00, 230.78it/s]"
          }
        },
        "72d09346d3774add81f4717760c36bd9": {
          "model_module": "@jupyter-widgets/base",
          "model_name": "LayoutModel",
          "model_module_version": "1.2.0",
          "state": {
            "_model_module": "@jupyter-widgets/base",
            "_model_module_version": "1.2.0",
            "_model_name": "LayoutModel",
            "_view_count": null,
            "_view_module": "@jupyter-widgets/base",
            "_view_module_version": "1.2.0",
            "_view_name": "LayoutView",
            "align_content": null,
            "align_items": null,
            "align_self": null,
            "border": null,
            "bottom": null,
            "display": null,
            "flex": null,
            "flex_flow": null,
            "grid_area": null,
            "grid_auto_columns": null,
            "grid_auto_flow": null,
            "grid_auto_rows": null,
            "grid_column": null,
            "grid_gap": null,
            "grid_row": null,
            "grid_template_areas": null,
            "grid_template_columns": null,
            "grid_template_rows": null,
            "height": null,
            "justify_content": null,
            "justify_items": null,
            "left": null,
            "margin": null,
            "max_height": null,
            "max_width": null,
            "min_height": null,
            "min_width": null,
            "object_fit": null,
            "object_position": null,
            "order": null,
            "overflow": null,
            "overflow_x": null,
            "overflow_y": null,
            "padding": null,
            "right": null,
            "top": null,
            "visibility": null,
            "width": null
          }
        },
        "b5bc824b5bfb4f69b616d027fabb0d62": {
          "model_module": "@jupyter-widgets/base",
          "model_name": "LayoutModel",
          "model_module_version": "1.2.0",
          "state": {
            "_model_module": "@jupyter-widgets/base",
            "_model_module_version": "1.2.0",
            "_model_name": "LayoutModel",
            "_view_count": null,
            "_view_module": "@jupyter-widgets/base",
            "_view_module_version": "1.2.0",
            "_view_name": "LayoutView",
            "align_content": null,
            "align_items": null,
            "align_self": null,
            "border": null,
            "bottom": null,
            "display": null,
            "flex": null,
            "flex_flow": null,
            "grid_area": null,
            "grid_auto_columns": null,
            "grid_auto_flow": null,
            "grid_auto_rows": null,
            "grid_column": null,
            "grid_gap": null,
            "grid_row": null,
            "grid_template_areas": null,
            "grid_template_columns": null,
            "grid_template_rows": null,
            "height": null,
            "justify_content": null,
            "justify_items": null,
            "left": null,
            "margin": null,
            "max_height": null,
            "max_width": null,
            "min_height": null,
            "min_width": null,
            "object_fit": null,
            "object_position": null,
            "order": null,
            "overflow": null,
            "overflow_x": null,
            "overflow_y": null,
            "padding": null,
            "right": null,
            "top": null,
            "visibility": null,
            "width": null
          }
        },
        "14db1552d8f5462caa5436930eacb989": {
          "model_module": "@jupyter-widgets/controls",
          "model_name": "DescriptionStyleModel",
          "model_module_version": "1.5.0",
          "state": {
            "_model_module": "@jupyter-widgets/controls",
            "_model_module_version": "1.5.0",
            "_model_name": "DescriptionStyleModel",
            "_view_count": null,
            "_view_module": "@jupyter-widgets/base",
            "_view_module_version": "1.2.0",
            "_view_name": "StyleView",
            "description_width": ""
          }
        },
        "798d58d20b7a4d91825fe9c6fd6f4aa3": {
          "model_module": "@jupyter-widgets/base",
          "model_name": "LayoutModel",
          "model_module_version": "1.2.0",
          "state": {
            "_model_module": "@jupyter-widgets/base",
            "_model_module_version": "1.2.0",
            "_model_name": "LayoutModel",
            "_view_count": null,
            "_view_module": "@jupyter-widgets/base",
            "_view_module_version": "1.2.0",
            "_view_name": "LayoutView",
            "align_content": null,
            "align_items": null,
            "align_self": null,
            "border": null,
            "bottom": null,
            "display": null,
            "flex": null,
            "flex_flow": null,
            "grid_area": null,
            "grid_auto_columns": null,
            "grid_auto_flow": null,
            "grid_auto_rows": null,
            "grid_column": null,
            "grid_gap": null,
            "grid_row": null,
            "grid_template_areas": null,
            "grid_template_columns": null,
            "grid_template_rows": null,
            "height": null,
            "justify_content": null,
            "justify_items": null,
            "left": null,
            "margin": null,
            "max_height": null,
            "max_width": null,
            "min_height": null,
            "min_width": null,
            "object_fit": null,
            "object_position": null,
            "order": null,
            "overflow": null,
            "overflow_x": null,
            "overflow_y": null,
            "padding": null,
            "right": null,
            "top": null,
            "visibility": null,
            "width": null
          }
        },
        "c858a10c7f534ca2b721897c356c413d": {
          "model_module": "@jupyter-widgets/controls",
          "model_name": "ProgressStyleModel",
          "model_module_version": "1.5.0",
          "state": {
            "_model_module": "@jupyter-widgets/controls",
            "_model_module_version": "1.5.0",
            "_model_name": "ProgressStyleModel",
            "_view_count": null,
            "_view_module": "@jupyter-widgets/base",
            "_view_module_version": "1.2.0",
            "_view_name": "StyleView",
            "bar_color": null,
            "description_width": ""
          }
        },
        "6090176a36fa4c4a9c2c7d44a04964bf": {
          "model_module": "@jupyter-widgets/base",
          "model_name": "LayoutModel",
          "model_module_version": "1.2.0",
          "state": {
            "_model_module": "@jupyter-widgets/base",
            "_model_module_version": "1.2.0",
            "_model_name": "LayoutModel",
            "_view_count": null,
            "_view_module": "@jupyter-widgets/base",
            "_view_module_version": "1.2.0",
            "_view_name": "LayoutView",
            "align_content": null,
            "align_items": null,
            "align_self": null,
            "border": null,
            "bottom": null,
            "display": null,
            "flex": null,
            "flex_flow": null,
            "grid_area": null,
            "grid_auto_columns": null,
            "grid_auto_flow": null,
            "grid_auto_rows": null,
            "grid_column": null,
            "grid_gap": null,
            "grid_row": null,
            "grid_template_areas": null,
            "grid_template_columns": null,
            "grid_template_rows": null,
            "height": null,
            "justify_content": null,
            "justify_items": null,
            "left": null,
            "margin": null,
            "max_height": null,
            "max_width": null,
            "min_height": null,
            "min_width": null,
            "object_fit": null,
            "object_position": null,
            "order": null,
            "overflow": null,
            "overflow_x": null,
            "overflow_y": null,
            "padding": null,
            "right": null,
            "top": null,
            "visibility": null,
            "width": null
          }
        },
        "a258815b3ed24b499ade4a6f2d7ef917": {
          "model_module": "@jupyter-widgets/controls",
          "model_name": "DescriptionStyleModel",
          "model_module_version": "1.5.0",
          "state": {
            "_model_module": "@jupyter-widgets/controls",
            "_model_module_version": "1.5.0",
            "_model_name": "DescriptionStyleModel",
            "_view_count": null,
            "_view_module": "@jupyter-widgets/base",
            "_view_module_version": "1.2.0",
            "_view_name": "StyleView",
            "description_width": ""
          }
        },
        "f354f42540f44b8ab6697328b5e9104a": {
          "model_module": "@jupyter-widgets/controls",
          "model_name": "HBoxModel",
          "model_module_version": "1.5.0",
          "state": {
            "_dom_classes": [],
            "_model_module": "@jupyter-widgets/controls",
            "_model_module_version": "1.5.0",
            "_model_name": "HBoxModel",
            "_view_count": null,
            "_view_module": "@jupyter-widgets/controls",
            "_view_module_version": "1.5.0",
            "_view_name": "HBoxView",
            "box_style": "",
            "children": [
              "IPY_MODEL_b6a4af43e8354315bc0fe56c1c40ed2a",
              "IPY_MODEL_617ae7fb33bd47a9b740dc48859a7f44",
              "IPY_MODEL_cf0670fe72bc4395a51cff37cf6ad672"
            ],
            "layout": "IPY_MODEL_649e509aa3b54af1972e079e56fe34cf"
          }
        },
        "b6a4af43e8354315bc0fe56c1c40ed2a": {
          "model_module": "@jupyter-widgets/controls",
          "model_name": "HTMLModel",
          "model_module_version": "1.5.0",
          "state": {
            "_dom_classes": [],
            "_model_module": "@jupyter-widgets/controls",
            "_model_module_version": "1.5.0",
            "_model_name": "HTMLModel",
            "_view_count": null,
            "_view_module": "@jupyter-widgets/controls",
            "_view_module_version": "1.5.0",
            "_view_name": "HTMLView",
            "description": "",
            "description_tooltip": null,
            "layout": "IPY_MODEL_6c942790f2b44c94a936831ebcaba760",
            "placeholder": "​",
            "style": "IPY_MODEL_599d8b9d51544ea195834893fc86bec8",
            "value": "100%"
          }
        },
        "617ae7fb33bd47a9b740dc48859a7f44": {
          "model_module": "@jupyter-widgets/controls",
          "model_name": "FloatProgressModel",
          "model_module_version": "1.5.0",
          "state": {
            "_dom_classes": [],
            "_model_module": "@jupyter-widgets/controls",
            "_model_module_version": "1.5.0",
            "_model_name": "FloatProgressModel",
            "_view_count": null,
            "_view_module": "@jupyter-widgets/controls",
            "_view_module_version": "1.5.0",
            "_view_name": "ProgressView",
            "bar_style": "success",
            "description": "",
            "description_tooltip": null,
            "layout": "IPY_MODEL_d5d1f76985f0429495cf74c1e3baac27",
            "max": 313,
            "min": 0,
            "orientation": "horizontal",
            "style": "IPY_MODEL_668fe2a074b14757b87ec238c2041b14",
            "value": 313
          }
        },
        "cf0670fe72bc4395a51cff37cf6ad672": {
          "model_module": "@jupyter-widgets/controls",
          "model_name": "HTMLModel",
          "model_module_version": "1.5.0",
          "state": {
            "_dom_classes": [],
            "_model_module": "@jupyter-widgets/controls",
            "_model_module_version": "1.5.0",
            "_model_name": "HTMLModel",
            "_view_count": null,
            "_view_module": "@jupyter-widgets/controls",
            "_view_module_version": "1.5.0",
            "_view_name": "HTMLView",
            "description": "",
            "description_tooltip": null,
            "layout": "IPY_MODEL_8b51a832c19e4ba0bc306f71ab155d0c",
            "placeholder": "​",
            "style": "IPY_MODEL_09b3c06482e94521975855f84be44d97",
            "value": " 313/313 [00:01&lt;00:00, 277.74it/s]"
          }
        },
        "649e509aa3b54af1972e079e56fe34cf": {
          "model_module": "@jupyter-widgets/base",
          "model_name": "LayoutModel",
          "model_module_version": "1.2.0",
          "state": {
            "_model_module": "@jupyter-widgets/base",
            "_model_module_version": "1.2.0",
            "_model_name": "LayoutModel",
            "_view_count": null,
            "_view_module": "@jupyter-widgets/base",
            "_view_module_version": "1.2.0",
            "_view_name": "LayoutView",
            "align_content": null,
            "align_items": null,
            "align_self": null,
            "border": null,
            "bottom": null,
            "display": null,
            "flex": null,
            "flex_flow": null,
            "grid_area": null,
            "grid_auto_columns": null,
            "grid_auto_flow": null,
            "grid_auto_rows": null,
            "grid_column": null,
            "grid_gap": null,
            "grid_row": null,
            "grid_template_areas": null,
            "grid_template_columns": null,
            "grid_template_rows": null,
            "height": null,
            "justify_content": null,
            "justify_items": null,
            "left": null,
            "margin": null,
            "max_height": null,
            "max_width": null,
            "min_height": null,
            "min_width": null,
            "object_fit": null,
            "object_position": null,
            "order": null,
            "overflow": null,
            "overflow_x": null,
            "overflow_y": null,
            "padding": null,
            "right": null,
            "top": null,
            "visibility": null,
            "width": null
          }
        },
        "6c942790f2b44c94a936831ebcaba760": {
          "model_module": "@jupyter-widgets/base",
          "model_name": "LayoutModel",
          "model_module_version": "1.2.0",
          "state": {
            "_model_module": "@jupyter-widgets/base",
            "_model_module_version": "1.2.0",
            "_model_name": "LayoutModel",
            "_view_count": null,
            "_view_module": "@jupyter-widgets/base",
            "_view_module_version": "1.2.0",
            "_view_name": "LayoutView",
            "align_content": null,
            "align_items": null,
            "align_self": null,
            "border": null,
            "bottom": null,
            "display": null,
            "flex": null,
            "flex_flow": null,
            "grid_area": null,
            "grid_auto_columns": null,
            "grid_auto_flow": null,
            "grid_auto_rows": null,
            "grid_column": null,
            "grid_gap": null,
            "grid_row": null,
            "grid_template_areas": null,
            "grid_template_columns": null,
            "grid_template_rows": null,
            "height": null,
            "justify_content": null,
            "justify_items": null,
            "left": null,
            "margin": null,
            "max_height": null,
            "max_width": null,
            "min_height": null,
            "min_width": null,
            "object_fit": null,
            "object_position": null,
            "order": null,
            "overflow": null,
            "overflow_x": null,
            "overflow_y": null,
            "padding": null,
            "right": null,
            "top": null,
            "visibility": null,
            "width": null
          }
        },
        "599d8b9d51544ea195834893fc86bec8": {
          "model_module": "@jupyter-widgets/controls",
          "model_name": "DescriptionStyleModel",
          "model_module_version": "1.5.0",
          "state": {
            "_model_module": "@jupyter-widgets/controls",
            "_model_module_version": "1.5.0",
            "_model_name": "DescriptionStyleModel",
            "_view_count": null,
            "_view_module": "@jupyter-widgets/base",
            "_view_module_version": "1.2.0",
            "_view_name": "StyleView",
            "description_width": ""
          }
        },
        "d5d1f76985f0429495cf74c1e3baac27": {
          "model_module": "@jupyter-widgets/base",
          "model_name": "LayoutModel",
          "model_module_version": "1.2.0",
          "state": {
            "_model_module": "@jupyter-widgets/base",
            "_model_module_version": "1.2.0",
            "_model_name": "LayoutModel",
            "_view_count": null,
            "_view_module": "@jupyter-widgets/base",
            "_view_module_version": "1.2.0",
            "_view_name": "LayoutView",
            "align_content": null,
            "align_items": null,
            "align_self": null,
            "border": null,
            "bottom": null,
            "display": null,
            "flex": null,
            "flex_flow": null,
            "grid_area": null,
            "grid_auto_columns": null,
            "grid_auto_flow": null,
            "grid_auto_rows": null,
            "grid_column": null,
            "grid_gap": null,
            "grid_row": null,
            "grid_template_areas": null,
            "grid_template_columns": null,
            "grid_template_rows": null,
            "height": null,
            "justify_content": null,
            "justify_items": null,
            "left": null,
            "margin": null,
            "max_height": null,
            "max_width": null,
            "min_height": null,
            "min_width": null,
            "object_fit": null,
            "object_position": null,
            "order": null,
            "overflow": null,
            "overflow_x": null,
            "overflow_y": null,
            "padding": null,
            "right": null,
            "top": null,
            "visibility": null,
            "width": null
          }
        },
        "668fe2a074b14757b87ec238c2041b14": {
          "model_module": "@jupyter-widgets/controls",
          "model_name": "ProgressStyleModel",
          "model_module_version": "1.5.0",
          "state": {
            "_model_module": "@jupyter-widgets/controls",
            "_model_module_version": "1.5.0",
            "_model_name": "ProgressStyleModel",
            "_view_count": null,
            "_view_module": "@jupyter-widgets/base",
            "_view_module_version": "1.2.0",
            "_view_name": "StyleView",
            "bar_color": null,
            "description_width": ""
          }
        },
        "8b51a832c19e4ba0bc306f71ab155d0c": {
          "model_module": "@jupyter-widgets/base",
          "model_name": "LayoutModel",
          "model_module_version": "1.2.0",
          "state": {
            "_model_module": "@jupyter-widgets/base",
            "_model_module_version": "1.2.0",
            "_model_name": "LayoutModel",
            "_view_count": null,
            "_view_module": "@jupyter-widgets/base",
            "_view_module_version": "1.2.0",
            "_view_name": "LayoutView",
            "align_content": null,
            "align_items": null,
            "align_self": null,
            "border": null,
            "bottom": null,
            "display": null,
            "flex": null,
            "flex_flow": null,
            "grid_area": null,
            "grid_auto_columns": null,
            "grid_auto_flow": null,
            "grid_auto_rows": null,
            "grid_column": null,
            "grid_gap": null,
            "grid_row": null,
            "grid_template_areas": null,
            "grid_template_columns": null,
            "grid_template_rows": null,
            "height": null,
            "justify_content": null,
            "justify_items": null,
            "left": null,
            "margin": null,
            "max_height": null,
            "max_width": null,
            "min_height": null,
            "min_width": null,
            "object_fit": null,
            "object_position": null,
            "order": null,
            "overflow": null,
            "overflow_x": null,
            "overflow_y": null,
            "padding": null,
            "right": null,
            "top": null,
            "visibility": null,
            "width": null
          }
        },
        "09b3c06482e94521975855f84be44d97": {
          "model_module": "@jupyter-widgets/controls",
          "model_name": "DescriptionStyleModel",
          "model_module_version": "1.5.0",
          "state": {
            "_model_module": "@jupyter-widgets/controls",
            "_model_module_version": "1.5.0",
            "_model_name": "DescriptionStyleModel",
            "_view_count": null,
            "_view_module": "@jupyter-widgets/base",
            "_view_module_version": "1.2.0",
            "_view_name": "StyleView",
            "description_width": ""
          }
        }
      }
    },
    "accelerator": "GPU"
  },
  "cells": [
    {
      "cell_type": "markdown",
      "metadata": {
        "id": "view-in-github",
        "colab_type": "text"
      },
      "source": [
        "<a href=\"https://colab.research.google.com/github/doniarish/IMAGE-CLASSIFICATION-MNIST-TRANSFER-LEARNING/blob/main/03__Pytorch_computervision__.ipynb\" target=\"_parent\"><img src=\"https://colab.research.google.com/assets/colab-badge.svg\" alt=\"Open In Colab\"/></a>"
      ]
    },
    {
      "cell_type": "markdown",
      "source": [
        "#Pytorch computer vision"
      ],
      "metadata": {
        "id": "r9NhGD0X9RgG"
      }
    },
    {
      "cell_type": "code",
      "source": [
        "import torch\n",
        "from torch import nn\n",
        "\n",
        "import torchvision\n",
        "from torchvision import datasets\n",
        "from torchvision import transforms\n",
        "from torchvision.transforms import ToTensor\n",
        "\n",
        "print(torch.__version__)\n",
        "\n",
        "print(torchvision.__version__)\n"
      ],
      "metadata": {
        "colab": {
          "base_uri": "https://localhost:8080/"
        },
        "id": "Xt9PRKmE9eqx",
        "outputId": "9f1145eb-4f7e-47ee-ec11-813a63c3eb58"
      },
      "execution_count": null,
      "outputs": [
        {
          "output_type": "stream",
          "name": "stdout",
          "text": [
            "2.6.0+cu124\n",
            "0.21.0+cu124\n"
          ]
        }
      ]
    },
    {
      "cell_type": "markdown",
      "source": [
        "##Getting a data set"
      ],
      "metadata": {
        "id": "SFJrVFmSBNtX"
      }
    },
    {
      "cell_type": "code",
      "source": [
        "#Training data\n",
        "train_data=datasets.FashionMNIST(\n",
        "    root=\"data\",\n",
        "    train=True,\n",
        "    download=True,\n",
        "    transform=torchvision.transforms.ToTensor(),\n",
        "    target_transform=None\n",
        ")\n",
        "\n",
        "test_data=datasets.FashionMNIST(\n",
        "    root=\"data\",\n",
        "    train=False,\n",
        "    download=True,\n",
        "    transform=ToTensor(),\n",
        "    target_transform=None\n",
        ")"
      ],
      "metadata": {
        "id": "Fp_e9x7quRy6",
        "colab": {
          "base_uri": "https://localhost:8080/"
        },
        "outputId": "15606989-00b7-4e80-9793-c3621e44e936"
      },
      "execution_count": null,
      "outputs": [
        {
          "output_type": "stream",
          "name": "stderr",
          "text": [
            "100%|██████████| 26.4M/26.4M [00:02<00:00, 11.6MB/s]\n",
            "100%|██████████| 29.5k/29.5k [00:00<00:00, 197kB/s]\n",
            "100%|██████████| 4.42M/4.42M [00:01<00:00, 3.73MB/s]\n",
            "100%|██████████| 5.15k/5.15k [00:00<00:00, 23.3MB/s]\n"
          ]
        }
      ]
    },
    {
      "cell_type": "code",
      "source": [
        "len(train_data),len(test_data)"
      ],
      "metadata": {
        "colab": {
          "base_uri": "https://localhost:8080/"
        },
        "id": "M4n3grQt2EDb",
        "outputId": "d9101a74-31bf-4400-ab8e-f01866f2762a"
      },
      "execution_count": null,
      "outputs": [
        {
          "output_type": "execute_result",
          "data": {
            "text/plain": [
              "(60000, 10000)"
            ]
          },
          "metadata": {},
          "execution_count": 3
        }
      ]
    },
    {
      "cell_type": "code",
      "source": [
        "image,label=train_data[0]\n",
        "image,label"
      ],
      "metadata": {
        "colab": {
          "base_uri": "https://localhost:8080/"
        },
        "id": "sOPrcfs12Mpe",
        "outputId": "f121ee47-193d-42c6-cab1-4d141cdb0cfd"
      },
      "execution_count": null,
      "outputs": [
        {
          "output_type": "execute_result",
          "data": {
            "text/plain": [
              "(tensor([[[0.0000, 0.0000, 0.0000, 0.0000, 0.0000, 0.0000, 0.0000, 0.0000,\n",
              "           0.0000, 0.0000, 0.0000, 0.0000, 0.0000, 0.0000, 0.0000, 0.0000,\n",
              "           0.0000, 0.0000, 0.0000, 0.0000, 0.0000, 0.0000, 0.0000, 0.0000,\n",
              "           0.0000, 0.0000, 0.0000, 0.0000],\n",
              "          [0.0000, 0.0000, 0.0000, 0.0000, 0.0000, 0.0000, 0.0000, 0.0000,\n",
              "           0.0000, 0.0000, 0.0000, 0.0000, 0.0000, 0.0000, 0.0000, 0.0000,\n",
              "           0.0000, 0.0000, 0.0000, 0.0000, 0.0000, 0.0000, 0.0000, 0.0000,\n",
              "           0.0000, 0.0000, 0.0000, 0.0000],\n",
              "          [0.0000, 0.0000, 0.0000, 0.0000, 0.0000, 0.0000, 0.0000, 0.0000,\n",
              "           0.0000, 0.0000, 0.0000, 0.0000, 0.0000, 0.0000, 0.0000, 0.0000,\n",
              "           0.0000, 0.0000, 0.0000, 0.0000, 0.0000, 0.0000, 0.0000, 0.0000,\n",
              "           0.0000, 0.0000, 0.0000, 0.0000],\n",
              "          [0.0000, 0.0000, 0.0000, 0.0000, 0.0000, 0.0000, 0.0000, 0.0000,\n",
              "           0.0000, 0.0000, 0.0000, 0.0000, 0.0039, 0.0000, 0.0000, 0.0510,\n",
              "           0.2863, 0.0000, 0.0000, 0.0039, 0.0157, 0.0000, 0.0000, 0.0000,\n",
              "           0.0000, 0.0039, 0.0039, 0.0000],\n",
              "          [0.0000, 0.0000, 0.0000, 0.0000, 0.0000, 0.0000, 0.0000, 0.0000,\n",
              "           0.0000, 0.0000, 0.0000, 0.0000, 0.0118, 0.0000, 0.1412, 0.5333,\n",
              "           0.4980, 0.2431, 0.2118, 0.0000, 0.0000, 0.0000, 0.0039, 0.0118,\n",
              "           0.0157, 0.0000, 0.0000, 0.0118],\n",
              "          [0.0000, 0.0000, 0.0000, 0.0000, 0.0000, 0.0000, 0.0000, 0.0000,\n",
              "           0.0000, 0.0000, 0.0000, 0.0000, 0.0235, 0.0000, 0.4000, 0.8000,\n",
              "           0.6902, 0.5255, 0.5647, 0.4824, 0.0902, 0.0000, 0.0000, 0.0000,\n",
              "           0.0000, 0.0471, 0.0392, 0.0000],\n",
              "          [0.0000, 0.0000, 0.0000, 0.0000, 0.0000, 0.0000, 0.0000, 0.0000,\n",
              "           0.0000, 0.0000, 0.0000, 0.0000, 0.0000, 0.0000, 0.6078, 0.9255,\n",
              "           0.8118, 0.6980, 0.4196, 0.6118, 0.6314, 0.4275, 0.2510, 0.0902,\n",
              "           0.3020, 0.5098, 0.2824, 0.0588],\n",
              "          [0.0000, 0.0000, 0.0000, 0.0000, 0.0000, 0.0000, 0.0000, 0.0000,\n",
              "           0.0000, 0.0000, 0.0000, 0.0039, 0.0000, 0.2706, 0.8118, 0.8745,\n",
              "           0.8549, 0.8471, 0.8471, 0.6392, 0.4980, 0.4745, 0.4784, 0.5725,\n",
              "           0.5529, 0.3451, 0.6745, 0.2588],\n",
              "          [0.0000, 0.0000, 0.0000, 0.0000, 0.0000, 0.0000, 0.0000, 0.0000,\n",
              "           0.0000, 0.0039, 0.0039, 0.0039, 0.0000, 0.7843, 0.9098, 0.9098,\n",
              "           0.9137, 0.8980, 0.8745, 0.8745, 0.8431, 0.8353, 0.6431, 0.4980,\n",
              "           0.4824, 0.7686, 0.8980, 0.0000],\n",
              "          [0.0000, 0.0000, 0.0000, 0.0000, 0.0000, 0.0000, 0.0000, 0.0000,\n",
              "           0.0000, 0.0000, 0.0000, 0.0000, 0.0000, 0.7176, 0.8824, 0.8471,\n",
              "           0.8745, 0.8941, 0.9216, 0.8902, 0.8784, 0.8706, 0.8784, 0.8667,\n",
              "           0.8745, 0.9608, 0.6784, 0.0000],\n",
              "          [0.0000, 0.0000, 0.0000, 0.0000, 0.0000, 0.0000, 0.0000, 0.0000,\n",
              "           0.0000, 0.0000, 0.0000, 0.0000, 0.0000, 0.7569, 0.8941, 0.8549,\n",
              "           0.8353, 0.7765, 0.7059, 0.8314, 0.8235, 0.8275, 0.8353, 0.8745,\n",
              "           0.8627, 0.9529, 0.7922, 0.0000],\n",
              "          [0.0000, 0.0000, 0.0000, 0.0000, 0.0000, 0.0000, 0.0000, 0.0000,\n",
              "           0.0000, 0.0039, 0.0118, 0.0000, 0.0471, 0.8588, 0.8627, 0.8314,\n",
              "           0.8549, 0.7529, 0.6627, 0.8902, 0.8157, 0.8549, 0.8784, 0.8314,\n",
              "           0.8863, 0.7725, 0.8196, 0.2039],\n",
              "          [0.0000, 0.0000, 0.0000, 0.0000, 0.0000, 0.0000, 0.0000, 0.0000,\n",
              "           0.0000, 0.0000, 0.0235, 0.0000, 0.3882, 0.9569, 0.8706, 0.8627,\n",
              "           0.8549, 0.7961, 0.7765, 0.8667, 0.8431, 0.8353, 0.8706, 0.8627,\n",
              "           0.9608, 0.4667, 0.6549, 0.2196],\n",
              "          [0.0000, 0.0000, 0.0000, 0.0000, 0.0000, 0.0000, 0.0000, 0.0000,\n",
              "           0.0000, 0.0157, 0.0000, 0.0000, 0.2157, 0.9255, 0.8941, 0.9020,\n",
              "           0.8941, 0.9412, 0.9098, 0.8353, 0.8549, 0.8745, 0.9176, 0.8510,\n",
              "           0.8510, 0.8196, 0.3608, 0.0000],\n",
              "          [0.0000, 0.0000, 0.0039, 0.0157, 0.0235, 0.0275, 0.0078, 0.0000,\n",
              "           0.0000, 0.0000, 0.0000, 0.0000, 0.9294, 0.8863, 0.8510, 0.8745,\n",
              "           0.8706, 0.8588, 0.8706, 0.8667, 0.8471, 0.8745, 0.8980, 0.8431,\n",
              "           0.8549, 1.0000, 0.3020, 0.0000],\n",
              "          [0.0000, 0.0118, 0.0000, 0.0000, 0.0000, 0.0000, 0.0000, 0.0000,\n",
              "           0.0000, 0.2431, 0.5686, 0.8000, 0.8941, 0.8118, 0.8353, 0.8667,\n",
              "           0.8549, 0.8157, 0.8275, 0.8549, 0.8784, 0.8745, 0.8588, 0.8431,\n",
              "           0.8784, 0.9569, 0.6235, 0.0000],\n",
              "          [0.0000, 0.0000, 0.0000, 0.0000, 0.0706, 0.1725, 0.3216, 0.4196,\n",
              "           0.7412, 0.8941, 0.8627, 0.8706, 0.8510, 0.8863, 0.7843, 0.8039,\n",
              "           0.8275, 0.9020, 0.8784, 0.9176, 0.6902, 0.7373, 0.9804, 0.9725,\n",
              "           0.9137, 0.9333, 0.8431, 0.0000],\n",
              "          [0.0000, 0.2235, 0.7333, 0.8157, 0.8784, 0.8667, 0.8784, 0.8157,\n",
              "           0.8000, 0.8392, 0.8157, 0.8196, 0.7843, 0.6235, 0.9608, 0.7569,\n",
              "           0.8078, 0.8745, 1.0000, 1.0000, 0.8667, 0.9176, 0.8667, 0.8275,\n",
              "           0.8627, 0.9098, 0.9647, 0.0000],\n",
              "          [0.0118, 0.7922, 0.8941, 0.8784, 0.8667, 0.8275, 0.8275, 0.8392,\n",
              "           0.8039, 0.8039, 0.8039, 0.8627, 0.9412, 0.3137, 0.5882, 1.0000,\n",
              "           0.8980, 0.8667, 0.7373, 0.6039, 0.7490, 0.8235, 0.8000, 0.8196,\n",
              "           0.8706, 0.8941, 0.8824, 0.0000],\n",
              "          [0.3843, 0.9137, 0.7765, 0.8235, 0.8706, 0.8980, 0.8980, 0.9176,\n",
              "           0.9765, 0.8627, 0.7608, 0.8431, 0.8510, 0.9451, 0.2549, 0.2863,\n",
              "           0.4157, 0.4588, 0.6588, 0.8588, 0.8667, 0.8431, 0.8510, 0.8745,\n",
              "           0.8745, 0.8784, 0.8980, 0.1137],\n",
              "          [0.2941, 0.8000, 0.8314, 0.8000, 0.7569, 0.8039, 0.8275, 0.8824,\n",
              "           0.8471, 0.7255, 0.7725, 0.8078, 0.7765, 0.8353, 0.9412, 0.7647,\n",
              "           0.8902, 0.9608, 0.9373, 0.8745, 0.8549, 0.8314, 0.8196, 0.8706,\n",
              "           0.8627, 0.8667, 0.9020, 0.2627],\n",
              "          [0.1882, 0.7961, 0.7176, 0.7608, 0.8353, 0.7725, 0.7255, 0.7451,\n",
              "           0.7608, 0.7529, 0.7922, 0.8392, 0.8588, 0.8667, 0.8627, 0.9255,\n",
              "           0.8824, 0.8471, 0.7804, 0.8078, 0.7294, 0.7098, 0.6941, 0.6745,\n",
              "           0.7098, 0.8039, 0.8078, 0.4510],\n",
              "          [0.0000, 0.4784, 0.8588, 0.7569, 0.7020, 0.6706, 0.7176, 0.7686,\n",
              "           0.8000, 0.8235, 0.8353, 0.8118, 0.8275, 0.8235, 0.7843, 0.7686,\n",
              "           0.7608, 0.7490, 0.7647, 0.7490, 0.7765, 0.7529, 0.6902, 0.6118,\n",
              "           0.6549, 0.6941, 0.8235, 0.3608],\n",
              "          [0.0000, 0.0000, 0.2902, 0.7412, 0.8314, 0.7490, 0.6863, 0.6745,\n",
              "           0.6863, 0.7098, 0.7255, 0.7373, 0.7412, 0.7373, 0.7569, 0.7765,\n",
              "           0.8000, 0.8196, 0.8235, 0.8235, 0.8275, 0.7373, 0.7373, 0.7608,\n",
              "           0.7529, 0.8471, 0.6667, 0.0000],\n",
              "          [0.0078, 0.0000, 0.0000, 0.0000, 0.2588, 0.7843, 0.8706, 0.9294,\n",
              "           0.9373, 0.9490, 0.9647, 0.9529, 0.9569, 0.8667, 0.8627, 0.7569,\n",
              "           0.7490, 0.7020, 0.7137, 0.7137, 0.7098, 0.6902, 0.6510, 0.6588,\n",
              "           0.3882, 0.2275, 0.0000, 0.0000],\n",
              "          [0.0000, 0.0000, 0.0000, 0.0000, 0.0000, 0.0000, 0.0000, 0.1569,\n",
              "           0.2392, 0.1725, 0.2824, 0.1608, 0.1373, 0.0000, 0.0000, 0.0000,\n",
              "           0.0000, 0.0000, 0.0000, 0.0000, 0.0000, 0.0000, 0.0000, 0.0000,\n",
              "           0.0000, 0.0000, 0.0000, 0.0000],\n",
              "          [0.0000, 0.0000, 0.0000, 0.0000, 0.0000, 0.0000, 0.0000, 0.0000,\n",
              "           0.0000, 0.0000, 0.0000, 0.0000, 0.0000, 0.0000, 0.0000, 0.0000,\n",
              "           0.0000, 0.0000, 0.0000, 0.0000, 0.0000, 0.0000, 0.0000, 0.0000,\n",
              "           0.0000, 0.0000, 0.0000, 0.0000],\n",
              "          [0.0000, 0.0000, 0.0000, 0.0000, 0.0000, 0.0000, 0.0000, 0.0000,\n",
              "           0.0000, 0.0000, 0.0000, 0.0000, 0.0000, 0.0000, 0.0000, 0.0000,\n",
              "           0.0000, 0.0000, 0.0000, 0.0000, 0.0000, 0.0000, 0.0000, 0.0000,\n",
              "           0.0000, 0.0000, 0.0000, 0.0000]]]),\n",
              " 9)"
            ]
          },
          "metadata": {},
          "execution_count": 4
        }
      ]
    },
    {
      "cell_type": "code",
      "source": [
        "image.shape"
      ],
      "metadata": {
        "colab": {
          "base_uri": "https://localhost:8080/"
        },
        "id": "XRs78iMo2sAX",
        "outputId": "1d01bee1-b359-49d3-e586-411b03006a37"
      },
      "execution_count": null,
      "outputs": [
        {
          "output_type": "execute_result",
          "data": {
            "text/plain": [
              "torch.Size([1, 28, 28])"
            ]
          },
          "metadata": {},
          "execution_count": 5
        }
      ]
    },
    {
      "cell_type": "code",
      "source": [
        "train_data.classes"
      ],
      "metadata": {
        "colab": {
          "base_uri": "https://localhost:8080/"
        },
        "id": "eWLARwFO3T84",
        "outputId": "68aa6c59-1574-45d1-cf89-6a4c76832184"
      },
      "execution_count": null,
      "outputs": [
        {
          "output_type": "execute_result",
          "data": {
            "text/plain": [
              "['T-shirt/top',\n",
              " 'Trouser',\n",
              " 'Pullover',\n",
              " 'Dress',\n",
              " 'Coat',\n",
              " 'Sandal',\n",
              " 'Shirt',\n",
              " 'Sneaker',\n",
              " 'Bag',\n",
              " 'Ankle boot']"
            ]
          },
          "metadata": {},
          "execution_count": 6
        }
      ]
    },
    {
      "cell_type": "markdown",
      "source": [
        "#Visualizing our data"
      ],
      "metadata": {
        "id": "2xXMSlVc3oG4"
      }
    },
    {
      "cell_type": "code",
      "source": [
        "class_names=train_data.classes"
      ],
      "metadata": {
        "id": "cZA8Yonn5kKW"
      },
      "execution_count": null,
      "outputs": []
    },
    {
      "cell_type": "code",
      "source": [
        "len(class_names)"
      ],
      "metadata": {
        "colab": {
          "base_uri": "https://localhost:8080/"
        },
        "id": "iqlnjrySfgIk",
        "outputId": "1ed2ba2a-4481-490d-bbea-0199f6663a7e"
      },
      "execution_count": null,
      "outputs": [
        {
          "output_type": "execute_result",
          "data": {
            "text/plain": [
              "10"
            ]
          },
          "metadata": {},
          "execution_count": 8
        }
      ]
    },
    {
      "cell_type": "code",
      "source": [
        "import matplotlib.pyplot as plt\n",
        "image,label=train_data[0]\n",
        "print(f\"Image shape:{image.shape}\")\n",
        "plt.imshow(image.squeeze())\n",
        "plt.title(label)\n"
      ],
      "metadata": {
        "colab": {
          "base_uri": "https://localhost:8080/",
          "height": 488
        },
        "id": "jQDvK4gi4kyR",
        "outputId": "20644bf2-6f34-47d1-92af-9070cb18143e"
      },
      "execution_count": null,
      "outputs": [
        {
          "output_type": "stream",
          "name": "stdout",
          "text": [
            "Image shape:torch.Size([1, 28, 28])\n"
          ]
        },
        {
          "output_type": "execute_result",
          "data": {
            "text/plain": [
              "Text(0.5, 1.0, '9')"
            ]
          },
          "metadata": {},
          "execution_count": 9
        },
        {
          "output_type": "display_data",
          "data": {
            "text/plain": [
              "<Figure size 640x480 with 1 Axes>"
            ],
            "image/png": "[encoded data removed]"
          },
          "metadata": {}
        }
      ]
    },
    {
      "cell_type": "code",
      "source": [
        "plt.imshow(image.squeeze(),cmap=\"gray\")\n",
        "plt.title(class_names[label])\n",
        "plt.axis(False)"
      ],
      "metadata": {
        "colab": {
          "base_uri": "https://localhost:8080/",
          "height": 446
        },
        "id": "WloJ9all47C8",
        "outputId": "1db009d9-c322-4c83-f582-facf8b0276e0"
      },
      "execution_count": null,
      "outputs": [
        {
          "output_type": "execute_result",
          "data": {
            "text/plain": [
              "(np.float64(-0.5), np.float64(27.5), np.float64(27.5), np.float64(-0.5))"
            ]
          },
          "metadata": {},
          "execution_count": 10
        },
        {
          "output_type": "display_data",
          "data": {
            "text/plain": [
              "<Figure size 640x480 with 1 Axes>"
            ],
            "image/png": "[encoded data removed]"
          },
          "metadata": {}
        }
      ]
    },
    {
      "cell_type": "code",
      "source": [
        "# torch.manual_seed(42)\n",
        "fig=plt.figure(figsize=(9,9))\n",
        "rows,cols=4,4\n",
        "for i in range(1,rows*cols+1):\n",
        "  random_idx=torch.randint(0,len(train_data),size=[1]).item()\n",
        "  img,label=train_data[random_idx]\n",
        "  fig.add_subplot(rows,cols,i)\n",
        "  plt.imshow(img.squeeze(),cmap=\"gray\")\n",
        "  plt.title(class_names[label])\n",
        "  plt.axis('off')"
      ],
      "metadata": {
        "colab": {
          "base_uri": "https://localhost:8080/",
          "height": 752
        },
        "id": "Fh0evpwt5ukv",
        "outputId": "b216782f-8185-46e7-fada-163a03f75855"
      },
      "execution_count": null,
      "outputs": [
        {
          "output_type": "display_data",
          "data": {
            "text/plain": [
              "<Figure size 900x900 with 16 Axes>"
            ],
            "image/png": "[encoded data removed]"
          },
          "metadata": {}
        }
      ]
    },
    {
      "cell_type": "markdown",
      "source": [
        "##Prepare data loader"
      ],
      "metadata": {
        "id": "wpl0f1Hw7Yx9"
      }
    },
    {
      "cell_type": "code",
      "source": [
        "train_data"
      ],
      "metadata": {
        "colab": {
          "base_uri": "https://localhost:8080/"
        },
        "id": "GCztGrJBA6B_",
        "outputId": "3fb9ad3b-7ef9-4fc0-9649-7db0217299f3"
      },
      "execution_count": null,
      "outputs": [
        {
          "output_type": "execute_result",
          "data": {
            "text/plain": [
              "Dataset FashionMNIST\n",
              "    Number of datapoints: 60000\n",
              "    Root location: data\n",
              "    Split: Train\n",
              "    StandardTransform\n",
              "Transform: ToTensor()"
            ]
          },
          "metadata": {},
          "execution_count": 12
        }
      ]
    },
    {
      "cell_type": "code",
      "source": [
        "from torch.utils.data import DataLoader\n",
        "train_dataloader=DataLoader(\n",
        "    dataset=train_data,\n",
        "    batch_size=32,\n",
        "    shuffle=True\n",
        ")\n",
        "test_dataloader=DataLoader(\n",
        "    dataset=test_data,\n",
        "    batch_size=32,\n",
        "    shuffle=False\n",
        ")\n",
        "train_dataloader,test_dataloader"
      ],
      "metadata": {
        "colab": {
          "base_uri": "https://localhost:8080/"
        },
        "id": "ylB7YfZhA7_4",
        "outputId": "f32573ae-c805-45d9-9fea-d34b2b271ae4"
      },
      "execution_count": null,
      "outputs": [
        {
          "output_type": "execute_result",
          "data": {
            "text/plain": [
              "(<torch.utils.data.dataloader.DataLoader at 0x7bf62c9543d0>,\n",
              " <torch.utils.data.dataloader.DataLoader at 0x7bf62cca1210>)"
            ]
          },
          "metadata": {},
          "execution_count": 13
        }
      ]
    },
    {
      "cell_type": "code",
      "source": [
        "print(f\"Data Loader:{train_dataloader,test_dataloader}\")\n",
        "print(f\"Length of train dataloader:{len(train_dataloader)}\")\n",
        "print(f\"Length of test data loader:{len(test_dataloader)}\")"
      ],
      "metadata": {
        "colab": {
          "base_uri": "https://localhost:8080/"
        },
        "id": "33HqraJ1DyXN",
        "outputId": "64c4ed8d-087f-4c1b-d007-75a0b0a3ec4f"
      },
      "execution_count": null,
      "outputs": [
        {
          "output_type": "stream",
          "name": "stdout",
          "text": [
            "Data Loader:(<torch.utils.data.dataloader.DataLoader object at 0x7bf62c9543d0>, <torch.utils.data.dataloader.DataLoader object at 0x7bf62cca1210>)\n",
            "Length of train dataloader:1875\n",
            "Length of test data loader:313\n"
          ]
        }
      ]
    },
    {
      "cell_type": "code",
      "source": [
        "train_features_batch,train_labels_batch=next(iter(train_dataloader))\n",
        "train_features_batch.shape,train_labels_batch.shape"
      ],
      "metadata": {
        "colab": {
          "base_uri": "https://localhost:8080/"
        },
        "id": "JcND_vCeEmbU",
        "outputId": "ca1b5306-255b-47f0-c5f0-7595f1293393"
      },
      "execution_count": null,
      "outputs": [
        {
          "output_type": "execute_result",
          "data": {
            "text/plain": [
              "(torch.Size([32, 1, 28, 28]), torch.Size([32]))"
            ]
          },
          "metadata": {},
          "execution_count": 15
        }
      ]
    },
    {
      "cell_type": "code",
      "source": [
        "# torch.manual_seed(42)\n",
        "random_idx=torch.randint(0,len(train_features_batch), size=[1]).item()\n",
        "img,label=train_features_batch[random_idx],train_labels_batch[random_idx]\n",
        "plt.imshow(img.squeeze(),cmap=\"gray\")\n",
        "plt.title(class_names[label])\n",
        "plt.axis(False)"
      ],
      "metadata": {
        "colab": {
          "base_uri": "https://localhost:8080/",
          "height": 446
        },
        "id": "V28k5VkWFX_z",
        "outputId": "db493868-6497-4b2a-cd63-81ae2ab6cb9b"
      },
      "execution_count": null,
      "outputs": [
        {
          "output_type": "execute_result",
          "data": {
            "text/plain": [
              "(np.float64(-0.5), np.float64(27.5), np.float64(27.5), np.float64(-0.5))"
            ]
          },
          "metadata": {},
          "execution_count": 16
        },
        {
          "output_type": "display_data",
          "data": {
            "text/plain": [
              "<Figure size 640x480 with 1 Axes>"
            ],
            "image/png": "[encoded data removed]"
          },
          "metadata": {}
        }
      ]
    },
    {
      "cell_type": "markdown",
      "source": [
        "## Model"
      ],
      "metadata": {
        "id": "7mzvh0NsLr-y"
      }
    },
    {
      "cell_type": "code",
      "source": [
        "flatten_model=nn.Flatten()\n",
        "x=train_features_batch[0]\n",
        "x.shape"
      ],
      "metadata": {
        "colab": {
          "base_uri": "https://localhost:8080/"
        },
        "id": "-REB_lILPtv2",
        "outputId": "483a4b75-edc0-40ab-840e-3fbded70822d"
      },
      "execution_count": null,
      "outputs": [
        {
          "output_type": "execute_result",
          "data": {
            "text/plain": [
              "torch.Size([1, 28, 28])"
            ]
          },
          "metadata": {},
          "execution_count": 17
        }
      ]
    },
    {
      "cell_type": "code",
      "source": [
        "output=flatten_model(x)\n",
        "\n",
        "print(f\"Shape before falttening:{x.shape}\")\n",
        "print(f\"Shape after flattening:{output.shape}\")"
      ],
      "metadata": {
        "colab": {
          "base_uri": "https://localhost:8080/"
        },
        "id": "4bowjpoLSrPM",
        "outputId": "b2348181-dc22-418c-b932-4e84f2ee4381"
      },
      "execution_count": null,
      "outputs": [
        {
          "output_type": "stream",
          "name": "stdout",
          "text": [
            "Shape before falttening:torch.Size([1, 28, 28])\n",
            "Shape after flattening:torch.Size([1, 784])\n"
          ]
        }
      ]
    },
    {
      "cell_type": "code",
      "source": [
        "len(class_names)"
      ],
      "metadata": {
        "colab": {
          "base_uri": "https://localhost:8080/"
        },
        "id": "OdR8vjouFgrK",
        "outputId": "f17efde9-c52d-47d3-c7b7-c921edae0f76"
      },
      "execution_count": null,
      "outputs": [
        {
          "output_type": "execute_result",
          "data": {
            "text/plain": [
              "10"
            ]
          },
          "metadata": {},
          "execution_count": 19
        }
      ]
    },
    {
      "cell_type": "code",
      "source": [
        "from torch import nn\n",
        "class FashionMNIST(nn.Module):\n",
        "  def __init__(self,class_names):\n",
        "    super().__init__()\n",
        "    self.layer_stack=nn.Sequential(\n",
        "        nn.Flatten(),\n",
        "        nn.Linear(in_features=784,out_features=10),\n",
        "        nn.Linear(in_features=10,out_features=len(class_names))\n",
        "    )\n",
        "\n",
        "  def forward(self,x):\n",
        "    return self.layer_stack(x)"
      ],
      "metadata": {
        "id": "Tm5cUxtSTL-g"
      },
      "execution_count": null,
      "outputs": []
    },
    {
      "cell_type": "code",
      "source": [
        "torch.manual_seed(42)\n",
        "model_0=FashionMNIST(class_names=class_names)\n",
        "model_0\n"
      ],
      "metadata": {
        "colab": {
          "base_uri": "https://localhost:8080/"
        },
        "id": "uX51EPLZEUVO",
        "outputId": "38cfe46a-719f-4a65-9b98-5704e5f8bf6f"
      },
      "execution_count": null,
      "outputs": [
        {
          "output_type": "execute_result",
          "data": {
            "text/plain": [
              "FashionMNIST(\n",
              "  (layer_stack): Sequential(\n",
              "    (0): Flatten(start_dim=1, end_dim=-1)\n",
              "    (1): Linear(in_features=784, out_features=10, bias=True)\n",
              "    (2): Linear(in_features=10, out_features=10, bias=True)\n",
              "  )\n",
              ")"
            ]
          },
          "metadata": {},
          "execution_count": 21
        }
      ]
    },
    {
      "cell_type": "code",
      "source": [
        "dummy_x=torch.rand([1,1,28,28])\n",
        "model_0(dummy_x).shape"
      ],
      "metadata": {
        "colab": {
          "base_uri": "https://localhost:8080/"
        },
        "id": "D4cYt4o3GQEI",
        "outputId": "45598e59-c5d8-42b6-e296-a75b934cf735"
      },
      "execution_count": null,
      "outputs": [
        {
          "output_type": "execute_result",
          "data": {
            "text/plain": [
              "torch.Size([1, 10])"
            ]
          },
          "metadata": {},
          "execution_count": 22
        }
      ]
    },
    {
      "cell_type": "code",
      "source": [
        "import requests\n",
        "from pathlib import Path\n",
        "\n",
        "if Path(\"helper_functions.py\").is_file():\n",
        "  print(\"helper_functions.py faile is already exist , skipping download\")\n",
        "else:\n",
        "  print(\"Downloading helper_function.py......\")\n",
        "  request=requests.get(\"https://raw.githubusercontent.com/mrdbourke/pytorch-deep-learning/refs/heads/main/helper_functions.py\")\n",
        "  with open(\"helper_functions.py\",\"wb\") as f:\n",
        "    f.write(request.content)"
      ],
      "metadata": {
        "colab": {
          "base_uri": "https://localhost:8080/"
        },
        "id": "J_aHMpoiGwRk",
        "outputId": "fe7d13da-858a-46a7-81d9-2e5dea8bbecf"
      },
      "execution_count": null,
      "outputs": [
        {
          "output_type": "stream",
          "name": "stdout",
          "text": [
            "Downloading helper_function.py......\n"
          ]
        }
      ]
    },
    {
      "cell_type": "code",
      "source": [
        "from helper_functions import accuracy_fn\n",
        "\n",
        "loss_fn=nn.CrossEntropyLoss()\n",
        "optimizer=torch.optim.SGD(params=model_0.parameters(),\n",
        "                                                    lr=0.1)"
      ],
      "metadata": {
        "id": "VuK0_q_tK2LH"
      },
      "execution_count": null,
      "outputs": []
    },
    {
      "cell_type": "code",
      "source": [
        "from timeit import default_timer as timer\n",
        "def train_time(start:float,\n",
        "               end:float,\n",
        "               device:torch.device=None):\n",
        "  total_time=end-start\n",
        "  print(f\"Train time on {device}:{total_time:.3f}seconds\")"
      ],
      "metadata": {
        "id": "56ny8ZrDLJwx"
      },
      "execution_count": null,
      "outputs": []
    },
    {
      "cell_type": "code",
      "source": [
        "start_time=timer()\n",
        "end_time=timer()\n",
        "train_time(start=start_time,\n",
        "           end=end_time,\n",
        "           device=\"cpu\")"
      ],
      "metadata": {
        "colab": {
          "base_uri": "https://localhost:8080/"
        },
        "id": "o-7e1PbFNE4w",
        "outputId": "74b37b62-61c0-4c89-cfcc-4341e98ce512"
      },
      "execution_count": null,
      "outputs": [
        {
          "output_type": "stream",
          "name": "stdout",
          "text": [
            "Train time on cpu:0.000seconds\n"
          ]
        }
      ]
    },
    {
      "cell_type": "code",
      "source": [
        "from tqdm.auto import tqdm\n",
        "\n",
        "torch.manual_seed(42)\n",
        "train_time_start_on_cpu=timer()\n",
        "\n",
        "epochs=3\n",
        "\n",
        "for epoch in tqdm(range(epochs)):\n",
        "  print(f\"Epoch:{epoch}\")\n",
        "\n",
        "  train_loss=0\n",
        "\n",
        "  for batch, (x,y) in enumerate(train_dataloader):\n",
        "    model_0.train()\n",
        "    y_pred=model_0(x)\n",
        "\n",
        "    loss=loss_fn(y_pred,y)\n",
        "    train_loss+=loss\n",
        "\n",
        "    optimizer.zero_grad()\n",
        "\n",
        "\n",
        "    loss.backward()\n",
        "\n",
        "    optimizer.step()\n",
        "\n",
        "    if batch % 400 ==0:\n",
        "      print(f\"Looked at {batch*len(x)}/{len(train_dataloader.dataset)} samples\")\n",
        "\n",
        "  train_loss /=len(train_dataloader)\n",
        "\n",
        "  test_loss,test_acc=0,0\n",
        "  model_0.eval()\n",
        "  with torch.inference_mode():\n",
        "    for x_test,y_test in test_dataloader:\n",
        "      test_pred=model_0(x_test)\n",
        "\n",
        "      test_loss+=loss_fn(test_pred,y_test)\n",
        "\n",
        "      test_acc+=accuracy_fn(y_true=y_test,y_pred=test_pred.argmax(dim=1))\n",
        "\n",
        "    test_loss/=len(test_dataloader)\n",
        "\n",
        "    test_acc/=len(test_dataloader)\n",
        "\n",
        "  print(f\"\\nTrain loss:{train_loss:.4f} | Test loss:{test_loss:.4f} , Test accuracy:{test_acc:.4f}\")\n",
        "\n",
        "train_time_end_on_cpu=timer()\n",
        "\n"
      ],
      "metadata": {
        "id": "OhVADQgGNe2T",
        "colab": {
          "base_uri": "https://localhost:8080/",
          "height": 487,
          "referenced_widgets": [
            "9600793f23fb4f2b88e4719aede8833b",
            "3dcb433ec768492a8e63662b0dff27e7",
            "76423b3b07f94aa384cd368c041ea4f4",
            "ceab43e566e141abb24ec94a0c35bd46",
            "e13a832b33e14e109738f1c96229863f",
            "2126beb705a7419691b6c64ee41bf726",
            "12dc5e8809b342659236f7b0b47df1e5",
            "fac4667247de4086a3bc8ce19e9aa1c2",
            "9119da175619418d8916d55021531524",
            "3b3c8133b4164de286ee446177a978be",
            "c12aaab25733458a9eee946f22e79f5e"
          ]
        },
        "outputId": "2f49e5f1-ecfd-4571-b951-dca6be214f2c"
      },
      "execution_count": null,
      "outputs": [
        {
          "output_type": "display_data",
          "data": {
            "text/plain": [
              "  0%|          | 0/3 [00:00<?, ?it/s]"
            ],
            "application/vnd.jupyter.widget-view+json": {
              "version_major": 2,
              "version_minor": 0,
              "model_id": "9600793f23fb4f2b88e4719aede8833b"
            }
          },
          "metadata": {}
        },
        {
          "output_type": "stream",
          "name": "stdout",
          "text": [
            "Epoch:0\n",
            "Looked at 0/60000 samples\n",
            "Looked at 12800/60000 samples\n",
            "Looked at 25600/60000 samples\n",
            "Looked at 38400/60000 samples\n",
            "Looked at 51200/60000 samples\n",
            "\n",
            "Train loss:0.5904 | Test loss:0.5095 , Test accuracy:82.0387\n",
            "Epoch:1\n",
            "Looked at 0/60000 samples\n",
            "Looked at 12800/60000 samples\n",
            "Looked at 25600/60000 samples\n",
            "Looked at 38400/60000 samples\n",
            "Looked at 51200/60000 samples\n",
            "\n",
            "Train loss:0.4763 | Test loss:0.4799 , Test accuracy:83.1969\n",
            "Epoch:2\n",
            "Looked at 0/60000 samples\n",
            "Looked at 12800/60000 samples\n",
            "Looked at 25600/60000 samples\n",
            "Looked at 38400/60000 samples\n",
            "Looked at 51200/60000 samples\n",
            "\n",
            "Train loss:0.4550 | Test loss:0.4766 , Test accuracy:83.4265\n"
          ]
        }
      ]
    },
    {
      "cell_type": "code",
      "source": [
        "train_time_of_model_0=train_time(start=train_time_start_on_cpu,\n",
        "                            end=train_time_end_on_cpu,\n",
        "                            device=str(next(model_0.parameters()).device))"
      ],
      "metadata": {
        "colab": {
          "base_uri": "https://localhost:8080/"
        },
        "id": "Ks5aKEo5Kfwk",
        "outputId": "e9128167-f47a-411b-aada-83eb4373e418"
      },
      "execution_count": null,
      "outputs": [
        {
          "output_type": "stream",
          "name": "stdout",
          "text": [
            "Train time on cpu:24.924seconds\n"
          ]
        }
      ]
    },
    {
      "cell_type": "markdown",
      "source": [
        "#Make prediction"
      ],
      "metadata": {
        "id": "BKHRLn4H-EEA"
      }
    },
    {
      "cell_type": "code",
      "source": [
        "device=\"cuda\" if torch.cuda.is_available() else \"cpu\""
      ],
      "metadata": {
        "id": "LVNEn7AGfioY"
      },
      "execution_count": null,
      "outputs": []
    },
    {
      "cell_type": "code",
      "source": [
        "torch.manual_seed(42)\n",
        "def eval_model(model: torch.nn.Module,\n",
        "               data_loader: torch.utils.data.DataLoader,\n",
        "               loss_fn:torch.nn.Module,\n",
        "               accuracy_fn,\n",
        "               device=device):\n",
        "  loss,acc=0,0\n",
        "  model.to(device)\n",
        "  model.eval()\n",
        "  with torch.inference_mode():\n",
        "    for x,y in tqdm(data_loader):\n",
        "\n",
        "      x,y=x.to(device),y.to(device)\n",
        "\n",
        "      y_pred=model(x)\n",
        "\n",
        "      loss+=loss_fn(y_pred,y)\n",
        "      acc+=accuracy_fn(y_true=y,\n",
        "                       y_pred=y_pred.argmax(dim=1))\n",
        "\n",
        "    loss/=len(data_loader)\n",
        "    acc/=len(data_loader)\n",
        "\n",
        "  return{\n",
        "      \"Model_name\":model.__class__.__name__,\n",
        "      \"Model_loss\":loss.item(),\n",
        "      \"Model_acc\":acc\n",
        "  }\n",
        "\n",
        "model_0_results=eval_model(model=model_0,\n",
        "                           data_loader=test_dataloader,\n",
        "                           loss_fn=loss_fn,\n",
        "                           accuracy_fn=accuracy_fn,\n",
        "                           )\n",
        "model_0_results\n"
      ],
      "metadata": {
        "colab": {
          "base_uri": "https://localhost:8080/",
          "height": 104,
          "referenced_widgets": [
            "7e9be123bda4442f9d4e7b53361b9300",
            "262942e2d7064bd49ede995a443f8ba0",
            "89ac2409cf4c402e80283a21748925da",
            "27aee37f783e411bab2d4c2c5327b95f",
            "871aa9bdd66741d592aef224aca6243f",
            "50a47914e43c469199d581bc38c6589e",
            "285a540ed15f415aaafb5c4974fcb1c1",
            "bee2e25bba804c0ea40ebf7d5caf22d2",
            "8b94ed2df02e4718a55e8a2e6dc92a96",
            "15f24fc294134778a7265cc130b03a16",
            "0e5a493b551d481c8b40c97a30a2f15a"
          ]
        },
        "id": "QgnEoxItEHiD",
        "outputId": "b525b00c-988c-4711-efa0-d7c2a888080b"
      },
      "execution_count": null,
      "outputs": [
        {
          "output_type": "display_data",
          "data": {
            "text/plain": [
              "  0%|          | 0/313 [00:00<?, ?it/s]"
            ],
            "application/vnd.jupyter.widget-view+json": {
              "version_major": 2,
              "version_minor": 0,
              "model_id": "7e9be123bda4442f9d4e7b53361b9300"
            }
          },
          "metadata": {}
        },
        {
          "output_type": "execute_result",
          "data": {
            "text/plain": [
              "{'Model_name': 'FashionMNIST',\n",
              " 'Model_loss': 0.47663894295692444,\n",
              " 'Model_acc': 83.42651757188499}"
            ]
          },
          "metadata": {},
          "execution_count": 30
        }
      ]
    },
    {
      "cell_type": "markdown",
      "source": [
        "#Device agnostic code"
      ],
      "metadata": {
        "id": "fVrtqCenKV1l"
      }
    },
    {
      "cell_type": "code",
      "source": [
        "device"
      ],
      "metadata": {
        "colab": {
          "base_uri": "https://localhost:8080/",
          "height": 36
        },
        "id": "0nR-c1WJgiiB",
        "outputId": "b6a2f060-c6c8-47f5-d1be-a6af17aed046"
      },
      "execution_count": null,
      "outputs": [
        {
          "output_type": "execute_result",
          "data": {
            "text/plain": [
              "'cuda'"
            ],
            "application/vnd.google.colaboratory.intrinsic+json": {
              "type": "string"
            }
          },
          "metadata": {},
          "execution_count": 31
        }
      ]
    },
    {
      "cell_type": "markdown",
      "source": [
        "##Model 1\n"
      ],
      "metadata": {
        "id": "hN2DHbFQgkH0"
      }
    },
    {
      "cell_type": "code",
      "source": [
        "len(class_names)"
      ],
      "metadata": {
        "colab": {
          "base_uri": "https://localhost:8080/"
        },
        "id": "6yA8lHfjimv5",
        "outputId": "21fb9074-4698-4592-9ba6-32f81bcb9c7f"
      },
      "execution_count": null,
      "outputs": [
        {
          "output_type": "execute_result",
          "data": {
            "text/plain": [
              "10"
            ]
          },
          "metadata": {},
          "execution_count": 32
        }
      ]
    },
    {
      "cell_type": "code",
      "source": [
        "class FashionMNIST_V1(nn.Module):\n",
        "  def __init__(self):\n",
        "    super().__init__()\n",
        "    self.layer_stack=nn.Sequential(\n",
        "        nn.Flatten(),\n",
        "        nn.Linear(in_features=784,out_features=10),\n",
        "        nn.ReLU(),\n",
        "        nn.Linear(in_features=10,out_features=len(class_names)),\n",
        "        nn.ReLU()\n",
        "    )\n",
        "\n",
        "  def forward(self,x):\n",
        "    return self.layer_stack(x)"
      ],
      "metadata": {
        "id": "yavPk2fwg8_O"
      },
      "execution_count": null,
      "outputs": []
    },
    {
      "cell_type": "code",
      "source": [
        "torch.manual_seed(42)\n",
        "model_1=FashionMNIST_V1().to(device)"
      ],
      "metadata": {
        "id": "47rDQllhjFbQ"
      },
      "execution_count": null,
      "outputs": []
    },
    {
      "cell_type": "code",
      "source": [
        "model_1"
      ],
      "metadata": {
        "colab": {
          "base_uri": "https://localhost:8080/"
        },
        "id": "GbdRyDfyjX-P",
        "outputId": "bf14827a-0ad7-4973-b1eb-530602806ee9"
      },
      "execution_count": null,
      "outputs": [
        {
          "output_type": "execute_result",
          "data": {
            "text/plain": [
              "FashionMNIST_V1(\n",
              "  (layer_stack): Sequential(\n",
              "    (0): Flatten(start_dim=1, end_dim=-1)\n",
              "    (1): Linear(in_features=784, out_features=10, bias=True)\n",
              "    (2): ReLU()\n",
              "    (3): Linear(in_features=10, out_features=10, bias=True)\n",
              "    (4): ReLU()\n",
              "  )\n",
              ")"
            ]
          },
          "metadata": {},
          "execution_count": 35
        }
      ]
    },
    {
      "cell_type": "code",
      "source": [
        "next(model_1.parameters()).device"
      ],
      "metadata": {
        "colab": {
          "base_uri": "https://localhost:8080/"
        },
        "id": "18lC0b8HjgoD",
        "outputId": "0a292142-d6d7-4e31-8d71-46b0a9c7b6a5"
      },
      "execution_count": null,
      "outputs": [
        {
          "output_type": "execute_result",
          "data": {
            "text/plain": [
              "device(type='cuda', index=0)"
            ]
          },
          "metadata": {},
          "execution_count": 36
        }
      ]
    },
    {
      "cell_type": "code",
      "source": [
        "from helper_functions import accuracy_fn\n",
        "loss_fn=nn.CrossEntropyLoss()\n",
        "optimizer=torch.optim.SGD(model_1.parameters(),\n",
        "                          lr=0.1)"
      ],
      "metadata": {
        "id": "Wr2BPOrXjaRZ"
      },
      "execution_count": null,
      "outputs": []
    },
    {
      "cell_type": "markdown",
      "source": [
        "#Function for training and testing"
      ],
      "metadata": {
        "id": "3tAUO0hnkDwQ"
      }
    },
    {
      "cell_type": "code",
      "source": [
        "def train_step(model:torch.nn.Module,\n",
        "               data_loader:torch.utils.data.DataLoader,\n",
        "               loss_fn:torch.nn.Module,\n",
        "               optimizer:torch.optim.Optimizer,\n",
        "               accuracy_fn,\n",
        "               device:torch.device=device):\n",
        "  train_loss , train_acc = 0 ,0\n",
        "\n",
        "  model.train()\n",
        "\n",
        "  for batch,(x,y) in enumerate(data_loader):\n",
        "\n",
        "    x , y = x.to(device) , y.to(device)\n",
        "\n",
        "    y_pred=model(x)\n",
        "\n",
        "    loss=loss_fn(y_pred,y)\n",
        "\n",
        "    acc=accuracy_fn(y_true=y,\n",
        "                    y_pred=y_pred.argmax(dim=1))\n",
        "\n",
        "    train_loss+=loss\n",
        "\n",
        "    train_acc+=acc\n",
        "\n",
        "    optimizer.zero_grad()\n",
        "\n",
        "    loss.backward()\n",
        "\n",
        "    optimizer.step()\n",
        "\n",
        "  train_acc/=len(data_loader)\n",
        "\n",
        "  train_loss/=len(data_loader)\n",
        "  print(f\"Train loss:{train_loss:.4f} | Train accuracy:{train_acc:.2f}\")"
      ],
      "metadata": {
        "id": "ei6FnQY4CKpp"
      },
      "execution_count": null,
      "outputs": []
    },
    {
      "cell_type": "code",
      "source": [
        "def test_step(model:torch.nn.Module,\n",
        "              data_loader:torch.utils.data.DataLoader,\n",
        "              loss_fn:torch.nn.Module,\n",
        "              accuracy_fn,\n",
        "              device:torch.device=device):\n",
        "  test_loss , test_acc =0 , 0\n",
        "  model.eval()\n",
        "  with torch.inference_mode():\n",
        "    for x_test,y_test in data_loader:\n",
        "\n",
        "      x_test , y_test = x_test.to(device) , y_test.to(device)\n",
        "\n",
        "      test_pred=model(x_test)\n",
        "\n",
        "      test_loss+=loss_fn(test_pred,\n",
        "                       y_test)\n",
        "      test_acc+=accuracy_fn(y_true=y_test,\n",
        "                          y_pred=test_pred.argmax(dim=1))\n",
        "\n",
        "    test_loss/=len(data_loader)\n",
        "    test_acc/=len(data_loader)\n",
        "    print(f\"Test loss:{test_loss:.4f} | Test accuracy:{test_acc:.2f}%\\n\")"
      ],
      "metadata": {
        "id": "-txT2KZHNNoW"
      },
      "execution_count": null,
      "outputs": []
    },
    {
      "cell_type": "code",
      "source": [
        "\n",
        "torch.manual_seed(42)\n",
        "\n",
        "train_time_start_on_cuda=timer()\n",
        "\n",
        "epochs=3\n",
        "\n",
        "for epoch in tqdm(range(epochs)):\n",
        "  print(f\"Epochs:{epoch}\\n----\")\n",
        "  train_step(model=model_1,\n",
        "             data_loader=train_dataloader,\n",
        "             optimizer=optimizer,\n",
        "             loss_fn=loss_fn,\n",
        "             accuracy_fn=accuracy_fn,\n",
        "             device=device)\n",
        "  test_step(model=model_1,\n",
        "            data_loader=test_dataloader,\n",
        "            loss_fn=loss_fn,\n",
        "            accuracy_fn=accuracy_fn,\n",
        "            device=device)\n",
        "train_time_stop_on_cuda=timer()\n",
        "\n"
      ],
      "metadata": {
        "colab": {
          "base_uri": "https://localhost:8080/",
          "height": 323,
          "referenced_widgets": [
            "f4a1e069df9e48e09308cecddb1f6da2",
            "96971850895c409cbfb439a44c673a38",
            "292d4dbb0b314b0193a6cbfe779c703a",
            "4cdc23d486c744b198bd197ad13c332b",
            "3ff3a0629e0b4d1bbe8e72e83e00f449",
            "c05d19d60ef349d983817658a38211f5",
            "1a688720446f4d889ad81066b126b1b8",
            "533d9144cb6145eab69c1f0fad8f2320",
            "fa1205b654474359bf23d07dde99d4f7",
            "42c65b559e674172a00aed7d9c17b30a",
            "ce18da78f475481e8c4fff3e0e6d8848"
          ]
        },
        "id": "T_E_GBGLPLn1",
        "outputId": "84da10d8-ea80-46d5-e25f-59f6dbc59684"
      },
      "execution_count": null,
      "outputs": [
        {
          "output_type": "display_data",
          "data": {
            "text/plain": [
              "  0%|          | 0/3 [00:00<?, ?it/s]"
            ],
            "application/vnd.jupyter.widget-view+json": {
              "version_major": 2,
              "version_minor": 0,
              "model_id": "f4a1e069df9e48e09308cecddb1f6da2"
            }
          },
          "metadata": {}
        },
        {
          "output_type": "stream",
          "name": "stdout",
          "text": [
            "Epochs:0\n",
            "----\n",
            "Train loss:1.0920 | Train accuracy:61.34\n",
            "Test loss:0.9564 | Test accuracy:65.00%\n",
            "\n",
            "Epochs:1\n",
            "----\n",
            "Train loss:0.7810 | Train accuracy:71.93\n",
            "Test loss:0.7223 | Test accuracy:73.91%\n",
            "\n",
            "Epochs:2\n",
            "----\n",
            "Train loss:0.6703 | Train accuracy:75.94\n",
            "Test loss:0.6850 | Test accuracy:75.02%\n",
            "\n"
          ]
        }
      ]
    },
    {
      "cell_type": "code",
      "source": [
        "train_time_of_model_1=train_time(start=train_time_start_on_cuda,\n",
        "           end=train_time_stop_on_cuda,\n",
        "           device=device)"
      ],
      "metadata": {
        "colab": {
          "base_uri": "https://localhost:8080/"
        },
        "id": "YCdpWN4VKU5V",
        "outputId": "c34fae1e-55ec-48ec-901e-d8a475c3db81"
      },
      "execution_count": null,
      "outputs": [
        {
          "output_type": "stream",
          "name": "stdout",
          "text": [
            "Train time on cuda:27.075seconds\n"
          ]
        }
      ]
    },
    {
      "cell_type": "code",
      "source": [
        "model_1_results=eval_model(model=model_1,\n",
        "                           data_loader=test_dataloader,\n",
        "                           loss_fn=loss_fn,\n",
        "                           accuracy_fn=accuracy_fn)\n",
        "model_1_results"
      ],
      "metadata": {
        "colab": {
          "base_uri": "https://localhost:8080/",
          "height": 104,
          "referenced_widgets": [
            "045ea3c180434c83a1af5cfd85f4508b",
            "9711737b97e94ddf9638bae46a6a5799",
            "61dbe4e36f364dca9ef537b7ef61248c",
            "7fcee8f522c1470a99e2a05e9eccdc63",
            "a54f96e85266425bafeea013f1cc8721",
            "c24a34cec6554e10ac3d304853d841e5",
            "bc9954a3cf904c32af6bfcffd3c15d97",
            "ddfd1b0be15440669a31b0f2f4ec393d",
            "7cd4e0cc42b7416e98244fd3d3f137d8",
            "78270eb10c9e4ad082740246d763dbdd",
            "ffecad0aaf334155be6b5181e5a966db"
          ]
        },
        "id": "sPbjt9dvcCky",
        "outputId": "d404052b-6e8a-4325-f31d-84f22d3cf221"
      },
      "execution_count": null,
      "outputs": [
        {
          "output_type": "display_data",
          "data": {
            "text/plain": [
              "  0%|          | 0/313 [00:00<?, ?it/s]"
            ],
            "application/vnd.jupyter.widget-view+json": {
              "version_major": 2,
              "version_minor": 0,
              "model_id": "045ea3c180434c83a1af5cfd85f4508b"
            }
          },
          "metadata": {}
        },
        {
          "output_type": "execute_result",
          "data": {
            "text/plain": [
              "{'Model_name': 'FashionMNIST_V1',\n",
              " 'Model_loss': 0.6850008964538574,\n",
              " 'Model_acc': 75.01996805111821}"
            ]
          },
          "metadata": {},
          "execution_count": 42
        }
      ]
    },
    {
      "cell_type": "markdown",
      "source": [
        "Model 2:Creating a convolutional neural network"
      ],
      "metadata": {
        "id": "aPOavW6XfTdw"
      }
    },
    {
      "cell_type": "code",
      "source": [
        "class FashionMNIST_V2(nn.Module):\n",
        "  def __init__(self,in_channels,hiddenchannels,out_channels):\n",
        "    super().__init__()\n",
        "    self.conv_block_1=nn.Sequential(\n",
        "        nn.Conv2d(in_channels=in_channels,\n",
        "                  out_channels=hiddenchannels,\n",
        "                  kernel_size=3,\n",
        "                  stride=1,\n",
        "                  padding=1),\n",
        "        nn.ReLU(),\n",
        "        nn.Conv2d(in_channels=hiddenchannels,\n",
        "                  out_channels=hiddenchannels,\n",
        "                  kernel_size=3,\n",
        "                  stride=1,\n",
        "                  padding=1),\n",
        "        nn.ReLU(),\n",
        "        nn.MaxPool2d(kernel_size=2)\n",
        "    )\n",
        "    self.conv_block_2=nn.Sequential(\n",
        "        nn.Conv2d(in_channels=hiddenchannels,\n",
        "                  out_channels=hiddenchannels,\n",
        "                  kernel_size=3,\n",
        "                  stride=1,\n",
        "                  padding=1),\n",
        "        nn.ReLU(),\n",
        "        nn.Conv2d(in_channels=hiddenchannels,\n",
        "                  out_channels=hiddenchannels,\n",
        "                  kernel_size=3,\n",
        "                  stride=1,\n",
        "                  padding=1),\n",
        "        nn.ReLU(),\n",
        "        nn.MaxPool2d(kernel_size=2)\n",
        "    )\n",
        "    self.classifier=nn.Sequential(\n",
        "        nn.Flatten(),\n",
        "        nn.Linear(in_features=hiddenchannels*7*7,\n",
        "                  out_features=out_channels))\n",
        "\n",
        "\n",
        "  def forward(self,x):\n",
        "    x=self.conv_block_1(x)\n",
        "    # print(f\"Output block of conv_block_1 :{x.shape}\")\n",
        "    x=self.conv_block_2(x)\n",
        "    # print(f\"Output block of conv_block_2 :{x.shape}\")\n",
        "    x=self.classifier(x)\n",
        "    # print(f\"Output block of classifier :{x.shape}\")\n",
        "    return x\n"
      ],
      "metadata": {
        "id": "gNukVScngs6e"
      },
      "execution_count": null,
      "outputs": []
    },
    {
      "cell_type": "code",
      "source": [
        "torch.manual_seed(42)\n",
        "model_2=FashionMNIST_V2(in_channels=1,hiddenchannels=10,out_channels=len(class_names)).to(device)\n"
      ],
      "metadata": {
        "id": "nbC-wTpRd43H"
      },
      "execution_count": null,
      "outputs": []
    },
    {
      "cell_type": "code",
      "source": [
        "plt.imshow(image.squeeze(),cmap=\"gray\")"
      ],
      "metadata": {
        "colab": {
          "base_uri": "https://localhost:8080/",
          "height": 448
        },
        "id": "kBMeHMX28L6N",
        "outputId": "5ec4a8d9-888f-4bfc-a624-21d482436f23"
      },
      "execution_count": null,
      "outputs": [
        {
          "output_type": "execute_result",
          "data": {
            "text/plain": [
              "<matplotlib.image.AxesImage at 0x7bf62c261e10>"
            ]
          },
          "metadata": {},
          "execution_count": 45
        },
        {
          "output_type": "display_data",
          "data": {
            "text/plain": [
              "<Figure size 640x480 with 1 Axes>"
            ],
            "image/png": "[encoded data removed]"
          },
          "metadata": {}
        }
      ]
    },
    {
      "cell_type": "code",
      "source": [
        "rand_image_tensor=torch.randn(1,28,28)\n",
        "rand_image_tensor.shape"
      ],
      "metadata": {
        "colab": {
          "base_uri": "https://localhost:8080/"
        },
        "id": "P8MDKhKQ8qQG",
        "outputId": "dbe5bf5c-64fc-4875-9237-1dd1ad8d853e"
      },
      "execution_count": null,
      "outputs": [
        {
          "output_type": "execute_result",
          "data": {
            "text/plain": [
              "torch.Size([1, 28, 28])"
            ]
          },
          "metadata": {},
          "execution_count": 46
        }
      ]
    },
    {
      "cell_type": "code",
      "source": [
        "model_2(rand_image_tensor.unsqueeze(0).to(device))"
      ],
      "metadata": {
        "colab": {
          "base_uri": "https://localhost:8080/"
        },
        "id": "-yileUUI9Ew9",
        "outputId": "8e50ab87-46af-490c-cffe-e99577a264ee"
      },
      "execution_count": null,
      "outputs": [
        {
          "output_type": "execute_result",
          "data": {
            "text/plain": [
              "tensor([[ 0.0366, -0.0940,  0.0686, -0.0485,  0.0068,  0.0290,  0.0132,  0.0084,\n",
              "         -0.0030, -0.0185]], device='cuda:0', grad_fn=<AddmmBackward0>)"
            ]
          },
          "metadata": {},
          "execution_count": 47
        }
      ]
    },
    {
      "cell_type": "code",
      "source": [],
      "metadata": {
        "id": "7K5EkmDk9Emm"
      },
      "execution_count": null,
      "outputs": []
    },
    {
      "cell_type": "markdown",
      "source": [],
      "metadata": {
        "id": "VMhuQ9SV9Ead"
      }
    },
    {
      "cell_type": "code",
      "source": [
        "torch.manual_seed(42)\n",
        "\n",
        "images=torch.randn(size=(32,3,64,64))\n",
        "test_image=images[0]\n",
        "\n",
        "print(f\"Image batch shape:{images.shape}\")\n",
        "print(f\"Single image shape:{test_image.shape}\")\n",
        "print(f\"Test images:\\n{test_image}\")"
      ],
      "metadata": {
        "id": "T2XBxDMzfqB6",
        "colab": {
          "base_uri": "https://localhost:8080/"
        },
        "outputId": "c7bcbf10-e8f8-4935-8ded-dc9b2701d8be"
      },
      "execution_count": null,
      "outputs": [
        {
          "output_type": "stream",
          "name": "stdout",
          "text": [
            "Image batch shape:torch.Size([32, 3, 64, 64])\n",
            "Single image shape:torch.Size([3, 64, 64])\n",
            "Test images:\n",
            "tensor([[[ 1.9269,  1.4873,  0.9007,  ...,  1.8446, -1.1845,  1.3835],\n",
            "         [ 1.4451,  0.8564,  2.2181,  ...,  0.3399,  0.7200,  0.4114],\n",
            "         [ 1.9312,  1.0119, -1.4364,  ..., -0.5558,  0.7043,  0.7099],\n",
            "         ...,\n",
            "         [-0.5610, -0.4830,  0.4770,  ..., -0.2713, -0.9537, -0.6737],\n",
            "         [ 0.3076, -0.1277,  0.0366,  ..., -2.0060,  0.2824, -0.8111],\n",
            "         [-1.5486,  0.0485, -0.7712,  ..., -0.1403,  0.9416, -0.0118]],\n",
            "\n",
            "        [[-0.5197,  1.8524,  1.8365,  ...,  0.8935, -1.5114, -0.8515],\n",
            "         [ 2.0818,  1.0677, -1.4277,  ...,  1.6612, -2.6223, -0.4319],\n",
            "         [-0.1010, -0.4388, -1.9775,  ...,  0.2106,  0.2536, -0.7318],\n",
            "         ...,\n",
            "         [ 0.2779,  0.7342, -0.3736,  ..., -0.4601,  0.1815,  0.1850],\n",
            "         [ 0.7205, -0.2833,  0.0937,  ..., -0.1002, -2.3609,  2.2465],\n",
            "         [-1.3242, -0.1973,  0.2920,  ...,  0.5409,  0.6940,  1.8563]],\n",
            "\n",
            "        [[-0.7978,  1.0261,  1.1465,  ...,  1.2134,  0.9354, -0.0780],\n",
            "         [-1.4647, -1.9571,  0.1017,  ..., -1.9986, -0.7409,  0.7011],\n",
            "         [-1.3938,  0.8466, -1.7191,  ..., -1.1867,  0.1320,  0.3407],\n",
            "         ...,\n",
            "         [ 0.8206, -0.3745,  1.2499,  ..., -0.0676,  0.0385,  0.6335],\n",
            "         [-0.5589, -0.3393,  0.2347,  ...,  2.1181,  2.4569,  1.3083],\n",
            "         [-0.4092,  1.5199,  0.2401,  ..., -0.2558,  0.7870,  0.9924]]])\n"
          ]
        }
      ]
    },
    {
      "cell_type": "code",
      "source": [
        "len(test_image)"
      ],
      "metadata": {
        "colab": {
          "base_uri": "https://localhost:8080/"
        },
        "id": "nEULm9osuxIv",
        "outputId": "448b487f-f9fd-4b7c-8a15-d14dfea1eb77"
      },
      "execution_count": null,
      "outputs": [
        {
          "output_type": "execute_result",
          "data": {
            "text/plain": [
              "3"
            ]
          },
          "metadata": {},
          "execution_count": 49
        }
      ]
    },
    {
      "cell_type": "code",
      "source": [
        "test_image.unsqueeze(0).shape,test_image.squeeze().shape,test_image.shape"
      ],
      "metadata": {
        "colab": {
          "base_uri": "https://localhost:8080/"
        },
        "id": "kkqsPGeXvZFn",
        "outputId": "3ffa6e19-b521-41af-b018-482822dcd6dd"
      },
      "execution_count": null,
      "outputs": [
        {
          "output_type": "execute_result",
          "data": {
            "text/plain": [
              "(torch.Size([1, 3, 64, 64]), torch.Size([3, 64, 64]), torch.Size([3, 64, 64]))"
            ]
          },
          "metadata": {},
          "execution_count": 50
        }
      ]
    },
    {
      "cell_type": "code",
      "source": [
        "torch.manual_seed(42)\n",
        "conv_layes=nn.Conv2d(in_channels=3,\n",
        "                     out_channels=10,\n",
        "                     kernel_size=(3,3),\n",
        "                     stride=1,\n",
        "                     padding=0)\n",
        "\n",
        "conv_output=conv_layes(test_image)\n",
        "conv_output\n"
      ],
      "metadata": {
        "id": "nBXQjSeKk_vl",
        "colab": {
          "base_uri": "https://localhost:8080/"
        },
        "outputId": "e84c1e2b-7104-451d-be19-d3b11e804ee3"
      },
      "execution_count": null,
      "outputs": [
        {
          "output_type": "execute_result",
          "data": {
            "text/plain": [
              "tensor([[[ 1.5396,  0.0516,  0.6454,  ..., -0.3673,  0.8711,  0.4256],\n",
              "         [ 0.3662,  1.0114, -0.5997,  ...,  0.8983,  0.2809, -0.2741],\n",
              "         [ 1.2664, -1.4054,  0.3727,  ..., -0.3409,  1.2191, -0.0463],\n",
              "         ...,\n",
              "         [-0.1541,  0.5132, -0.3624,  ..., -0.2360, -0.4609, -0.0035],\n",
              "         [ 0.2981, -0.2432,  1.5012,  ..., -0.6289, -0.7283, -0.5767],\n",
              "         [-0.0386, -0.0781, -0.0388,  ...,  0.2842,  0.4228, -0.1802]],\n",
              "\n",
              "        [[-0.2840, -0.0319, -0.4455,  ..., -0.7956,  1.5599, -1.2449],\n",
              "         [ 0.2753, -0.1262, -0.6541,  ..., -0.2211,  0.1999, -0.8856],\n",
              "         [-0.5404, -1.5489,  0.0249,  ..., -0.5932, -1.0913, -0.3849],\n",
              "         ...,\n",
              "         [ 0.3870, -0.4064, -0.8236,  ...,  0.1734, -0.4330, -0.4951],\n",
              "         [-0.1984, -0.6386,  1.0263,  ..., -0.9401, -0.0585, -0.7833],\n",
              "         [-0.6306, -0.2052, -0.3694,  ..., -1.3248,  0.2456, -0.7134]],\n",
              "\n",
              "        [[ 0.4414,  0.5100,  0.4846,  ..., -0.8484,  0.2638,  1.1258],\n",
              "         [ 0.8117,  0.3191, -0.0157,  ...,  1.2686,  0.2319,  0.5003],\n",
              "         [ 0.3212,  0.0485, -0.2581,  ...,  0.2258,  0.2587, -0.8804],\n",
              "         ...,\n",
              "         [-0.1144, -0.1869,  0.0160,  ..., -0.8346,  0.0974,  0.8421],\n",
              "         [ 0.2941,  0.4417,  0.5866,  ..., -0.1224,  0.4814, -0.4799],\n",
              "         [ 0.6059, -0.0415, -0.2028,  ...,  0.1170,  0.2521, -0.4372]],\n",
              "\n",
              "        ...,\n",
              "\n",
              "        [[-0.2560, -0.0477,  0.6380,  ...,  0.6436,  0.7553, -0.7055],\n",
              "         [ 1.5595, -0.2209, -0.9486,  ..., -0.4876,  0.7754,  0.0750],\n",
              "         [-0.0797,  0.2471,  1.1300,  ...,  0.1505,  0.2354,  0.9576],\n",
              "         ...,\n",
              "         [ 1.1065,  0.6839,  1.2183,  ...,  0.3015, -0.1910, -0.1902],\n",
              "         [-0.3486, -0.7173, -0.3582,  ...,  0.4917,  0.7219,  0.1513],\n",
              "         [ 0.0119,  0.1017,  0.7839,  ..., -0.3752, -0.8127, -0.1257]],\n",
              "\n",
              "        [[ 0.3841,  1.1322,  0.1620,  ...,  0.7010,  0.0109,  0.6058],\n",
              "         [ 0.1664,  0.1873,  1.5924,  ...,  0.3733,  0.9096, -0.5399],\n",
              "         [ 0.4094, -0.0861, -0.7935,  ..., -0.1285, -0.9932, -0.3013],\n",
              "         ...,\n",
              "         [ 0.2688, -0.5630, -1.1902,  ...,  0.4493,  0.5404, -0.0103],\n",
              "         [ 0.0535,  0.4411,  0.5313,  ...,  0.0148, -1.0056,  0.3759],\n",
              "         [ 0.3031, -0.1590, -0.1316,  ..., -0.5384, -0.4271, -0.4876]],\n",
              "\n",
              "        [[-1.1865, -0.7280, -1.2331,  ..., -0.9013, -0.0542, -1.5949],\n",
              "         [-0.6345, -0.5920,  0.5326,  ..., -1.0395, -0.7963, -0.0647],\n",
              "         [-0.1132,  0.5166,  0.2569,  ...,  0.5595, -1.6881,  0.9485],\n",
              "         ...,\n",
              "         [-0.0254, -0.2669,  0.1927,  ..., -0.2917,  0.1088, -0.4807],\n",
              "         [-0.2609, -0.2328,  0.1404,  ..., -0.1325, -0.8436, -0.7524],\n",
              "         [-1.1399, -0.1751, -0.8705,  ...,  0.1589,  0.3377,  0.3493]]],\n",
              "       grad_fn=<SqueezeBackward1>)"
            ]
          },
          "metadata": {},
          "execution_count": 51
        }
      ]
    },
    {
      "cell_type": "markdown",
      "source": [
        "##making loass function"
      ],
      "metadata": {
        "id": "mXl6DdabvGxO"
      }
    },
    {
      "cell_type": "code",
      "source": [
        "loss_fn=nn.CrossEntropyLoss()\n",
        "optimizer=torch.optim.SGD(params=model_2.parameters(),\n",
        "                          lr=0.1)"
      ],
      "metadata": {
        "id": "hNG0nNFKAwYN"
      },
      "execution_count": null,
      "outputs": []
    },
    {
      "cell_type": "code",
      "source": [
        "torch.manual_seed(42)\n",
        "torch.cuda.manual_seed(42)\n",
        "\n",
        "from timeit import default_timer as timer\n",
        "train_time_start_on_model_2=timer()\n",
        "\n",
        "epochs=3\n",
        "\n",
        "for epoch in tqdm(range(epochs)):\n",
        "  print(f\"Epochs:{epoch}.....\")\n",
        "  train_step(model=model_2,\n",
        "             data_loader=train_dataloader,\n",
        "             loss_fn=loss_fn,\n",
        "             optimizer=optimizer,\n",
        "             accuracy_fn=accuracy_fn,\n",
        "             device=device)\n",
        "\n",
        "  test_step(model=model_2,\n",
        "            data_loader=test_dataloader,\n",
        "            loss_fn=loss_fn,\n",
        "            accuracy_fn=accuracy_fn,\n",
        "            device=device)\n",
        "\n",
        "train_time_end_on_model_2=timer()\n",
        "train_time_of_model_2=train_time(start=train_time_start_on_model_2,\n",
        "                                 end=train_time_end_on_model_2,\n",
        "                                 device=device)"
      ],
      "metadata": {
        "colab": {
          "base_uri": "https://localhost:8080/",
          "height": 286,
          "referenced_widgets": [
            "e3d963b10091477c9266a5c71ef662ed",
            "bf0aba4877cc417fbda159f8f9dd3fe5",
            "963f38889118447c9611fc487a26cd3e",
            "e9a701c3f7f743fca1d2939ec5fc1aa2",
            "72c43a5037cc41b3a0ea31cfc575ba75",
            "e17ae06f62164d5f9c633d39c7d8314f",
            "10038faffe9047739758281a969b707d",
            "fd5b3ac474af4afa9a77c52a31c1cd6e",
            "a8a336d67ca0405c992f353ddad6c95a",
            "1ba5e871b0b040f68ece66433f4bf373",
            "f696ef527fcf4f50a2665f34924ea5bd"
          ]
        },
        "id": "kxEUoBWOBHTp",
        "outputId": "24b152c6-f274-43b4-a206-d140e2d4d920"
      },
      "execution_count": null,
      "outputs": [
        {
          "output_type": "display_data",
          "data": {
            "text/plain": [
              "  0%|          | 0/3 [00:00<?, ?it/s]"
            ],
            "application/vnd.jupyter.widget-view+json": {
              "version_major": 2,
              "version_minor": 0,
              "model_id": "e3d963b10091477c9266a5c71ef662ed"
            }
          },
          "metadata": {}
        },
        {
          "output_type": "stream",
          "name": "stdout",
          "text": [
            "Epochs:0.....\n",
            "Train loss:0.5940 | Train accuracy:78.47\n",
            "Test loss:0.4018 | Test accuracy:85.66%\n",
            "\n",
            "Epochs:1.....\n",
            "Train loss:0.3633 | Train accuracy:86.93\n",
            "Test loss:0.3533 | Test accuracy:86.90%\n",
            "\n",
            "Epochs:2.....\n",
            "Train loss:0.3258 | Train accuracy:88.20\n",
            "Test loss:0.3216 | Test accuracy:88.22%\n",
            "\n",
            "Train time on cuda:34.746seconds\n"
          ]
        }
      ]
    },
    {
      "cell_type": "code",
      "source": [
        "train_time_of_model_2"
      ],
      "metadata": {
        "id": "v9ZVn9DcLinM"
      },
      "execution_count": null,
      "outputs": []
    },
    {
      "cell_type": "code",
      "source": [
        "model_2_results=eval_model(model=model_2,\n",
        "                           data_loader=test_dataloader,\n",
        "                           loss_fn=loss_fn,\n",
        "                           accuracy_fn=accuracy_fn,\n",
        "                           device=device)\n",
        "model_2_results"
      ],
      "metadata": {
        "id": "0b3VwjmpDGZi",
        "colab": {
          "base_uri": "https://localhost:8080/",
          "height": 104,
          "referenced_widgets": [
            "c15b9bd83ea64063bcf6a0c4331281bf",
            "ab60ddb5906c43c78b371b29bafe3b15",
            "c05a4faf062341b59b7ab5e43ec27276",
            "9588744e8f3a475491a95e7b45332a4c",
            "e6202946c96a4fd480fe4a8bc85a229b",
            "ffb145cdfc914515819c76493b009c4c",
            "6c212b9fbf9b4ceb930a0a03eca3ecb9",
            "76d14ee5341a4750baf0b47a72b578e5",
            "df882334abc64391bb8eb2e7479a7256",
            "77412301983a44719dd0f8be634ffe8e",
            "1b617c2d299a4d519055f21f340ad07f"
          ]
        },
        "outputId": "8661c607-b3b4-4c8f-b4db-def55b119ff6"
      },
      "execution_count": null,
      "outputs": [
        {
          "output_type": "display_data",
          "data": {
            "text/plain": [
              "  0%|          | 0/313 [00:00<?, ?it/s]"
            ],
            "application/vnd.jupyter.widget-view+json": {
              "version_major": 2,
              "version_minor": 0,
              "model_id": "c15b9bd83ea64063bcf6a0c4331281bf"
            }
          },
          "metadata": {}
        },
        {
          "output_type": "execute_result",
          "data": {
            "text/plain": [
              "{'Model_name': 'FashionMNIST_V2',\n",
              " 'Model_loss': 0.3215969204902649,\n",
              " 'Model_acc': 88.21884984025559}"
            ]
          },
          "metadata": {},
          "execution_count": 55
        }
      ]
    },
    {
      "cell_type": "code",
      "source": [
        "model_0_results = eval_model(model=model_0,\n",
        "                             data_loader=test_dataloader,\n",
        "                             loss_fn=loss_fn,\n",
        "                             accuracy_fn=accuracy_fn,\n",
        "                             device=device)"
      ],
      "metadata": {
        "id": "aqI4BbaFJA2k",
        "colab": {
          "base_uri": "https://localhost:8080/",
          "height": 49,
          "referenced_widgets": [
            "64aaf6c41c8349afa10dc91732d9e3e8",
            "8e027b5bef234e5c81968dd893cd2231",
            "200dd8ea3132479d971faa7fa678ab2b",
            "1eb68209843b4a4ead0c2585a218a4a5",
            "6ea52ce1970f4b33b4d1c1c49b9e19f9",
            "85e8b44207e743c2971000fac7353e27",
            "b949fa68431d4ca99b438767a45acbe0",
            "4632cd3560ac4a3f8c3b8b3d439d131b",
            "9dc7ac63b8444b0eba5493fb784b28dd",
            "246f178732e8458aa08ff37477ab2e68",
            "e870d9f8fa1b4cc1ab9010596b05a100"
          ]
        },
        "outputId": "78a32f6b-3f9f-41a4-f00a-d6a2b17c5f3f"
      },
      "execution_count": null,
      "outputs": [
        {
          "output_type": "display_data",
          "data": {
            "text/plain": [
              "  0%|          | 0/313 [00:00<?, ?it/s]"
            ],
            "application/vnd.jupyter.widget-view+json": {
              "version_major": 2,
              "version_minor": 0,
              "model_id": "64aaf6c41c8349afa10dc91732d9e3e8"
            }
          },
          "metadata": {}
        }
      ]
    },
    {
      "cell_type": "code",
      "source": [
        "import pandas as pd\n",
        "compare_results=pd.DataFrame([model_0_results,\n",
        "                              model_1_results,\n",
        "                              model_2_results])\n",
        "compare_results"
      ],
      "metadata": {
        "id": "KtmDC8QNEQk3",
        "colab": {
          "base_uri": "https://localhost:8080/",
          "height": 143
        },
        "outputId": "9938937e-ff87-4bd6-a942-9535635a9fd5"
      },
      "execution_count": null,
      "outputs": [
        {
          "output_type": "execute_result",
          "data": {
            "text/plain": [
              "        Model_name  Model_loss  Model_acc\n",
              "0     FashionMNIST    0.476639  83.426518\n",
              "1  FashionMNIST_V1    0.685001  75.019968\n",
              "2  FashionMNIST_V2    0.321597  88.218850"
            ],
            "text/html": [
              "\n",
              "  <div id=\"df-0fdce120-9ffd-4b7e-9db7-01bc61797b29\" class=\"colab-df-container\">\n",
              "    <div>\n",
              "<style scoped>\n",
              "    .dataframe tbody tr th:only-of-type {\n",
              "        vertical-align: middle;\n",
              "    }\n",
              "\n",
              "    .dataframe tbody tr th {\n",
              "        vertical-align: top;\n",
              "    }\n",
              "\n",
              "    .dataframe thead th {\n",
              "        text-align: right;\n",
              "    }\n",
              "</style>\n",
              "<table border=\"1\" class=\"dataframe\">\n",
              "  <thead>\n",
              "    <tr style=\"text-align: right;\">\n",
              "      <th></th>\n",
              "      <th>Model_name</th>\n",
              "      <th>Model_loss</th>\n",
              "      <th>Model_acc</th>\n",
              "    </tr>\n",
              "  </thead>\n",
              "  <tbody>\n",
              "    <tr>\n",
              "      <th>0</th>\n",
              "      <td>FashionMNIST</td>\n",
              "      <td>0.476639</td>\n",
              "      <td>83.426518</td>\n",
              "    </tr>\n",
              "    <tr>\n",
              "      <th>1</th>\n",
              "      <td>FashionMNIST_V1</td>\n",
              "      <td>0.685001</td>\n",
              "      <td>75.019968</td>\n",
              "    </tr>\n",
              "    <tr>\n",
              "      <th>2</th>\n",
              "      <td>FashionMNIST_V2</td>\n",
              "      <td>0.321597</td>\n",
              "      <td>88.218850</td>\n",
              "    </tr>\n",
              "  </tbody>\n",
              "</table>\n",
              "</div>\n",
              "    <div class=\"colab-df-buttons\">\n",
              "\n",
              "  <div class=\"colab-df-container\">\n",
              "    <button class=\"colab-df-convert\" onclick=\"convertToInteractive('df-0fdce120-9ffd-4b7e-9db7-01bc61797b29')\"\n",
              "            title=\"Convert this dataframe to an interactive table.\"\n",
              "            style=\"display:none;\">\n",
              "\n",
              "  <svg xmlns=\"http://www.w3.org/2000/svg\" height=\"24px\" viewBox=\"0 -960 960 960\">\n",
              "    <path d=\"M120-120v-720h720v720H120Zm60-500h600v-160H180v160Zm220 220h160v-160H400v160Zm0 220h160v-160H400v160ZM180-400h160v-160H180v160Zm440 0h160v-160H620v160ZM180-180h160v-160H180v160Zm440 0h160v-160H620v160Z\"/>\n",
              "  </svg>\n",
              "    </button>\n",
              "\n",
              "  <style>\n",
              "    .colab-df-container {\n",
              "      display:flex;\n",
              "      gap: 12px;\n",
              "    }\n",
              "\n",
              "    .colab-df-convert {\n",
              "      background-color: #E8F0FE;\n",
              "      border: none;\n",
              "      border-radius: 50%;\n",
              "      cursor: pointer;\n",
              "      display: none;\n",
              "      fill: #1967D2;\n",
              "      height: 32px;\n",
              "      padding: 0 0 0 0;\n",
              "      width: 32px;\n",
              "    }\n",
              "\n",
              "    .colab-df-convert:hover {\n",
              "      background-color: #E2EBFA;\n",
              "      box-shadow: 0px 1px 2px rgba(60, 64, 67, 0.3), 0px 1px 3px 1px rgba(60, 64, 67, 0.15);\n",
              "      fill: #174EA6;\n",
              "    }\n",
              "\n",
              "    .colab-df-buttons div {\n",
              "      margin-bottom: 4px;\n",
              "    }\n",
              "\n",
              "    [theme=dark] .colab-df-convert {\n",
              "      background-color: #3B4455;\n",
              "      fill: #D2E3FC;\n",
              "    }\n",
              "\n",
              "    [theme=dark] .colab-df-convert:hover {\n",
              "      background-color: #434B5C;\n",
              "      box-shadow: 0px 1px 3px 1px rgba(0, 0, 0, 0.15);\n",
              "      filter: drop-shadow(0px 1px 2px rgba(0, 0, 0, 0.3));\n",
              "      fill: #FFFFFF;\n",
              "    }\n",
              "  </style>\n",
              "\n",
              "    <script>\n",
              "      const buttonEl =\n",
              "        document.querySelector('#df-0fdce120-9ffd-4b7e-9db7-01bc61797b29 button.colab-df-convert');\n",
              "      buttonEl.style.display =\n",
              "        google.colab.kernel.accessAllowed ? 'block' : 'none';\n",
              "\n",
              "      async function convertToInteractive(key) {\n",
              "        const element = document.querySelector('#df-0fdce120-9ffd-4b7e-9db7-01bc61797b29');\n",
              "        const dataTable =\n",
              "          await google.colab.kernel.invokeFunction('convertToInteractive',\n",
              "                                                    [key], {});\n",
              "        if (!dataTable) return;\n",
              "\n",
              "        const docLinkHtml = 'Like what you see? Visit the ' +\n",
              "          '<a target=\"_blank\" href=https://colab.research.google.com/notebooks/data_table.ipynb>data table notebook</a>'\n",
              "          + ' to learn more about interactive tables.';\n",
              "        element.innerHTML = '';\n",
              "        dataTable['output_type'] = 'display_data';\n",
              "        await google.colab.output.renderOutput(dataTable, element);\n",
              "        const docLink = document.createElement('div');\n",
              "        docLink.innerHTML = docLinkHtml;\n",
              "        element.appendChild(docLink);\n",
              "      }\n",
              "    </script>\n",
              "  </div>\n",
              "\n",
              "\n",
              "<div id=\"df-3098aa95-4e1d-4e98-a7ea-d7a4e783543d\">\n",
              "  <button class=\"colab-df-quickchart\" onclick=\"quickchart('df-3098aa95-4e1d-4e98-a7ea-d7a4e783543d')\"\n",
              "            title=\"Suggest charts\"\n",
              "            style=\"display:none;\">\n",
              "\n",
              "<svg xmlns=\"http://www.w3.org/2000/svg\" height=\"24px\"viewBox=\"0 0 24 24\"\n",
              "     width=\"24px\">\n",
              "    <g>\n",
              "        <path d=\"M19 3H5c-1.1 0-2 .9-2 2v14c0 1.1.9 2 2 2h14c1.1 0 2-.9 2-2V5c0-1.1-.9-2-2-2zM9 17H7v-7h2v7zm4 0h-2V7h2v10zm4 0h-2v-4h2v4z\"/>\n",
              "    </g>\n",
              "</svg>\n",
              "  </button>\n",
              "\n",
              "<style>\n",
              "  .colab-df-quickchart {\n",
              "      --bg-color: #E8F0FE;\n",
              "      --fill-color: #1967D2;\n",
              "      --hover-bg-color: #E2EBFA;\n",
              "      --hover-fill-color: #174EA6;\n",
              "      --disabled-fill-color: #AAA;\n",
              "      --disabled-bg-color: #DDD;\n",
              "  }\n",
              "\n",
              "  [theme=dark] .colab-df-quickchart {\n",
              "      --bg-color: #3B4455;\n",
              "      --fill-color: #D2E3FC;\n",
              "      --hover-bg-color: #434B5C;\n",
              "      --hover-fill-color: #FFFFFF;\n",
              "      --disabled-bg-color: #3B4455;\n",
              "      --disabled-fill-color: #666;\n",
              "  }\n",
              "\n",
              "  .colab-df-quickchart {\n",
              "    background-color: var(--bg-color);\n",
              "    border: none;\n",
              "    border-radius: 50%;\n",
              "    cursor: pointer;\n",
              "    display: none;\n",
              "    fill: var(--fill-color);\n",
              "    height: 32px;\n",
              "    padding: 0;\n",
              "    width: 32px;\n",
              "  }\n",
              "\n",
              "  .colab-df-quickchart:hover {\n",
              "    background-color: var(--hover-bg-color);\n",
              "    box-shadow: 0 1px 2px rgba(60, 64, 67, 0.3), 0 1px 3px 1px rgba(60, 64, 67, 0.15);\n",
              "    fill: var(--button-hover-fill-color);\n",
              "  }\n",
              "\n",
              "  .colab-df-quickchart-complete:disabled,\n",
              "  .colab-df-quickchart-complete:disabled:hover {\n",
              "    background-color: var(--disabled-bg-color);\n",
              "    fill: var(--disabled-fill-color);\n",
              "    box-shadow: none;\n",
              "  }\n",
              "\n",
              "  .colab-df-spinner {\n",
              "    border: 2px solid var(--fill-color);\n",
              "    border-color: transparent;\n",
              "    border-bottom-color: var(--fill-color);\n",
              "    animation:\n",
              "      spin 1s steps(1) infinite;\n",
              "  }\n",
              "\n",
              "  @keyframes spin {\n",
              "    0% {\n",
              "      border-color: transparent;\n",
              "      border-bottom-color: var(--fill-color);\n",
              "      border-left-color: var(--fill-color);\n",
              "    }\n",
              "    20% {\n",
              "      border-color: transparent;\n",
              "      border-left-color: var(--fill-color);\n",
              "      border-top-color: var(--fill-color);\n",
              "    }\n",
              "    30% {\n",
              "      border-color: transparent;\n",
              "      border-left-color: var(--fill-color);\n",
              "      border-top-color: var(--fill-color);\n",
              "      border-right-color: var(--fill-color);\n",
              "    }\n",
              "    40% {\n",
              "      border-color: transparent;\n",
              "      border-right-color: var(--fill-color);\n",
              "      border-top-color: var(--fill-color);\n",
              "    }\n",
              "    60% {\n",
              "      border-color: transparent;\n",
              "      border-right-color: var(--fill-color);\n",
              "    }\n",
              "    80% {\n",
              "      border-color: transparent;\n",
              "      border-right-color: var(--fill-color);\n",
              "      border-bottom-color: var(--fill-color);\n",
              "    }\n",
              "    90% {\n",
              "      border-color: transparent;\n",
              "      border-bottom-color: var(--fill-color);\n",
              "    }\n",
              "  }\n",
              "</style>\n",
              "\n",
              "  <script>\n",
              "    async function quickchart(key) {\n",
              "      const quickchartButtonEl =\n",
              "        document.querySelector('#' + key + ' button');\n",
              "      quickchartButtonEl.disabled = true;  // To prevent multiple clicks.\n",
              "      quickchartButtonEl.classList.add('colab-df-spinner');\n",
              "      try {\n",
              "        const charts = await google.colab.kernel.invokeFunction(\n",
              "            'suggestCharts', [key], {});\n",
              "      } catch (error) {\n",
              "        console.error('Error during call to suggestCharts:', error);\n",
              "      }\n",
              "      quickchartButtonEl.classList.remove('colab-df-spinner');\n",
              "      quickchartButtonEl.classList.add('colab-df-quickchart-complete');\n",
              "    }\n",
              "    (() => {\n",
              "      let quickchartButtonEl =\n",
              "        document.querySelector('#df-3098aa95-4e1d-4e98-a7ea-d7a4e783543d button');\n",
              "      quickchartButtonEl.style.display =\n",
              "        google.colab.kernel.accessAllowed ? 'block' : 'none';\n",
              "    })();\n",
              "  </script>\n",
              "</div>\n",
              "\n",
              "  <div id=\"id_aa8e6272-8031-4936-922c-d7e00af2545a\">\n",
              "    <style>\n",
              "      .colab-df-generate {\n",
              "        background-color: #E8F0FE;\n",
              "        border: none;\n",
              "        border-radius: 50%;\n",
              "        cursor: pointer;\n",
              "        display: none;\n",
              "        fill: #1967D2;\n",
              "        height: 32px;\n",
              "        padding: 0 0 0 0;\n",
              "        width: 32px;\n",
              "      }\n",
              "\n",
              "      .colab-df-generate:hover {\n",
              "        background-color: #E2EBFA;\n",
              "        box-shadow: 0px 1px 2px rgba(60, 64, 67, 0.3), 0px 1px 3px 1px rgba(60, 64, 67, 0.15);\n",
              "        fill: #174EA6;\n",
              "      }\n",
              "\n",
              "      [theme=dark] .colab-df-generate {\n",
              "        background-color: #3B4455;\n",
              "        fill: #D2E3FC;\n",
              "      }\n",
              "\n",
              "      [theme=dark] .colab-df-generate:hover {\n",
              "        background-color: #434B5C;\n",
              "        box-shadow: 0px 1px 3px 1px rgba(0, 0, 0, 0.15);\n",
              "        filter: drop-shadow(0px 1px 2px rgba(0, 0, 0, 0.3));\n",
              "        fill: #FFFFFF;\n",
              "      }\n",
              "    </style>\n",
              "    <button class=\"colab-df-generate\" onclick=\"generateWithVariable('compare_results')\"\n",
              "            title=\"Generate code using this dataframe.\"\n",
              "            style=\"display:none;\">\n",
              "\n",
              "  <svg xmlns=\"http://www.w3.org/2000/svg\" height=\"24px\"viewBox=\"0 0 24 24\"\n",
              "       width=\"24px\">\n",
              "    <path d=\"M7,19H8.4L18.45,9,17,7.55,7,17.6ZM5,21V16.75L18.45,3.32a2,2,0,0,1,2.83,0l1.4,1.43a1.91,1.91,0,0,1,.58,1.4,1.91,1.91,0,0,1-.58,1.4L9.25,21ZM18.45,9,17,7.55Zm-12,3A5.31,5.31,0,0,0,4.9,8.1,5.31,5.31,0,0,0,1,6.5,5.31,5.31,0,0,0,4.9,4.9,5.31,5.31,0,0,0,6.5,1,5.31,5.31,0,0,0,8.1,4.9,5.31,5.31,0,0,0,12,6.5,5.46,5.46,0,0,0,6.5,12Z\"/>\n",
              "  </svg>\n",
              "    </button>\n",
              "    <script>\n",
              "      (() => {\n",
              "      const buttonEl =\n",
              "        document.querySelector('#id_aa8e6272-8031-4936-922c-d7e00af2545a button.colab-df-generate');\n",
              "      buttonEl.style.display =\n",
              "        google.colab.kernel.accessAllowed ? 'block' : 'none';\n",
              "\n",
              "      buttonEl.onclick = () => {\n",
              "        google.colab.notebook.generateWithVariable('compare_results');\n",
              "      }\n",
              "      })();\n",
              "    </script>\n",
              "  </div>\n",
              "\n",
              "    </div>\n",
              "  </div>\n"
            ],
            "application/vnd.google.colaboratory.intrinsic+json": {
              "type": "dataframe",
              "variable_name": "compare_results",
              "summary": "{\n  \"name\": \"compare_results\",\n  \"rows\": 3,\n  \"fields\": [\n    {\n      \"column\": \"Model_name\",\n      \"properties\": {\n        \"dtype\": \"string\",\n        \"num_unique_values\": 3,\n        \"samples\": [\n          \"FashionMNIST\",\n          \"FashionMNIST_V1\",\n          \"FashionMNIST_V2\"\n        ],\n        \"semantic_type\": \"\",\n        \"description\": \"\"\n      }\n    },\n    {\n      \"column\": \"Model_loss\",\n      \"properties\": {\n        \"dtype\": \"number\",\n        \"std\": 0.18235276350239277,\n        \"min\": 0.3215969204902649,\n        \"max\": 0.6850008964538574,\n        \"num_unique_values\": 3,\n        \"samples\": [\n          0.47663894295692444,\n          0.6850008964538574,\n          0.3215969204902649\n        ],\n        \"semantic_type\": \"\",\n        \"description\": \"\"\n      }\n    },\n    {\n      \"column\": \"Model_acc\",\n      \"properties\": {\n        \"dtype\": \"number\",\n        \"std\": 6.6814045915909075,\n        \"min\": 75.01996805111821,\n        \"max\": 88.21884984025559,\n        \"num_unique_values\": 3,\n        \"samples\": [\n          83.42651757188499,\n          75.01996805111821,\n          88.21884984025559\n        ],\n        \"semantic_type\": \"\",\n        \"description\": \"\"\n      }\n    }\n  ]\n}"
            }
          },
          "metadata": {},
          "execution_count": 57
        }
      ]
    },
    {
      "cell_type": "code",
      "source": [
        "compare_results[\"training_time\"]=[train_time_of_model_0,\n",
        "                                  train_time_of_model_1,\n",
        "                                  train_time_of_model_2]\n",
        "compare_results\n"
      ],
      "metadata": {
        "id": "w1PsJbUMIy8q",
        "colab": {
          "base_uri": "https://localhost:8080/",
          "height": 143
        },
        "outputId": "b2806531-3e37-4e0a-99f3-ab3cc56bcac2"
      },
      "execution_count": null,
      "outputs": [
        {
          "output_type": "execute_result",
          "data": {
            "text/plain": [
              "        Model_name  Model_loss  Model_acc training_time\n",
              "0     FashionMNIST    0.476639  83.426518          None\n",
              "1  FashionMNIST_V1    0.685001  75.019968          None\n",
              "2  FashionMNIST_V2    0.321597  88.218850          None"
            ],
            "text/html": [
              "\n",
              "  <div id=\"df-3803f534-fd2e-44dd-9bc8-5cdc0c8adced\" class=\"colab-df-container\">\n",
              "    <div>\n",
              "<style scoped>\n",
              "    .dataframe tbody tr th:only-of-type {\n",
              "        vertical-align: middle;\n",
              "    }\n",
              "\n",
              "    .dataframe tbody tr th {\n",
              "        vertical-align: top;\n",
              "    }\n",
              "\n",
              "    .dataframe thead th {\n",
              "        text-align: right;\n",
              "    }\n",
              "</style>\n",
              "<table border=\"1\" class=\"dataframe\">\n",
              "  <thead>\n",
              "    <tr style=\"text-align: right;\">\n",
              "      <th></th>\n",
              "      <th>Model_name</th>\n",
              "      <th>Model_loss</th>\n",
              "      <th>Model_acc</th>\n",
              "      <th>training_time</th>\n",
              "    </tr>\n",
              "  </thead>\n",
              "  <tbody>\n",
              "    <tr>\n",
              "      <th>0</th>\n",
              "      <td>FashionMNIST</td>\n",
              "      <td>0.476639</td>\n",
              "      <td>83.426518</td>\n",
              "      <td>None</td>\n",
              "    </tr>\n",
              "    <tr>\n",
              "      <th>1</th>\n",
              "      <td>FashionMNIST_V1</td>\n",
              "      <td>0.685001</td>\n",
              "      <td>75.019968</td>\n",
              "      <td>None</td>\n",
              "    </tr>\n",
              "    <tr>\n",
              "      <th>2</th>\n",
              "      <td>FashionMNIST_V2</td>\n",
              "      <td>0.321597</td>\n",
              "      <td>88.218850</td>\n",
              "      <td>None</td>\n",
              "    </tr>\n",
              "  </tbody>\n",
              "</table>\n",
              "</div>\n",
              "    <div class=\"colab-df-buttons\">\n",
              "\n",
              "  <div class=\"colab-df-container\">\n",
              "    <button class=\"colab-df-convert\" onclick=\"convertToInteractive('df-3803f534-fd2e-44dd-9bc8-5cdc0c8adced')\"\n",
              "            title=\"Convert this dataframe to an interactive table.\"\n",
              "            style=\"display:none;\">\n",
              "\n",
              "  <svg xmlns=\"http://www.w3.org/2000/svg\" height=\"24px\" viewBox=\"0 -960 960 960\">\n",
              "    <path d=\"M120-120v-720h720v720H120Zm60-500h600v-160H180v160Zm220 220h160v-160H400v160Zm0 220h160v-160H400v160ZM180-400h160v-160H180v160Zm440 0h160v-160H620v160ZM180-180h160v-160H180v160Zm440 0h160v-160H620v160Z\"/>\n",
              "  </svg>\n",
              "    </button>\n",
              "\n",
              "  <style>\n",
              "    .colab-df-container {\n",
              "      display:flex;\n",
              "      gap: 12px;\n",
              "    }\n",
              "\n",
              "    .colab-df-convert {\n",
              "      background-color: #E8F0FE;\n",
              "      border: none;\n",
              "      border-radius: 50%;\n",
              "      cursor: pointer;\n",
              "      display: none;\n",
              "      fill: #1967D2;\n",
              "      height: 32px;\n",
              "      padding: 0 0 0 0;\n",
              "      width: 32px;\n",
              "    }\n",
              "\n",
              "    .colab-df-convert:hover {\n",
              "      background-color: #E2EBFA;\n",
              "      box-shadow: 0px 1px 2px rgba(60, 64, 67, 0.3), 0px 1px 3px 1px rgba(60, 64, 67, 0.15);\n",
              "      fill: #174EA6;\n",
              "    }\n",
              "\n",
              "    .colab-df-buttons div {\n",
              "      margin-bottom: 4px;\n",
              "    }\n",
              "\n",
              "    [theme=dark] .colab-df-convert {\n",
              "      background-color: #3B4455;\n",
              "      fill: #D2E3FC;\n",
              "    }\n",
              "\n",
              "    [theme=dark] .colab-df-convert:hover {\n",
              "      background-color: #434B5C;\n",
              "      box-shadow: 0px 1px 3px 1px rgba(0, 0, 0, 0.15);\n",
              "      filter: drop-shadow(0px 1px 2px rgba(0, 0, 0, 0.3));\n",
              "      fill: #FFFFFF;\n",
              "    }\n",
              "  </style>\n",
              "\n",
              "    <script>\n",
              "      const buttonEl =\n",
              "        document.querySelector('#df-3803f534-fd2e-44dd-9bc8-5cdc0c8adced button.colab-df-convert');\n",
              "      buttonEl.style.display =\n",
              "        google.colab.kernel.accessAllowed ? 'block' : 'none';\n",
              "\n",
              "      async function convertToInteractive(key) {\n",
              "        const element = document.querySelector('#df-3803f534-fd2e-44dd-9bc8-5cdc0c8adced');\n",
              "        const dataTable =\n",
              "          await google.colab.kernel.invokeFunction('convertToInteractive',\n",
              "                                                    [key], {});\n",
              "        if (!dataTable) return;\n",
              "\n",
              "        const docLinkHtml = 'Like what you see? Visit the ' +\n",
              "          '<a target=\"_blank\" href=https://colab.research.google.com/notebooks/data_table.ipynb>data table notebook</a>'\n",
              "          + ' to learn more about interactive tables.';\n",
              "        element.innerHTML = '';\n",
              "        dataTable['output_type'] = 'display_data';\n",
              "        await google.colab.output.renderOutput(dataTable, element);\n",
              "        const docLink = document.createElement('div');\n",
              "        docLink.innerHTML = docLinkHtml;\n",
              "        element.appendChild(docLink);\n",
              "      }\n",
              "    </script>\n",
              "  </div>\n",
              "\n",
              "\n",
              "<div id=\"df-8d638692-be62-4ac1-bfd3-1c14b849a813\">\n",
              "  <button class=\"colab-df-quickchart\" onclick=\"quickchart('df-8d638692-be62-4ac1-bfd3-1c14b849a813')\"\n",
              "            title=\"Suggest charts\"\n",
              "            style=\"display:none;\">\n",
              "\n",
              "<svg xmlns=\"http://www.w3.org/2000/svg\" height=\"24px\"viewBox=\"0 0 24 24\"\n",
              "     width=\"24px\">\n",
              "    <g>\n",
              "        <path d=\"M19 3H5c-1.1 0-2 .9-2 2v14c0 1.1.9 2 2 2h14c1.1 0 2-.9 2-2V5c0-1.1-.9-2-2-2zM9 17H7v-7h2v7zm4 0h-2V7h2v10zm4 0h-2v-4h2v4z\"/>\n",
              "    </g>\n",
              "</svg>\n",
              "  </button>\n",
              "\n",
              "<style>\n",
              "  .colab-df-quickchart {\n",
              "      --bg-color: #E8F0FE;\n",
              "      --fill-color: #1967D2;\n",
              "      --hover-bg-color: #E2EBFA;\n",
              "      --hover-fill-color: #174EA6;\n",
              "      --disabled-fill-color: #AAA;\n",
              "      --disabled-bg-color: #DDD;\n",
              "  }\n",
              "\n",
              "  [theme=dark] .colab-df-quickchart {\n",
              "      --bg-color: #3B4455;\n",
              "      --fill-color: #D2E3FC;\n",
              "      --hover-bg-color: #434B5C;\n",
              "      --hover-fill-color: #FFFFFF;\n",
              "      --disabled-bg-color: #3B4455;\n",
              "      --disabled-fill-color: #666;\n",
              "  }\n",
              "\n",
              "  .colab-df-quickchart {\n",
              "    background-color: var(--bg-color);\n",
              "    border: none;\n",
              "    border-radius: 50%;\n",
              "    cursor: pointer;\n",
              "    display: none;\n",
              "    fill: var(--fill-color);\n",
              "    height: 32px;\n",
              "    padding: 0;\n",
              "    width: 32px;\n",
              "  }\n",
              "\n",
              "  .colab-df-quickchart:hover {\n",
              "    background-color: var(--hover-bg-color);\n",
              "    box-shadow: 0 1px 2px rgba(60, 64, 67, 0.3), 0 1px 3px 1px rgba(60, 64, 67, 0.15);\n",
              "    fill: var(--button-hover-fill-color);\n",
              "  }\n",
              "\n",
              "  .colab-df-quickchart-complete:disabled,\n",
              "  .colab-df-quickchart-complete:disabled:hover {\n",
              "    background-color: var(--disabled-bg-color);\n",
              "    fill: var(--disabled-fill-color);\n",
              "    box-shadow: none;\n",
              "  }\n",
              "\n",
              "  .colab-df-spinner {\n",
              "    border: 2px solid var(--fill-color);\n",
              "    border-color: transparent;\n",
              "    border-bottom-color: var(--fill-color);\n",
              "    animation:\n",
              "      spin 1s steps(1) infinite;\n",
              "  }\n",
              "\n",
              "  @keyframes spin {\n",
              "    0% {\n",
              "      border-color: transparent;\n",
              "      border-bottom-color: var(--fill-color);\n",
              "      border-left-color: var(--fill-color);\n",
              "    }\n",
              "    20% {\n",
              "      border-color: transparent;\n",
              "      border-left-color: var(--fill-color);\n",
              "      border-top-color: var(--fill-color);\n",
              "    }\n",
              "    30% {\n",
              "      border-color: transparent;\n",
              "      border-left-color: var(--fill-color);\n",
              "      border-top-color: var(--fill-color);\n",
              "      border-right-color: var(--fill-color);\n",
              "    }\n",
              "    40% {\n",
              "      border-color: transparent;\n",
              "      border-right-color: var(--fill-color);\n",
              "      border-top-color: var(--fill-color);\n",
              "    }\n",
              "    60% {\n",
              "      border-color: transparent;\n",
              "      border-right-color: var(--fill-color);\n",
              "    }\n",
              "    80% {\n",
              "      border-color: transparent;\n",
              "      border-right-color: var(--fill-color);\n",
              "      border-bottom-color: var(--fill-color);\n",
              "    }\n",
              "    90% {\n",
              "      border-color: transparent;\n",
              "      border-bottom-color: var(--fill-color);\n",
              "    }\n",
              "  }\n",
              "</style>\n",
              "\n",
              "  <script>\n",
              "    async function quickchart(key) {\n",
              "      const quickchartButtonEl =\n",
              "        document.querySelector('#' + key + ' button');\n",
              "      quickchartButtonEl.disabled = true;  // To prevent multiple clicks.\n",
              "      quickchartButtonEl.classList.add('colab-df-spinner');\n",
              "      try {\n",
              "        const charts = await google.colab.kernel.invokeFunction(\n",
              "            'suggestCharts', [key], {});\n",
              "      } catch (error) {\n",
              "        console.error('Error during call to suggestCharts:', error);\n",
              "      }\n",
              "      quickchartButtonEl.classList.remove('colab-df-spinner');\n",
              "      quickchartButtonEl.classList.add('colab-df-quickchart-complete');\n",
              "    }\n",
              "    (() => {\n",
              "      let quickchartButtonEl =\n",
              "        document.querySelector('#df-8d638692-be62-4ac1-bfd3-1c14b849a813 button');\n",
              "      quickchartButtonEl.style.display =\n",
              "        google.colab.kernel.accessAllowed ? 'block' : 'none';\n",
              "    })();\n",
              "  </script>\n",
              "</div>\n",
              "\n",
              "  <div id=\"id_2f42074b-0968-4a12-a3ef-09dbd97d9e6e\">\n",
              "    <style>\n",
              "      .colab-df-generate {\n",
              "        background-color: #E8F0FE;\n",
              "        border: none;\n",
              "        border-radius: 50%;\n",
              "        cursor: pointer;\n",
              "        display: none;\n",
              "        fill: #1967D2;\n",
              "        height: 32px;\n",
              "        padding: 0 0 0 0;\n",
              "        width: 32px;\n",
              "      }\n",
              "\n",
              "      .colab-df-generate:hover {\n",
              "        background-color: #E2EBFA;\n",
              "        box-shadow: 0px 1px 2px rgba(60, 64, 67, 0.3), 0px 1px 3px 1px rgba(60, 64, 67, 0.15);\n",
              "        fill: #174EA6;\n",
              "      }\n",
              "\n",
              "      [theme=dark] .colab-df-generate {\n",
              "        background-color: #3B4455;\n",
              "        fill: #D2E3FC;\n",
              "      }\n",
              "\n",
              "      [theme=dark] .colab-df-generate:hover {\n",
              "        background-color: #434B5C;\n",
              "        box-shadow: 0px 1px 3px 1px rgba(0, 0, 0, 0.15);\n",
              "        filter: drop-shadow(0px 1px 2px rgba(0, 0, 0, 0.3));\n",
              "        fill: #FFFFFF;\n",
              "      }\n",
              "    </style>\n",
              "    <button class=\"colab-df-generate\" onclick=\"generateWithVariable('compare_results')\"\n",
              "            title=\"Generate code using this dataframe.\"\n",
              "            style=\"display:none;\">\n",
              "\n",
              "  <svg xmlns=\"http://www.w3.org/2000/svg\" height=\"24px\"viewBox=\"0 0 24 24\"\n",
              "       width=\"24px\">\n",
              "    <path d=\"M7,19H8.4L18.45,9,17,7.55,7,17.6ZM5,21V16.75L18.45,3.32a2,2,0,0,1,2.83,0l1.4,1.43a1.91,1.91,0,0,1,.58,1.4,1.91,1.91,0,0,1-.58,1.4L9.25,21ZM18.45,9,17,7.55Zm-12,3A5.31,5.31,0,0,0,4.9,8.1,5.31,5.31,0,0,0,1,6.5,5.31,5.31,0,0,0,4.9,4.9,5.31,5.31,0,0,0,6.5,1,5.31,5.31,0,0,0,8.1,4.9,5.31,5.31,0,0,0,12,6.5,5.46,5.46,0,0,0,6.5,12Z\"/>\n",
              "  </svg>\n",
              "    </button>\n",
              "    <script>\n",
              "      (() => {\n",
              "      const buttonEl =\n",
              "        document.querySelector('#id_2f42074b-0968-4a12-a3ef-09dbd97d9e6e button.colab-df-generate');\n",
              "      buttonEl.style.display =\n",
              "        google.colab.kernel.accessAllowed ? 'block' : 'none';\n",
              "\n",
              "      buttonEl.onclick = () => {\n",
              "        google.colab.notebook.generateWithVariable('compare_results');\n",
              "      }\n",
              "      })();\n",
              "    </script>\n",
              "  </div>\n",
              "\n",
              "    </div>\n",
              "  </div>\n"
            ],
            "application/vnd.google.colaboratory.intrinsic+json": {
              "type": "dataframe",
              "variable_name": "compare_results",
              "repr_error": "Out of range float values are not JSON compliant: nan"
            }
          },
          "metadata": {},
          "execution_count": 58
        }
      ]
    },
    {
      "cell_type": "markdown",
      "source": [],
      "metadata": {
        "id": "rcAC5tPyah05"
      }
    },
    {
      "cell_type": "code",
      "source": [
        "compare_results.set_index(\"Model_name\")[\"Model_acc\"].plot(kind=\"barh\")\n",
        "plt.xlabel(\"accuracy(%)\")\n",
        "plt.ylabel(\"model\")"
      ],
      "metadata": {
        "id": "8EPKxsV_aiM3",
        "colab": {
          "base_uri": "https://localhost:8080/",
          "height": 467
        },
        "outputId": "c23e5c51-7a50-460f-9205-735db39644fe"
      },
      "execution_count": null,
      "outputs": [
        {
          "output_type": "execute_result",
          "data": {
            "text/plain": [
              "Text(0, 0.5, 'model')"
            ]
          },
          "metadata": {},
          "execution_count": 59
        },
        {
          "output_type": "display_data",
          "data": {
            "text/plain": [
              "<Figure size 640x480 with 1 Axes>"
            ],
            "image/png": "[encoded data removed]"
          },
          "metadata": {}
        }
      ]
    },
    {
      "cell_type": "markdown",
      "source": [
        "## Make and evaluvate"
      ],
      "metadata": {
        "id": "O74DXxhDK-8T"
      }
    },
    {
      "cell_type": "code",
      "source": [
        "def make_prediction(model:torch.nn.Module,\n",
        "                    data:list,\n",
        "                    device:torch.device=device):\n",
        "  pred_probs=[]\n",
        "  model.eval()\n",
        "  with torch.inference_mode():\n",
        "    for sample in data:\n",
        "      sample=torch.unsqueeze(sample,dim=0).to(device)\n",
        "\n",
        "      pred_logit=model(sample)\n",
        "\n",
        "      pred_prob=torch.softmax(pred_logit.squeeze(),dim=0)\n",
        "\n",
        "      pred_probs.append(pred_prob.cpu())\n",
        "\n",
        "\n",
        "  return torch.stack(pred_probs)\n"
      ],
      "metadata": {
        "id": "d_WS-MOfcMWJ"
      },
      "execution_count": null,
      "outputs": []
    },
    {
      "cell_type": "code",
      "source": [
        "import random\n",
        "# random.seed(42)\n",
        "test_sample = []\n",
        "test_label = []\n",
        "for sample , label in random.sample(list(test_data),k=9):\n",
        "  test_sample.append(sample)\n",
        "  test_label.append(label)\n",
        "\n",
        "test_sample[0].shape"
      ],
      "metadata": {
        "id": "a8Vk87XLdQPk",
        "colab": {
          "base_uri": "https://localhost:8080/"
        },
        "outputId": "2c940a32-8cdc-4cbe-ce75-9dcc3990c1b3"
      },
      "execution_count": null,
      "outputs": [
        {
          "output_type": "execute_result",
          "data": {
            "text/plain": [
              "torch.Size([1, 28, 28])"
            ]
          },
          "metadata": {},
          "execution_count": 61
        }
      ]
    },
    {
      "cell_type": "code",
      "source": [],
      "metadata": {
        "id": "nqv1MdxN3iwh"
      },
      "execution_count": null,
      "outputs": []
    },
    {
      "cell_type": "code",
      "source": [
        "plt.imshow(test_sample[0].squeeze(),cmap=\"gray\")\n",
        "plt.title(class_names[test_label[0]])"
      ],
      "metadata": {
        "id": "thWwDmAB5IQI",
        "colab": {
          "base_uri": "https://localhost:8080/",
          "height": 470
        },
        "outputId": "950b2988-f925-4988-e0e8-877a9a02931a"
      },
      "execution_count": null,
      "outputs": [
        {
          "output_type": "execute_result",
          "data": {
            "text/plain": [
              "Text(0.5, 1.0, 'Dress')"
            ]
          },
          "metadata": {},
          "execution_count": 62
        },
        {
          "output_type": "display_data",
          "data": {
            "text/plain": [
              "<Figure size 640x480 with 1 Axes>"
            ],
            "image/png": "[encoded data removed]"
          },
          "metadata": {}
        }
      ]
    },
    {
      "cell_type": "markdown",
      "source": [
        "#Make prediction"
      ],
      "metadata": {
        "id": "xMXrEqRN5Vla"
      }
    },
    {
      "cell_type": "code",
      "source": [
        "pred_probs=make_prediction(model=model_2,\n",
        "                           data=test_sample)\n",
        "pred_probs[:3]"
      ],
      "metadata": {
        "id": "H9LhrSLK58bY",
        "colab": {
          "base_uri": "https://localhost:8080/"
        },
        "outputId": "d2f7348c-7e8c-46f6-c013-e49d7cfaacc8"
      },
      "execution_count": null,
      "outputs": [
        {
          "output_type": "execute_result",
          "data": {
            "text/plain": [
              "tensor([[2.6816e-02, 6.8881e-03, 6.1980e-04, 9.6194e-01, 2.6592e-03, 7.0305e-07,\n",
              "         1.0109e-03, 2.3867e-05, 3.6845e-05, 2.7500e-06],\n",
              "        [1.5094e-02, 1.4263e-03, 6.7597e-01, 2.6640e-03, 1.1808e-01, 6.2958e-05,\n",
              "         1.8301e-01, 3.9885e-05, 3.5409e-03, 1.0567e-04],\n",
              "        [2.8238e-01, 1.4162e-04, 1.6296e-01, 3.5733e-01, 8.3486e-03, 8.7451e-05,\n",
              "         1.8730e-01, 4.6820e-05, 1.4049e-03, 4.5464e-06]])"
            ]
          },
          "metadata": {},
          "execution_count": 63
        }
      ]
    },
    {
      "cell_type": "code",
      "source": [],
      "metadata": {
        "id": "pRzzgHTD6cE7"
      },
      "execution_count": null,
      "outputs": []
    },
    {
      "cell_type": "code",
      "source": [
        "pred_classes=pred_probs.argmax(dim=1)\n",
        "pred_classes"
      ],
      "metadata": {
        "id": "eQz0FQqb6YBs",
        "colab": {
          "base_uri": "https://localhost:8080/"
        },
        "outputId": "51311ce4-662f-49c0-f468-b9432ff1111a"
      },
      "execution_count": null,
      "outputs": [
        {
          "output_type": "execute_result",
          "data": {
            "text/plain": [
              "tensor([3, 2, 3, 8, 3, 6, 8, 5, 4])"
            ]
          },
          "metadata": {},
          "execution_count": 64
        }
      ]
    },
    {
      "cell_type": "code",
      "source": [
        "test_label"
      ],
      "metadata": {
        "id": "nzSJMtRh6gHP",
        "colab": {
          "base_uri": "https://localhost:8080/"
        },
        "outputId": "9ee320bf-0d0a-4392-c67e-3f24a3785005"
      },
      "execution_count": null,
      "outputs": [
        {
          "output_type": "execute_result",
          "data": {
            "text/plain": [
              "[3, 2, 3, 8, 3, 6, 8, 5, 4]"
            ]
          },
          "metadata": {},
          "execution_count": 65
        }
      ]
    },
    {
      "cell_type": "code",
      "source": [
        "plt.figure(figsize=(9,9))\n",
        "nrows=3\n",
        "ncols=3\n",
        "for i,sample in enumerate(test_sample):\n",
        "  plt.subplot(nrows,ncols,i+1)\n",
        "\n",
        "  plt.imshow(sample.squeeze(),cmap=\"gray\")\n",
        "\n",
        "  pred_label=class_names[pred_classes[i]]\n",
        "\n",
        "  truth_label = class_names[test_label[i]]\n",
        "\n",
        "  title_text=f\"Pred:{pred_label} | Truth:{truth_label}\"\n",
        "\n",
        "  if pred_label==truth_label:\n",
        "    plt.title(title_text,fontsize=10, c =\"g\")\n",
        "  else:\n",
        "    plt.title(title_text,fontsize=10,c=\"r\")\n",
        "  plt.axis(False)"
      ],
      "metadata": {
        "id": "EsZeBwUa6pJd",
        "colab": {
          "base_uri": "https://localhost:8080/",
          "height": 749
        },
        "outputId": "33984c8d-998a-4607-de08-7b3a7ae7f62b"
      },
      "execution_count": null,
      "outputs": [
        {
          "output_type": "display_data",
          "data": {
            "text/plain": [
              "<Figure size 900x900 with 9 Axes>"
            ],
            "image/png": "[encoded data removed]"
          },
          "metadata": {}
        }
      ]
    },
    {
      "cell_type": "markdown",
      "source": [
        "#Confusion matrix"
      ],
      "metadata": {
        "id": "k-Oiki7w5hKY"
      }
    },
    {
      "cell_type": "code",
      "source": [
        "from tqdm.auto import tqdm\n",
        "\n",
        "y_preds=[]\n",
        "model_2.eval()\n",
        "with torch.inference_mode():\n",
        "  for x,y in tqdm(test_dataloader,desc=\"Making prediction...\"):\n",
        "    x,y=x.to(device),y.to(device)\n",
        "\n",
        "    y_logits=model_2(x)\n",
        "\n",
        "    y_pred=torch.softmax(y_logits.squeeze(),dim=0).argmax(dim=1)\n",
        "\n",
        "    y_preds.append(y_pred.cpu())\n",
        "\n",
        "print(y_preds)\n",
        "y_pred_tensor=torch.cat(y_preds)\n",
        "y_pred_tensor[:10]\n"
      ],
      "metadata": {
        "id": "UG8Vw-D67s-P",
        "colab": {
          "base_uri": "https://localhost:8080/",
          "height": 1000,
          "referenced_widgets": [
            "737216fd552b4437824a20599e94f170",
            "474776ef24ad4a55aef2fd3abca6e15e",
            "f2c4ce834e294fc6b9a2d6c5dc4227e6",
            "88b97a1d9a2e420e9629d1f83657c770",
            "72d09346d3774add81f4717760c36bd9",
            "b5bc824b5bfb4f69b616d027fabb0d62",
            "14db1552d8f5462caa5436930eacb989",
            "798d58d20b7a4d91825fe9c6fd6f4aa3",
            "c858a10c7f534ca2b721897c356c413d",
            "6090176a36fa4c4a9c2c7d44a04964bf",
            "a258815b3ed24b499ade4a6f2d7ef917"
          ]
        },
        "outputId": "3bc01c5e-d9d6-4fb9-b701-82a1e6303d11"
      },
      "execution_count": null,
      "outputs": [
        {
          "output_type": "display_data",
          "data": {
            "text/plain": [
              "Making prediction...:   0%|          | 0/313 [00:00<?, ?it/s]"
            ],
            "application/vnd.jupyter.widget-view+json": {
              "version_major": 2,
              "version_minor": 0,
              "model_id": "737216fd552b4437824a20599e94f170"
            }
          },
          "metadata": {}
        },
        {
          "output_type": "stream",
          "name": "stdout",
          "text": [
            "[tensor([9, 2, 1, 1, 6, 1, 4, 6, 5, 7, 4, 5, 5, 3, 4, 1, 2, 6, 8, 0, 2, 5, 7, 5,\n",
            "        1, 6, 4, 3, 9, 3, 8, 8]), tensor([3, 3, 8, 0, 7, 5, 7, 9, 6, 1, 3, 9, 6, 7, 2, 1, 4, 6, 4, 4, 5, 8, 2, 2,\n",
            "        8, 4, 8, 0, 7, 7, 8, 5]), tensor([1, 3, 3, 3, 7, 8, 7, 6, 2, 6, 2, 3, 1, 2, 8, 4, 4, 8, 5, 9, 5, 0, 3, 2,\n",
            "        0, 6, 5, 3, 6, 7, 1, 6]), tensor([6, 1, 4, 2, 3, 6, 7, 6, 7, 8, 5, 9, 9, 4, 2, 5, 7, 6, 5, 2, 8, 6, 7, 6,\n",
            "        0, 0, 9, 9, 3, 0, 8, 4]), tensor([1, 5, 4, 1, 9, 1, 8, 6, 6, 1, 2, 5, 1, 6, 0, 0, 1, 6, 1, 3, 2, 2, 2, 4,\n",
            "        1, 4, 5, 6, 4, 7, 9, 3]), tensor([5, 2, 3, 8, 0, 9, 4, 8, 4, 2, 6, 5, 4, 1, 2, 1, 3, 0, 8, 1, 0, 9, 3, 6,\n",
            "        7, 9, 9, 4, 4, 7, 1, 2]), tensor([3, 6, 3, 2, 8, 3, 6, 1, 1, 6, 2, 9, 2, 4, 0, 7, 9, 8, 4, 1, 8, 4, 1, 3,\n",
            "        1, 6, 7, 2, 8, 5, 6, 0]), tensor([7, 7, 3, 6, 7, 0, 7, 8, 9, 2, 9, 0, 5, 1, 3, 4, 5, 4, 9, 2, 4, 8, 6, 4,\n",
            "        2, 4, 9, 7, 3, 5, 5, 4]), tensor([8, 5, 2, 3, 0, 4, 8, 6, 0, 6, 3, 8, 9, 6, 1, 3, 0, 2, 3, 0, 8, 3, 7, 4,\n",
            "        6, 1, 6, 4, 6, 6, 6, 7]), tensor([5, 3, 5, 9, 5, 6, 5, 5, 1, 9, 8, 3, 3, 3, 6, 8, 0, 0, 2, 9, 7, 7, 1, 3,\n",
            "        6, 6, 2, 4, 7, 1, 6, 4]), tensor([8, 2, 6, 5, 4, 2, 8, 7, 7, 3, 3, 8, 0, 7, 1, 3, 7, 8, 2, 8, 4, 0, 8, 1,\n",
            "        0, 1, 9, 4, 9, 9, 1, 7]), tensor([8, 3, 6, 0, 2, 4, 8, 2, 1, 2, 2, 4, 4, 7, 3, 2, 2, 5, 0, 7, 9, 4, 0, 9,\n",
            "        3, 9, 8, 2, 5, 6, 2, 3]), tensor([5, 8, 1, 3, 2, 2, 6, 4, 9, 5, 2, 0, 4, 6, 1, 2, 0, 9, 7, 3, 3, 4, 3, 6,\n",
            "        2, 3, 3, 6, 7, 3, 9, 4]), tensor([2, 1, 5, 4, 5, 3, 6, 5, 7, 4, 4, 8, 9, 8, 6, 2, 4, 4, 2, 4, 1, 6, 1, 3,\n",
            "        0, 7, 8, 2, 4, 5, 3, 1]), tensor([9, 5, 3, 3, 6, 1, 6, 2, 9, 4, 6, 6, 6, 4, 2, 0, 0, 3, 3, 8, 2, 8, 9, 4,\n",
            "        0, 7, 6, 4, 6, 9, 2, 9]), tensor([7, 9, 3, 7, 5, 7, 8, 1, 6, 0, 6, 6, 8, 9, 7, 9, 1, 2, 7, 3, 2, 0, 5, 7,\n",
            "        1, 8, 2, 2, 2, 2, 4, 4]), tensor([6, 1, 9, 0, 7, 1, 9, 0, 2, 8, 3, 0, 7, 2, 6, 6, 8, 0, 2, 0, 5, 0, 7, 5,\n",
            "        0, 9, 4, 3, 6, 2, 7, 1]), tensor([3, 1, 2, 6, 4, 9, 2, 1, 5, 1, 3, 1, 9, 3, 4, 5, 3, 3, 2, 6, 4, 6, 0, 5,\n",
            "        8, 2, 3, 4, 6, 7, 7, 8]), tensor([9, 0, 3, 8, 7, 6, 7, 9, 3, 2, 6, 3, 5, 0, 1, 1, 5, 9, 4, 2, 5, 7, 8, 1,\n",
            "        4, 9, 7, 7, 1, 0, 9, 3]), tensor([2, 9, 0, 5, 1, 8, 2, 7, 1, 2, 3, 8, 2, 4, 6, 9, 3, 0, 5, 8, 8, 2, 9, 1,\n",
            "        1, 6, 4, 1, 0, 1, 4, 1]), tensor([7, 5, 8, 3, 9, 1, 0, 5, 4, 4, 4, 6, 0, 4, 5, 6, 0, 3, 5, 2, 1, 3, 1, 3,\n",
            "        6, 2, 3, 8, 2, 8, 6, 7]), tensor([0, 4, 1, 8, 5, 0, 8, 2, 7, 2, 8, 9, 6, 4, 4, 9, 4, 4, 5, 6, 9, 5, 3, 6,\n",
            "        6, 2, 1, 1, 8, 1, 4, 0]), tensor([9, 7, 9, 4, 8, 9, 1, 3, 7, 3, 0, 2, 6, 7, 1, 0, 6, 8, 7, 2, 4, 4, 4, 4,\n",
            "        1, 5, 9, 3, 0, 3, 6, 5]), tensor([6, 6, 4, 3, 3, 8, 1, 1, 8, 5, 7, 9, 8, 7, 4, 0, 7, 6, 8, 0, 9, 7, 6, 1,\n",
            "        6, 2, 4, 8, 6, 6, 3, 6]), tensor([8, 6, 0, 8, 9, 2, 4, 5, 9, 1, 6, 4, 9, 2, 3, 7, 9, 7, 8, 3, 7, 7, 1, 1,\n",
            "        1, 6, 9, 5, 3, 8, 4, 2]), tensor([9, 0, 8, 0, 2, 4, 4, 7, 1, 4, 9, 0, 5, 8, 5, 4, 7, 2, 8, 5, 9, 0, 3, 6,\n",
            "        7, 1, 7, 0, 7, 4, 6, 5]), tensor([8, 3, 7, 1, 2, 6, 1, 9, 8, 2, 7, 1, 3, 7, 5, 9, 9, 1, 8, 4, 5, 7, 1, 9,\n",
            "        8, 1, 0, 0, 6, 1, 7, 1]), tensor([1, 8, 7, 1, 5, 2, 2, 3, 3, 1, 1, 4, 9, 4, 3, 7, 7, 0, 8, 9, 9, 6, 1, 1,\n",
            "        4, 0, 3, 5, 9, 2, 0, 5]), tensor([5, 1, 5, 7, 8, 7, 9, 3, 6, 4, 0, 4, 0, 2, 0, 2, 5, 5, 1, 2, 0, 9, 3, 7,\n",
            "        8, 4, 8, 3, 4, 7, 0, 7]), tensor([4, 8, 6, 3, 4, 2, 3, 4, 9, 6, 2, 4, 9, 1, 8, 1, 7, 5, 5, 6, 6, 2, 1, 6,\n",
            "        5, 4, 0, 0, 2, 7, 5, 6]), tensor([2, 5, 9, 4, 8, 6, 6, 4, 6, 2, 9, 6, 7, 7, 1, 4, 4, 0, 5, 0, 9, 9, 8, 8,\n",
            "        2, 0, 2, 4, 6, 6, 3, 2]), tensor([3, 7, 4, 9, 3, 4, 7, 7, 0, 3, 9, 5, 2, 4, 5, 9, 6, 3, 7, 5, 1, 9, 8, 8,\n",
            "        9, 9, 2, 9, 2, 2, 3, 8]), tensor([7, 4, 4, 5, 4, 8, 6, 1, 4, 9, 3, 1, 6, 8, 0, 5, 7, 8, 2, 3, 3, 9, 6, 3,\n",
            "        6, 0, 4, 8, 0, 4, 8, 6]), tensor([6, 3, 2, 7, 0, 2, 1, 1, 3, 4, 6, 5, 9, 0, 1, 6, 5, 1, 4, 4, 8, 4, 7, 7,\n",
            "        3, 8, 3, 1, 9, 8, 1, 3]), tensor([3, 7, 5, 0, 5, 7, 8, 9, 2, 0, 5, 8, 4, 6, 0, 8, 6, 0, 5, 2, 7, 1, 0, 0,\n",
            "        5, 4, 8, 6, 2, 1, 1, 7]), tensor([9, 1, 2, 7, 1, 1, 8, 2, 2, 0, 1, 4, 4, 9, 6, 8, 4, 5, 9, 0, 3, 9, 1, 9,\n",
            "        8, 7, 4, 2, 2, 5, 1, 7]), tensor([0, 7, 2, 9, 3, 7, 0, 9, 3, 8, 4, 4, 7, 2, 3, 6, 2, 0, 7, 8, 4, 2, 4, 5,\n",
            "        5, 6, 4, 5, 5, 8, 1, 3]), tensor([7, 4, 3, 9, 6, 8, 7, 2, 2, 1, 2, 7, 7, 4, 9, 8, 5, 1, 3, 3, 2, 3, 9, 3,\n",
            "        1, 9, 3, 5, 5, 3, 0, 7]), tensor([0, 2, 3, 1, 3, 1, 3, 8, 7, 2, 4, 9, 5, 2, 9, 3, 3, 4, 4, 6, 6, 8, 2, 2,\n",
            "        8, 6, 1, 4, 2, 7, 4, 4]), tensor([8, 6, 2, 4, 6, 6, 3, 6, 8, 3, 8, 2, 0, 4, 4, 8, 8, 4, 5, 2, 2, 3, 0, 1,\n",
            "        7, 6, 9, 1, 7, 3, 5, 2]), tensor([2, 7, 3, 8, 9, 6, 8, 6, 7, 5, 8, 9, 7, 0, 6, 0, 3, 2, 4, 4, 2, 7, 1, 3,\n",
            "        4, 2, 2, 5, 1, 6, 7, 3]), tensor([4, 8, 0, 4, 8, 7, 4, 1, 6, 5, 2, 7, 8, 5, 3, 8, 5, 2, 2, 8, 9, 8, 3, 3,\n",
            "        3, 8, 8, 3, 0, 7, 4, 4]), tensor([8, 1, 3, 6, 1, 9, 2, 1, 6, 4, 7, 9, 2, 6, 3, 4, 4, 2, 4, 5, 6, 2, 8, 3,\n",
            "        7, 4, 4, 0, 0, 5, 4, 8]), tensor([2, 2, 2, 0, 2, 1, 7, 9, 5, 4, 7, 2, 2, 9, 3, 3, 1, 3, 6, 6, 6, 1, 9, 6,\n",
            "        4, 7, 1, 0, 6, 5, 8, 4]), tensor([2, 7, 9, 5, 0, 7, 9, 5, 1, 2, 9, 8, 8, 3, 9, 9, 1, 2, 7, 8, 0, 1, 7, 2,\n",
            "        7, 1, 1, 5, 5, 6, 4, 5]), tensor([9, 5, 5, 2, 3, 9, 3, 8, 5, 4, 6, 3, 6, 5, 7, 6, 8, 2, 6, 4, 4, 7, 6, 0,\n",
            "        5, 1, 7, 2, 3, 6, 8, 9]), tensor([8, 7, 1, 6, 3, 2, 9, 7, 5, 6, 0, 0, 7, 1, 2, 6, 9, 3, 6, 4, 4, 3, 0, 0,\n",
            "        2, 3, 6, 1, 3, 5, 6, 5]), tensor([0, 9, 1, 1, 8, 2, 9, 5, 0, 7, 4, 6, 7, 1, 1, 5, 3, 8, 7, 8, 3, 8, 9, 2,\n",
            "        2, 1, 1, 3, 5, 6, 7, 1]), tensor([9, 9, 2, 4, 7, 0, 1, 3, 9, 6, 3, 7, 2, 8, 1, 8, 0, 7, 9, 8, 5, 8, 2, 6,\n",
            "        4, 6, 6, 5, 8, 3, 8, 5]), tensor([5, 7, 3, 7, 6, 7, 0, 2, 2, 5, 3, 5, 1, 1, 7, 7, 6, 6, 6, 4, 2, 8, 6, 3,\n",
            "        1, 4, 9, 9, 4, 5, 2, 2]), tensor([7, 8, 6, 7, 9, 1, 2, 9, 4, 5, 3, 2, 3, 3, 1, 8, 5, 5, 3, 8, 2, 6, 6, 3,\n",
            "        2, 0, 2, 7, 3, 2, 8, 3]), tensor([9, 7, 3, 1, 7, 5, 8, 8, 2, 3, 0, 4, 4, 8, 5, 7, 0, 6, 2, 7, 7, 3, 9, 2,\n",
            "        5, 9, 7, 3, 7, 4, 4, 5]), tensor([1, 4, 7, 4, 5, 0, 2, 2, 1, 4, 4, 8, 4, 7, 9, 4, 1, 1, 7, 2, 3, 8, 6, 3,\n",
            "        9, 7, 5, 3, 8, 8, 8, 7]), tensor([1, 1, 6, 4, 1, 4, 3, 4, 9, 5, 6, 0, 6, 9, 4, 9, 6, 6, 3, 8, 9, 2, 5, 4,\n",
            "        8, 6, 7, 2, 3, 6, 4, 5]), tensor([6, 1, 9, 6, 2, 2, 5, 9, 0, 8, 3, 6, 6, 2, 0, 4, 2, 4, 6, 5, 0, 2, 7, 8,\n",
            "        7, 4, 3, 6, 0, 5, 2, 4]), tensor([2, 9, 5, 2, 6, 7, 0, 1, 9, 5, 5, 6, 7, 7, 5, 0, 5, 3, 3, 4, 7, 9, 8, 2,\n",
            "        4, 7, 3, 3, 7, 7, 7, 8]), tensor([4, 9, 8, 7, 6, 8, 7, 5, 1, 3, 0, 4, 9, 9, 8, 3, 7, 0, 4, 4, 9, 3, 3, 1,\n",
            "        8, 8, 1, 8, 7, 2, 8, 6]), tensor([5, 5, 6, 7, 5, 5, 4, 0, 7, 6, 3, 2, 6, 2, 9, 9, 0, 6, 6, 8, 3, 8, 6, 4,\n",
            "        4, 1, 8, 2, 6, 5, 0, 4]), tensor([4, 3, 0, 0, 1, 6, 8, 4, 9, 0, 7, 6, 7, 7, 1, 5, 8, 7, 2, 9, 9, 1, 2, 6,\n",
            "        1, 1, 1, 8, 8, 1, 4, 7]), tensor([5, 2, 0, 8, 4, 8, 9, 4, 1, 3, 4, 9, 8, 1, 3, 1, 8, 6, 9, 5, 7, 6, 0, 4,\n",
            "        4, 1, 1, 7, 9, 2, 2, 0]), tensor([3, 6, 4, 8, 1, 7, 2, 4, 4, 2, 3, 8, 7, 1, 8, 7, 5, 9, 9, 6, 6, 4, 9, 3,\n",
            "        4, 3, 5, 5, 6, 6, 1, 0]), tensor([3, 5, 7, 3, 7, 4, 5, 7, 9, 8, 9, 1, 4, 8, 3, 2, 6, 6, 6, 8, 3, 8, 3, 8,\n",
            "        6, 0, 8, 8, 2, 2, 9, 3]), tensor([2, 0, 8, 5, 9, 6, 1, 1, 1, 9, 5, 1, 3, 3, 6, 0, 8, 4, 1, 3, 8, 8, 6, 7,\n",
            "        5, 6, 2, 7, 3, 3, 2, 4]), tensor([6, 5, 8, 6, 2, 3, 9, 1, 1, 7, 3, 8, 7, 2, 2, 9, 3, 9, 9, 0, 1, 7, 1, 4,\n",
            "        8, 1, 6, 9, 3, 4, 0, 6]), tensor([5, 6, 9, 9, 5, 5, 7, 6, 9, 3, 3, 6, 9, 8, 4, 2, 6, 3, 9, 2, 3, 6, 7, 4,\n",
            "        0, 6, 8, 1, 8, 7, 4, 4]), tensor([5, 2, 2, 9, 1, 9, 4, 9, 1, 6, 2, 8, 8, 7, 7, 7, 7, 2, 6, 0, 7, 5, 8, 5,\n",
            "        3, 0, 6, 3, 9, 2, 6, 3]), tensor([1, 9, 8, 1, 2, 2, 2, 3, 7, 5, 7, 4, 4, 4, 1, 2, 8, 5, 4, 2, 8, 1, 5, 9,\n",
            "        4, 6, 6, 8, 0, 1, 8, 7]), tensor([4, 6, 7, 7, 3, 6, 4, 3, 4, 7, 8, 7, 2, 8, 0, 8, 7, 4, 6, 2, 7, 0, 9, 9,\n",
            "        3, 1, 5, 9, 3, 1, 0, 3]), tensor([3, 8, 9, 7, 9, 8, 3, 8, 9, 3, 7, 9, 3, 2, 6, 0, 5, 7, 7, 2, 4, 8, 3, 1,\n",
            "        1, 9, 4, 3, 9, 5, 8, 7]), tensor([2, 4, 9, 0, 2, 1, 9, 7, 1, 5, 0, 5, 5, 2, 3, 0, 6, 4, 3, 7, 4, 2, 6, 8,\n",
            "        5, 9, 2, 1, 3, 5, 5, 8]), tensor([5, 3, 7, 4, 4, 3, 9, 6, 0, 3, 9, 1, 4, 3, 1, 5, 3, 8, 5, 1, 1, 2, 9, 4,\n",
            "        0, 5, 2, 8, 0, 4, 9, 8]), tensor([2, 4, 8, 3, 8, 0, 4, 2, 6, 4, 8, 5, 2, 9, 3, 9, 5, 8, 0, 9, 1, 2, 7, 2,\n",
            "        1, 2, 3, 3, 4, 5, 2, 4]), tensor([8, 7, 5, 2, 6, 6, 8, 3, 6, 1, 9, 2, 7, 7, 2, 6, 4, 8, 3, 4, 8, 5, 6, 8,\n",
            "        3, 3, 1, 4, 4, 0, 4, 9]), tensor([6, 2, 1, 9, 9, 8, 1, 4, 8, 3, 3, 3, 2, 5, 9, 2, 2, 8, 7, 6, 3, 6, 4, 4,\n",
            "        5, 7, 5, 0, 7, 9, 1, 2]), tensor([4, 8, 9, 3, 5, 2, 6, 4, 6, 7, 8, 9, 1, 8, 2, 5, 5, 3, 1, 1, 8, 8, 3, 6,\n",
            "        7, 0, 1, 8, 2, 6, 2, 9]), tensor([8, 9, 8, 8, 4, 9, 1, 8, 2, 2, 7, 7, 6, 5, 1, 1, 0, 6, 2, 3, 0, 4, 3, 5,\n",
            "        1, 2, 3, 3, 4, 4, 5, 6]), tensor([9, 8, 3, 3, 1, 0, 2, 1, 2, 4, 2, 8, 2, 9, 0, 2, 7, 5, 3, 6, 6, 7, 3, 3,\n",
            "        9, 7, 3, 6, 1, 9, 6, 1]), tensor([0, 4, 5, 4, 1, 2, 8, 5, 7, 4, 5, 3, 3, 8, 3, 6, 6, 8, 9, 0, 7, 3, 2, 6,\n",
            "        7, 3, 2, 2, 8, 7, 7, 2]), tensor([3, 1, 6, 3, 2, 2, 7, 4, 1, 2, 4, 4, 4, 2, 8, 5, 6, 8, 5, 2, 7, 8, 1, 5,\n",
            "        9, 8, 6, 9, 0, 9, 3, 7]), tensor([5, 7, 9, 6, 0, 7, 1, 5, 5, 9, 5, 4, 4, 2, 4, 5, 9, 7, 8, 2, 6, 9, 9, 3,\n",
            "        2, 1, 3, 7, 3, 8, 7, 7]), tensor([1, 8, 9, 3, 7, 7, 7, 1, 7, 4, 4, 2, 2, 4, 5, 2, 8, 9, 6, 8, 0, 0, 7, 7,\n",
            "        5, 0, 1, 9, 3, 6, 4, 9]), tensor([2, 6, 6, 9, 1, 0, 5, 8, 9, 2, 8, 2, 3, 6, 0, 7, 4, 8, 7, 4, 1, 7, 8, 2,\n",
            "        4, 6, 4, 4, 1, 8, 6, 9]), tensor([2, 9, 6, 5, 2, 3, 3, 8, 8, 2, 0, 7, 4, 4, 0, 4, 1, 3, 8, 1, 7, 7, 2, 6,\n",
            "        3, 1, 2, 7, 2, 6, 6, 6]), tensor([4, 7, 2, 2, 3, 2, 3, 0, 9, 7, 3, 5, 4, 9, 2, 4, 5, 0, 6, 8, 4, 0, 4, 4,\n",
            "        6, 6, 1, 6, 4, 6, 7, 1]), tensor([3, 4, 3, 1, 1, 5, 4, 3, 8, 3, 4, 1, 7, 2, 9, 8, 8, 4, 5, 5, 6, 7, 3, 9,\n",
            "        1, 0, 5, 3, 7, 2, 1, 1]), tensor([8, 6, 2, 0, 5, 9, 6, 3, 8, 1, 3, 4, 6, 6, 2, 8, 3, 4, 2, 6, 9, 2, 7, 9,\n",
            "        5, 7, 2, 1, 5, 8, 8, 2]), tensor([2, 2, 2, 3, 1, 2, 4, 0, 3, 9, 8, 4, 0, 3, 4, 3, 9, 7, 1, 1, 7, 5, 1, 9,\n",
            "        2, 4, 2, 3, 8, 6, 7, 1]), tensor([3, 0, 7, 3, 5, 8, 1, 4, 2, 3, 4, 8, 8, 8, 3, 8, 1, 8, 9, 3, 0, 6, 6, 2,\n",
            "        9, 7, 3, 7, 0, 1, 2, 5]), tensor([9, 4, 0, 5, 0, 5, 4, 7, 4, 6, 2, 8, 6, 4, 9, 3, 0, 5, 7, 1, 1, 2, 6, 6,\n",
            "        4, 7, 6, 2, 3, 3, 9, 7]), tensor([4, 3, 3, 1, 8, 1, 5, 4, 0, 6, 7, 9, 3, 2, 7, 1, 7, 6, 1, 6, 2, 8, 6, 7,\n",
            "        6, 4, 9, 3, 2, 5, 6, 8]), tensor([6, 2, 6, 7, 2, 2, 1, 1, 0, 3, 5, 5, 2, 6, 4, 1, 8, 8, 3, 4, 3, 4, 2, 9,\n",
            "        6, 3, 9, 6, 2, 6, 6, 4]), tensor([5, 4, 9, 8, 1, 6, 3, 2, 2, 9, 4, 3, 5, 1, 4, 6, 0, 1, 1, 0, 2, 6, 5, 7,\n",
            "        0, 1, 2, 4, 3, 7, 2, 1]), tensor([1, 7, 7, 8, 7, 6, 5, 3, 7, 2, 0, 9, 4, 1, 4, 2, 2, 5, 8, 5, 2, 7, 8, 4,\n",
            "        6, 9, 6, 8, 1, 3, 8, 2]), tensor([8, 2, 0, 2, 3, 8, 7, 8, 2, 2, 6, 6, 6, 4, 5, 4, 4, 1, 1, 9, 7, 6, 6, 6,\n",
            "        1, 4, 2, 7, 7, 1, 8, 3]), tensor([0, 7, 9, 8, 7, 2, 7, 9, 7, 2, 2, 6, 6, 3, 3, 9, 1, 1, 4, 8, 0, 9, 7, 5,\n",
            "        4, 8, 8, 3, 6, 3, 6, 4]), tensor([4, 2, 9, 9, 2, 4, 8, 4, 2, 2, 3, 4, 1, 1, 3, 0, 1, 8, 4, 1, 5, 4, 1, 5,\n",
            "        8, 6, 7, 7, 7, 5, 6, 9]), tensor([5, 3, 6, 7, 8, 1, 5, 1, 6, 2, 2, 4, 3, 7, 7, 9, 9, 2, 5, 8, 5, 8, 5, 3,\n",
            "        0, 9, 7, 2, 0, 6, 8, 1]), tensor([0, 5, 4, 7, 6, 5, 4, 9, 0, 3, 4, 0, 2, 9, 8, 1, 3, 8, 1, 5, 3, 6, 1, 1,\n",
            "        6, 6, 9, 8, 4, 8, 2, 7]), tensor([7, 1, 3, 6, 3, 0, 7, 8, 7, 6, 5, 2, 6, 7, 5, 5, 8, 9, 7, 3, 2, 4, 8, 3,\n",
            "        9, 5, 7, 6, 2, 6, 7, 3]), tensor([8, 5, 1, 8, 9, 2, 2, 1, 2, 2, 7, 4, 6, 4, 4, 8, 5, 7, 9, 2, 2, 8, 2, 6,\n",
            "        0, 6, 3, 3, 1, 5, 2, 7]), tensor([5, 3, 7, 6, 2, 3, 5, 1, 1, 2, 7, 3, 8, 8, 7, 5, 6, 9, 5, 5, 4, 0, 7, 1,\n",
            "        4, 6, 0, 9, 9, 2, 6, 8]), tensor([6, 5, 7, 8, 2, 2, 7, 6, 6, 2, 8, 1, 6, 4, 2, 0, 7, 5, 8, 9, 9, 7, 5, 2,\n",
            "        7, 6, 2, 2, 6, 3, 4, 2]), tensor([0, 8, 9, 4, 5, 4, 4, 1, 2, 8, 9, 0, 5, 6, 2, 5, 6, 3, 8, 6, 8, 7, 2, 7,\n",
            "        2, 3, 4, 7, 1, 2, 3, 4]), tensor([2, 4, 3, 9, 9, 2, 8, 0, 4, 0, 6, 1, 9, 3, 9, 6, 8, 6, 9, 4, 7, 9, 1, 5,\n",
            "        8, 1, 3, 6, 2, 4, 8, 6]), tensor([3, 3, 0, 0, 4, 3, 3, 1, 4, 8, 4, 9, 3, 0, 2, 5, 8, 8, 8, 4, 1, 2, 8, 9,\n",
            "        8, 5, 8, 7, 0, 7, 2, 7]), tensor([3, 5, 5, 8, 3, 4, 8, 5, 9, 9, 2, 0, 4, 7, 1, 8, 8, 8, 7, 2, 0, 9, 7, 9,\n",
            "        4, 9, 4, 1, 4, 7, 2, 5]), tensor([2, 6, 2, 9, 0, 7, 1, 9, 7, 2, 5, 3, 8, 4, 9, 3, 7, 5, 7, 5, 1, 3, 3, 6,\n",
            "        6, 7, 5, 3, 5, 5, 8, 7]), tensor([9, 4, 6, 5, 5, 3, 4, 8, 3, 0, 9, 2, 3, 2, 2, 9, 4, 6, 9, 1, 3, 8, 1, 4,\n",
            "        9, 8, 2, 6, 7, 2, 6, 2]), tensor([2, 3, 6, 3, 0, 5, 2, 3, 2, 3, 5, 0, 7, 4, 6, 4, 8, 3, 5, 1, 3, 9, 1, 2,\n",
            "        9, 6, 7, 4, 2, 6, 2, 5]), tensor([6, 3, 6, 4, 5, 1, 7, 9, 4, 6, 7, 4, 0, 2, 8, 1, 0, 9, 9, 7, 8, 4, 6, 9,\n",
            "        7, 7, 5, 8, 6, 7, 5, 3]), tensor([5, 5, 3, 8, 9, 7, 2, 1, 4, 7, 1, 3, 6, 3, 2, 2, 9, 4, 7, 7, 6, 5, 0, 8,\n",
            "        8, 6, 8, 5, 6, 3, 7, 3]), tensor([6, 6, 4, 5, 2, 0, 7, 7, 7, 1, 8, 2, 1, 8, 5, 4, 4, 8, 7, 7, 6, 7, 1, 6,\n",
            "        9, 5, 3, 9, 3, 8, 0, 7]), tensor([4, 2, 6, 1, 2, 5, 9, 3, 2, 8, 5, 7, 3, 1, 2, 6, 8, 1, 8, 5, 6, 9, 3, 3,\n",
            "        6, 6, 4, 2, 0, 6, 4, 2]), tensor([3, 2, 5, 9, 1, 1, 9, 4, 7, 6, 3, 1, 6, 0, 7, 7, 0, 7, 8, 0, 5, 6, 4, 3,\n",
            "        2, 9, 7, 2, 9, 5, 3, 7]), tensor([2, 4, 1, 9, 7, 8, 1, 3, 9, 3, 6, 7, 8, 6, 5, 6, 7, 9, 9, 7, 0, 4, 2, 3,\n",
            "        4, 6, 7, 5, 3, 9, 2, 8]), tensor([8, 6, 0, 4, 1, 9, 3, 3, 5, 1, 5, 5, 9, 2, 8, 5, 5, 9, 5, 6, 0, 7, 3, 5,\n",
            "        4, 2, 0, 9, 6, 8, 1, 9]), tensor([2, 6, 2, 4, 6, 8, 7, 7, 3, 9, 3, 9, 6, 8, 2, 6, 9, 0, 3, 2, 5, 5, 6, 4,\n",
            "        6, 4, 1, 3, 1, 2, 7, 8]), tensor([8, 9, 7, 6, 5, 9, 3, 6, 0, 4, 6, 3, 6, 8, 8, 8, 0, 2, 3, 2, 8, 2, 1, 4,\n",
            "        1, 1, 6, 3, 2, 2, 8, 0]), tensor([6, 4, 1, 3, 2, 5, 0, 6, 7, 9, 9, 2, 5, 2, 9, 9, 8, 4, 8, 3, 2, 0, 9, 2,\n",
            "        2, 4, 3, 8, 2, 6, 6, 5]), tensor([6, 4, 7, 3, 7, 8, 8, 2, 4, 8, 8, 0, 1, 5, 8, 9, 8, 7, 2, 0, 3, 3, 0, 0,\n",
            "        7, 3, 9, 9, 1, 5, 9, 4]), tensor([1, 7, 6, 1, 0, 5, 3, 8, 2, 4, 1, 7, 0, 5, 0, 4, 1, 7, 1, 7, 9, 4, 3, 9,\n",
            "        2, 2, 9, 3, 5, 8, 8, 4]), tensor([4, 7, 7, 4, 2, 0, 5, 5, 3, 6, 2, 5, 6, 8, 5, 6, 9, 1, 3, 1, 4, 5, 9, 3,\n",
            "        7, 0, 3, 5, 6, 1, 5, 8]), tensor([5, 6, 6, 9, 1, 9, 1, 7, 1, 8, 2, 3, 4, 0, 2, 0, 3, 3, 4, 8, 0, 3, 4, 8,\n",
            "        1, 1, 3, 3, 2, 2, 1, 8]), tensor([0, 2, 6, 6, 4, 2, 0, 9, 2, 3, 0, 4, 5, 7, 1, 6, 1, 6, 0, 0, 8, 5, 1, 6,\n",
            "        5, 2, 8, 1, 7, 1, 6, 4]), tensor([7, 4, 6, 1, 5, 6, 3, 5, 8, 7, 7, 7, 2, 7, 5, 6, 4, 2, 0, 6, 6, 9, 9, 5,\n",
            "        8, 0, 4, 4, 1, 3, 7, 3]), tensor([6, 0, 9, 8, 5, 3, 6, 7, 1, 9, 7, 8, 4, 6, 9, 9, 1, 2, 2, 3, 2, 4, 5, 1,\n",
            "        6, 4, 8, 3, 4, 8, 3, 4]), tensor([0, 0, 3, 6, 7, 4, 4, 1, 7, 3, 6, 7, 9, 9, 1, 8, 8, 9, 1, 4, 6, 1, 2, 8,\n",
            "        2, 5, 9, 8, 0, 6, 2, 7]), tensor([2, 9, 5, 6, 8, 7, 8, 1, 4, 9, 2, 5, 5, 9, 9, 4, 4, 2, 1, 6, 6, 8, 7, 1,\n",
            "        1, 7, 5, 2, 7, 0, 3, 4]), tensor([4, 8, 4, 0, 2, 7, 3, 7, 3, 6, 3, 8, 3, 3, 2, 3, 2, 3, 5, 8, 0, 7, 0, 8,\n",
            "        9, 0, 2, 1, 4, 5, 1, 3]), tensor([4, 7, 6, 4, 9, 9, 1, 4, 3, 1, 6, 8, 0, 3, 0, 6, 2, 0, 4, 3, 6, 7, 2, 3,\n",
            "        4, 0, 8, 5, 4, 0, 1, 0]), tensor([2, 2, 6, 7, 9, 6, 2, 4, 3, 6, 8, 7, 4, 4, 0, 3, 3, 5, 2, 5, 1, 5, 5, 1,\n",
            "        7, 7, 2, 1, 8, 8, 0, 9]), tensor([0, 0, 0, 3, 2, 1, 8, 3, 4, 2, 1, 2, 0, 3, 0, 8, 5, 1, 7, 0, 2, 6, 3, 9,\n",
            "        8, 2, 8, 1, 0, 2, 4, 2]), tensor([3, 3, 7, 5, 0, 6, 2, 0, 8, 2, 4, 1, 8, 6, 8, 2, 9, 2, 4, 8, 5, 2, 7, 3,\n",
            "        2, 2, 6, 6, 4, 8, 5, 4]), tensor([1, 5, 2, 8, 2, 9, 3, 6, 3, 6, 4, 2, 7, 7, 9, 6, 2, 9, 8, 3, 5, 8, 7, 7,\n",
            "        0, 7, 7, 0, 7, 7, 2, 9]), tensor([5, 4, 2, 2, 4, 8, 0, 1, 9, 8, 6, 2, 2, 2, 3, 8, 0, 7, 6, 4, 3, 8, 1, 3,\n",
            "        8, 7, 3, 6, 3, 4, 8, 8]), tensor([9, 1, 3, 2, 1, 4, 8, 3, 4, 6, 7, 3, 9, 2, 9, 0, 4, 6, 5, 7, 0, 8, 1, 7,\n",
            "        5, 4, 9, 5, 7, 3, 2, 6]), tensor([9, 8, 7, 3, 7, 7, 4, 7, 5, 8, 8, 4, 4, 6, 2, 3, 8, 9, 7, 1, 3, 4, 2, 9,\n",
            "        7, 1, 4, 2, 6, 0, 5, 5]), tensor([4, 5, 2, 8, 9, 4, 9, 9, 0, 4, 0, 1, 5, 5, 5, 6, 8, 1, 5, 7, 7, 7, 9, 8,\n",
            "        0, 1, 3, 4, 6, 6, 9, 3]), tensor([4, 4, 4, 8, 2, 5, 4, 9, 0, 2, 8, 4, 8, 6, 3, 6, 1, 4, 3, 3, 8, 2, 9, 9,\n",
            "        0, 7, 9, 5, 3, 1, 7, 2]), tensor([8, 4, 7, 2, 1, 6, 0, 7, 2, 1, 7, 3, 6, 8, 1, 8, 4, 2, 5, 6, 7, 6, 1, 2,\n",
            "        6, 7, 9, 0, 1, 3, 7, 5]), tensor([3, 2, 1, 1, 3, 8, 3, 9, 5, 4, 6, 3, 7, 7, 7, 2, 3, 9, 3, 9, 2, 6, 0, 7,\n",
            "        6, 2, 7, 9, 6, 3, 4, 9]), tensor([6, 4, 6, 2, 7, 9, 6, 1, 3, 2, 0, 8, 8, 7, 3, 2, 7, 5, 7, 6, 1, 8, 1, 4,\n",
            "        9, 8, 9, 3, 1, 0, 3, 0]), tensor([3, 0, 6, 6, 1, 9, 7, 1, 2, 2, 5, 3, 4, 1, 7, 6, 7, 6, 2, 8, 8, 1, 4, 9,\n",
            "        7, 6, 0, 4, 9, 3, 9, 8]), tensor([5, 3, 8, 4, 7, 1, 4, 1, 9, 4, 8, 3, 2, 4, 8, 1, 1, 5, 8, 6, 1, 6, 2, 9,\n",
            "        0, 9, 5, 3, 5, 0, 6, 5]), tensor([6, 8, 3, 8, 0, 2, 9, 9, 1, 5, 3, 2, 6, 5, 3, 6, 3, 6, 7, 4, 0, 4, 1, 9,\n",
            "        5, 1, 7, 5, 5, 5, 9, 4]), tensor([8, 4, 6, 6, 4, 6, 2, 1, 1, 4, 2, 8, 4, 9, 0, 5, 8, 1, 3, 8, 3, 2, 4, 8,\n",
            "        3, 2, 9, 3, 4, 7, 7, 2]), tensor([6, 2, 6, 8, 9, 6, 6, 4, 7, 7, 9, 7, 3, 6, 9, 6, 7, 3, 0, 2, 0, 9, 4, 3,\n",
            "        3, 1, 9, 5, 8, 2, 3, 5]), tensor([0, 6, 4, 5, 2, 3, 5, 2, 7, 7, 2, 6, 9, 7, 1, 2, 4, 5, 3, 0, 2, 1, 4, 0,\n",
            "        5, 4, 8, 5, 7, 3, 0, 8]), tensor([3, 5, 2, 4, 9, 8, 9, 9, 8, 1, 7, 5, 0, 1, 5, 3, 3, 3, 3, 4, 2, 3, 6, 7,\n",
            "        8, 0, 9, 3, 3, 0, 4, 2]), tensor([9, 4, 5, 7, 3, 7, 8, 6, 6, 6, 2, 3, 1, 0, 7, 5, 6, 6, 4, 1, 1, 4, 7, 2,\n",
            "        3, 5, 9, 6, 4, 4, 3, 8]), tensor([9, 9, 2, 6, 9, 6, 3, 5, 3, 1, 4, 5, 0, 1, 8, 5, 8, 4, 6, 7, 8, 9, 2, 4,\n",
            "        6, 3, 2, 2, 4, 5, 9, 1]), tensor([9, 7, 4, 5, 6, 1, 2, 2, 5, 6, 1, 5, 8, 6, 4, 4, 9, 4, 7, 8, 3, 0, 2, 7,\n",
            "        7, 5, 9, 7, 7, 3, 8, 7]), tensor([5, 9, 7, 8, 2, 1, 3, 8, 6, 2, 6, 7, 9, 2, 2, 5, 2, 3, 4, 1, 1, 9, 0, 5,\n",
            "        5, 4, 9, 8, 9, 3, 5, 4]), tensor([6, 6, 5, 7, 8, 4, 8, 8, 7, 2, 5, 4, 9, 6, 9, 7, 3, 9, 7, 3, 2, 6, 2, 8,\n",
            "        7, 9, 2, 0, 4, 4, 1, 0]), tensor([3, 8, 6, 8, 4, 4, 2, 3, 5, 7, 7, 8, 5, 6, 3, 2, 1, 8, 3, 2, 7, 4, 2, 3,\n",
            "        0, 8, 3, 3, 4, 9, 0, 9]), tensor([7, 0, 1, 6, 3, 6, 3, 8, 6, 8, 5, 1, 3, 4, 1, 9, 4, 6, 0, 4, 2, 3, 1, 5,\n",
            "        3, 4, 8, 5, 7, 8, 6, 4]), tensor([1, 0, 6, 2, 5, 9, 6, 7, 2, 3, 6, 4, 6, 3, 3, 9, 4, 7, 0, 8, 6, 5, 6, 2,\n",
            "        0, 1, 3, 9, 4, 2, 5, 6]), tensor([5, 3, 2, 5, 6, 0, 6, 0, 6, 9, 1, 3, 3, 2, 5, 8, 6, 6, 1, 4, 9, 7, 2, 4,\n",
            "        7, 5, 7, 1, 4, 8, 7, 9]), tensor([1, 7, 0, 2, 9, 2, 5, 6, 7, 8, 4, 5, 2, 7, 3, 1, 4, 5, 9, 6, 5, 7, 7, 3,\n",
            "        8, 1, 9, 4, 5, 3, 0, 7]), tensor([6, 9, 5, 1, 3, 6, 9, 3, 4, 2, 5, 3, 4, 9, 9, 1, 2, 2, 2, 4, 6, 8, 7, 9,\n",
            "        9, 4, 8, 8, 9, 0, 7, 6]), tensor([4, 3, 8, 8, 4, 2, 0, 1, 2, 0, 2, 1, 5, 4, 6, 3, 0, 3, 4, 5, 6, 3, 7, 6,\n",
            "        0, 3, 1, 8, 6, 8, 9, 9]), tensor([5, 5, 8, 2, 5, 4, 4, 2, 5, 2, 9, 2, 7, 1, 0, 3, 4, 6, 7, 8, 3, 2, 9, 1,\n",
            "        9, 2, 7, 3, 5, 2, 3, 4]), tensor([2, 1, 6, 2, 4, 3, 7, 8, 4, 9, 5, 9, 0, 4, 3, 4, 5, 5, 5, 7, 6, 1, 3, 3,\n",
            "        7, 0, 9, 7, 6, 8, 3, 5]), tensor([5, 8, 1, 9, 4, 6, 2, 2, 1, 6, 3, 3, 2, 5, 3, 6, 1, 1, 7, 8, 2, 5, 9, 0,\n",
            "        8, 3, 4, 4, 2, 7, 0, 7]), tensor([3, 3, 2, 3, 7, 1, 2, 2, 3, 3, 0, 6, 6, 4, 8, 5, 0, 3, 3, 4, 7, 3, 3, 6,\n",
            "        0, 2, 4, 4, 1, 8, 1, 9]), tensor([3, 2, 2, 4, 2, 3, 3, 3, 5, 3, 5, 8, 3, 9, 7, 4, 0, 6, 1, 6, 1, 6, 7, 7,\n",
            "        2, 8, 9, 6, 1, 5, 4, 9]), tensor([4, 7, 9, 9, 9, 6, 1, 0, 9, 9, 5, 1, 7, 2, 9, 3, 2, 6, 8, 1, 7, 4, 3, 8,\n",
            "        4, 7, 8, 8, 9, 6, 8, 4]), tensor([5, 6, 4, 5, 9, 6, 0, 5, 4, 1, 7, 4, 4, 7, 4, 5, 8, 3, 7, 2, 7, 1, 8, 8,\n",
            "        8, 7, 8, 6, 0, 5, 7, 9]), tensor([8, 5, 6, 0, 6, 2, 6, 2, 8, 9, 9, 1, 9, 5, 8, 4, 4, 2, 4, 2, 7, 2, 8, 3,\n",
            "        0, 7, 8, 8, 3, 9, 9, 5]), tensor([9, 2, 4, 9, 7, 0, 7, 4, 7, 9, 2, 3, 9, 5, 3, 5, 3, 1, 4, 9, 1, 2, 8, 5,\n",
            "        1, 7, 9, 0, 3, 3, 6, 9]), tensor([3, 4, 3, 0, 0, 2, 9, 7, 1, 9, 8, 5, 6, 8, 5, 8, 5, 2, 4, 8, 5, 2, 2, 5,\n",
            "        4, 2, 7, 1, 6, 6, 4, 6]), tensor([5, 6, 4, 6, 7, 8, 5, 1, 8, 2, 3, 4, 2, 4, 1, 8, 0, 7, 2, 7, 3, 2, 9, 7,\n",
            "        4, 6, 6, 1, 7, 1, 4, 7]), tensor([6, 1, 7, 3, 6, 3, 4, 6, 8, 0, 4, 1, 7, 9, 6, 2, 9, 2, 6, 7, 1, 7, 5, 2,\n",
            "        9, 8, 4, 4, 6, 3, 3, 2]), tensor([2, 8, 1, 6, 8, 1, 8, 1, 0, 1, 4, 7, 3, 7, 7, 3, 3, 9, 9, 6, 6, 2, 5, 8,\n",
            "        9, 3, 4, 7, 4, 1, 6, 9]), tensor([4, 3, 2, 6, 1, 8, 1, 3, 4, 0, 2, 1, 9, 0, 5, 3, 5, 3, 6, 4, 1, 2, 0, 7,\n",
            "        3, 6, 4, 3, 4, 4, 5, 2]), tensor([9, 6, 8, 0, 4, 6, 3, 1, 7, 8, 2, 3, 3, 2, 0, 3, 8, 2, 6, 2, 5, 1, 4, 2,\n",
            "        2, 1, 7, 3, 4, 6, 9, 7]), tensor([8, 0, 6, 3, 4, 6, 8, 1, 2, 3, 3, 1, 9, 5, 3, 2, 6, 7, 1, 9, 2, 9, 0, 4,\n",
            "        2, 4, 8, 6, 9, 4, 7, 0]), tensor([3, 2, 3, 8, 3, 4, 1, 2, 6, 2, 6, 7, 7, 8, 3, 2, 9, 5, 4, 6, 9, 5, 2, 3,\n",
            "        8, 5, 3, 8, 3, 7, 9, 0]), tensor([2, 5, 1, 0, 5, 6, 3, 9, 7, 9, 6, 6, 7, 1, 6, 0, 8, 6, 2, 2, 7, 8, 6, 6,\n",
            "        4, 6, 9, 7, 3, 2, 5, 4]), tensor([5, 1, 9, 5, 0, 5, 6, 4, 1, 7, 9, 3, 3, 3, 4, 9, 1, 3, 3, 9, 5, 6, 8, 2,\n",
            "        4, 1, 4, 0, 6, 7, 9, 0]), tensor([6, 0, 4, 0, 0, 9, 8, 1, 3, 7, 3, 7, 9, 5, 4, 2, 3, 6, 8, 8, 5, 5, 1, 8,\n",
            "        8, 5, 7, 9, 9, 3, 4, 4]), tensor([2, 7, 9, 4, 6, 7, 5, 4, 7, 6, 1, 4, 2, 2, 0, 9, 6, 3, 5, 1, 1, 7, 8, 3,\n",
            "        2, 6, 2, 0, 6, 4, 5, 5]), tensor([2, 4, 4, 4, 6, 1, 5, 2, 7, 8, 6, 7, 7, 0, 8, 4, 3, 6, 9, 1, 2, 1, 7, 4,\n",
            "        3, 2, 9, 9, 2, 4, 4, 3]), tensor([3, 3, 7, 5, 2, 7, 8, 9, 9, 2, 7, 6, 7, 7, 5, 4, 7, 4, 6, 9, 0, 1, 8, 7,\n",
            "        5, 4, 5, 3, 7, 4, 6, 5]), tensor([5, 6, 9, 9, 0, 9, 5, 9, 4, 4, 1, 7, 8, 3, 5, 1, 0, 6, 5, 0, 2, 3, 7, 1,\n",
            "        0, 1, 0, 7, 7, 6, 4, 4]), tensor([7, 0, 0, 5, 1, 4, 8, 1, 5, 4, 7, 3, 2, 3, 2, 7, 8, 6, 7, 6, 9, 5, 8, 6,\n",
            "        7, 3, 5, 0, 9, 7, 1, 0]), tensor([6, 5, 7, 8, 4, 3, 1, 9, 0, 2, 9, 1, 3, 4, 4, 3, 3, 6, 2, 4, 8, 6, 2, 9,\n",
            "        5, 0, 1, 8, 2, 2, 3, 4]), tensor([2, 9, 4, 3, 7, 9, 6, 3, 5, 4, 8, 9, 8, 8, 3, 0, 1, 2, 4, 4, 1, 9, 6, 4,\n",
            "        6, 5, 5, 4, 6, 2, 6, 1]), tensor([4, 9, 9, 7, 6, 1, 2, 6, 0, 2, 6, 2, 5, 9, 4, 8, 4, 6, 1, 5, 9, 2, 1, 8,\n",
            "        9, 3, 1, 7, 1, 1, 1, 9]), tensor([1, 3, 8, 9, 9, 1, 9, 6, 0, 7, 8, 5, 5, 5, 3, 8, 9, 4, 7, 6, 4, 9, 2, 6,\n",
            "        1, 5, 0, 7, 3, 6, 3, 7]), tensor([1, 1, 8, 2, 8, 9, 2, 0, 7, 2, 0, 6, 5, 1, 6, 8, 2, 3, 7, 2, 3, 9, 7, 6,\n",
            "        1, 3, 9, 2, 4, 6, 3, 7]), tensor([8, 1, 1, 9, 5, 3, 8, 4, 6, 6, 1, 5, 2, 8, 6, 2, 5, 9, 9, 4, 3, 4, 1, 7,\n",
            "        9, 0, 8, 7, 3, 3, 8, 4]), tensor([1, 8, 2, 7, 4, 4, 8, 9, 2, 5, 3, 2, 6, 1, 1, 0, 4, 1, 6, 7, 6, 5, 9, 1,\n",
            "        5, 0, 9, 4, 2, 1, 7, 4]), tensor([9, 8, 8, 9, 5, 5, 3, 8, 2, 0, 3, 6, 1, 1, 9, 6, 9, 7, 5, 3, 2, 9, 5, 5,\n",
            "        4, 2, 9, 9, 3, 0, 6, 4]), tensor([1, 7, 4, 7, 2, 8, 5, 8, 6, 0, 1, 3, 2, 2, 3, 6, 6, 6, 6, 8, 3, 2, 8, 6,\n",
            "        1, 8, 4, 5, 4, 2, 3, 9]), tensor([6, 4, 3, 4, 5, 4, 2, 7, 3, 7, 3, 3, 6, 9, 4, 8, 5, 6, 0, 3, 6, 7, 2, 5,\n",
            "        3, 1, 1, 9, 9, 5, 4, 2]), tensor([1, 6, 4, 8, 9, 2, 5, 5, 8, 3, 0, 9, 6, 4, 6, 3, 8, 4, 7, 6, 3, 6, 6, 2,\n",
            "        8, 4, 1, 3, 7, 2, 8, 2]), tensor([2, 3, 2, 4, 0, 8, 4, 5, 1, 4, 8, 8, 2, 1, 2, 1, 1, 9, 6, 5, 9, 6, 8, 0,\n",
            "        3, 4, 3, 8, 4, 7, 5, 4]), tensor([1, 1, 2, 0, 8, 8, 0, 1, 0, 5, 2, 8, 9, 7, 9, 1, 1, 3, 3, 5, 6, 7, 2, 9,\n",
            "        4, 9, 3, 2, 6, 2, 8, 8]), tensor([2, 5, 9, 8, 3, 8, 1, 3, 3, 4, 5, 2, 5, 2, 4, 9, 2, 7, 1, 4, 2, 3, 7, 7,\n",
            "        6, 7, 9, 4, 7, 7, 0, 1]), tensor([2, 1, 2, 8, 2, 4, 7, 4, 7, 1, 8, 7, 5, 1, 3, 1, 0, 3, 6, 5, 3, 8, 6, 3,\n",
            "        4, 9, 3, 1, 5, 3, 0, 7]), tensor([6, 6, 4, 5, 1, 6, 6, 2, 8, 3, 9, 8, 6, 7, 2, 4, 2, 5, 1, 9, 4, 3, 8, 7,\n",
            "        1, 8, 3, 2, 0, 9, 2, 4]), tensor([3, 4, 6, 1, 3, 5, 2, 9, 7, 5, 3, 9, 9, 5, 6, 4, 8, 0, 7, 6, 8, 6, 2, 1,\n",
            "        9, 7, 7, 3, 8, 0, 3, 6]), tensor([9, 8, 5, 6, 4, 8, 1, 5, 5, 7, 0, 1, 6, 1, 3, 4, 4, 2, 2, 1, 7, 4, 2, 2,\n",
            "        6, 1, 8, 2, 2, 6, 3, 0]), tensor([8, 8, 4, 6, 2, 0, 7, 0, 8, 9, 1, 4, 6, 7, 6, 8, 1, 8, 2, 6, 6, 7, 5, 7,\n",
            "        9, 9, 3, 9, 4, 4, 6, 6]), tensor([1, 4, 8, 4, 4, 5, 2, 2, 2, 9, 1, 8, 0, 6, 2, 2, 0, 4, 6, 6, 1, 3, 6, 3,\n",
            "        4, 1, 5, 5, 1, 0, 7, 2]), tensor([5, 0, 3, 2, 8, 5, 8, 7, 8, 4, 5, 9, 5, 5, 1, 2, 4, 7, 2, 9, 7, 8, 6, 7,\n",
            "        4, 6, 3, 8, 8, 4, 5, 3]), tensor([8, 2, 4, 2, 2, 7, 8, 9, 0, 2, 7, 9, 1, 5, 7, 8, 4, 3, 9, 5, 9, 1, 0, 8,\n",
            "        6, 1, 6, 3, 5, 8, 6, 0]), tensor([1, 8, 2, 9, 0, 6, 7, 6, 6, 2, 7, 4, 8, 8, 2, 6, 3, 6, 7, 1, 4, 7, 4, 2,\n",
            "        7, 1, 6, 5, 2, 4, 7, 9]), tensor([6, 2, 8, 2, 1, 1, 8, 8, 3, 5, 7, 5, 6, 9, 4, 3, 9, 3, 8, 9, 6, 2, 2, 4,\n",
            "        5, 7, 0, 2, 3, 9, 5, 7]), tensor([4, 2, 5, 8, 3, 1, 3, 7, 4, 9, 4, 3, 9, 7, 2, 0, 8, 6, 9, 1, 9, 9, 6, 7,\n",
            "        1, 4, 5, 0, 3, 8, 7, 2]), tensor([8, 5, 9, 4, 2, 0, 6, 9, 8, 5, 6, 4, 3, 7, 9, 1, 8, 9, 4, 0, 9, 7, 4, 8,\n",
            "        2, 1, 2, 7, 5, 4, 0, 8]), tensor([3, 4, 7, 2, 4, 6, 8, 5, 7, 9, 5, 7, 4, 2, 3, 7, 3, 4, 1, 5, 6, 9, 7, 4,\n",
            "        0, 2, 5, 8, 0, 7, 7, 2]), tensor([2, 6, 4, 8, 4, 6, 6, 9, 8, 9, 6, 5, 0, 6, 0, 2, 6, 3, 1, 8, 7, 4, 1, 9,\n",
            "        1, 2, 6, 5, 2, 3, 6, 0]), tensor([2, 6, 0, 7, 2, 1, 8, 4, 8, 7, 9, 2, 1, 4, 5, 7, 7, 4, 2, 5, 9, 4, 6, 7,\n",
            "        3, 2, 0, 9, 6, 7, 3, 9]), tensor([1, 2, 1, 9, 7, 2, 3, 4, 8, 1, 8, 3, 5, 0, 5, 3, 8, 2, 7, 4, 9, 0, 6, 8,\n",
            "        4, 2, 4, 4, 4, 3, 7, 8]), tensor([7, 1, 3, 7, 8, 9, 5, 5, 2, 4, 4, 5, 0, 8, 6, 3, 4, 6, 8, 8, 9, 6, 9, 1,\n",
            "        5, 1, 2, 1, 3, 2, 2, 2]), tensor([4, 8, 7, 5, 9, 2, 0, 5, 7, 0, 5, 6, 5, 3, 3, 4, 6, 7, 1, 8, 8, 9, 8, 1,\n",
            "        7, 3, 2, 4, 3, 7, 1, 8]), tensor([5, 7, 8, 6, 5, 1, 8, 7, 7, 7, 7, 6, 5, 2, 4, 1, 2, 3, 4, 1, 0, 3, 9, 1,\n",
            "        8, 2, 3, 7, 4, 9, 5, 9]), tensor([4, 3, 9, 8, 6, 8, 2, 7, 3, 9, 3, 0, 8, 9, 0, 9, 8, 6, 4, 5, 7, 1, 4, 8,\n",
            "        2, 0, 2, 3, 1, 1, 1, 7]), tensor([6, 2, 6, 5, 9, 8, 9, 9, 3, 4, 7, 9, 2, 0, 1, 1, 1, 4, 8, 3, 8, 6, 5, 5,\n",
            "        6, 7, 6, 8, 2, 4, 6, 2]), tensor([2, 2, 5, 7, 4, 9, 7, 6, 2, 2, 0, 7, 4, 5, 6, 3, 6, 1, 9, 8, 1, 8, 6, 6,\n",
            "        3, 9, 1, 9, 7, 6, 9, 6]), tensor([9, 3, 0, 2, 8, 3, 4, 6, 6, 9, 2, 1, 1, 0, 5, 6, 7, 0, 4, 1, 1, 7, 0, 3,\n",
            "        1, 9, 8, 7, 3, 5, 4, 3]), tensor([2, 6, 4, 0, 4, 6, 2, 3, 5, 9, 5, 8, 9, 3, 3, 7, 8, 9, 4, 1, 1, 7, 0, 7,\n",
            "        0, 6, 9, 6, 0, 2, 9, 2]), tensor([8, 5, 5, 9, 3, 3, 5, 7, 1, 2, 3, 3, 5, 6, 6, 4, 1, 1, 9, 1, 4, 6, 6, 2,\n",
            "        2, 6, 6, 0, 3, 5, 0, 3]), tensor([0, 5, 1, 1, 8, 2, 5, 3, 5, 1, 6, 6, 3, 1, 6, 9, 9, 6, 3, 8, 5, 6, 6, 9,\n",
            "        1, 9, 7, 7, 6, 4, 2, 7]), tensor([5, 6, 1, 5, 7, 7, 8, 2, 8, 3, 7, 4, 6, 2, 9, 9, 0, 2, 7, 3, 1, 6, 8, 2,\n",
            "        4, 4, 4, 7, 1, 8, 4, 6]), tensor([3, 4, 4, 3, 9, 8, 0, 3, 8, 3, 9, 2, 1, 5, 4, 5, 6, 8, 4, 2, 5, 9, 3, 6,\n",
            "        4, 7, 8, 5, 9, 5, 0, 0]), tensor([6, 9, 7, 2, 9, 2, 2, 6, 4, 6, 1, 6, 3, 9, 4, 0, 8, 8, 2, 6, 9, 2, 7, 2,\n",
            "        5, 4, 8, 8, 8, 7, 6, 2]), tensor([1, 1, 8, 7, 3, 2, 0, 5, 2, 3, 8, 8, 8, 9, 3, 6, 9, 4, 3, 3, 6, 4, 2, 8,\n",
            "        8, 5, 9, 2, 7, 1, 9, 0]), tensor([3, 3, 6, 2, 3, 9, 9, 7, 3, 0, 4, 2, 4, 6, 4, 5, 3, 4, 9, 8, 5, 8, 3, 4,\n",
            "        1, 4, 8, 7, 2, 6, 2, 3]), tensor([7, 6, 3, 5, 2, 5, 3, 7, 1, 2, 9, 8, 7, 4, 8, 8, 7, 5, 8, 4, 4, 6, 8, 3,\n",
            "        6, 4, 9, 6, 1, 0, 5, 1]), tensor([4, 0, 9, 2, 6, 3, 6, 7, 4, 6, 4, 3, 8, 5, 1, 8, 3, 4, 4, 5, 6, 0, 7, 8,\n",
            "        7, 4, 2, 2, 2, 9, 3, 5]), tensor([0, 9, 9, 0, 1, 3, 7, 1, 9, 4, 5, 2, 6, 9, 5, 7, 7, 4, 2, 8, 3, 1, 7, 8,\n",
            "        4, 6, 8, 0, 5, 5, 7, 1]), tensor([7, 6, 2, 1, 5, 1, 9, 0, 1, 0, 3, 2, 7, 3, 9, 3, 5, 4, 0, 6, 9, 7, 4, 2,\n",
            "        3, 8, 5, 8, 3, 0, 4, 1]), tensor([2, 9, 5, 8, 9, 0, 0, 2, 9, 5, 9, 1, 1, 0, 8, 0, 1, 4, 6, 9, 9, 8, 9, 7,\n",
            "        2, 0, 1, 9, 9, 3, 9, 3]), tensor([2, 3, 7, 3, 1, 4, 6, 8, 3, 4, 3, 3, 8, 4, 7, 1, 6, 3, 8, 4, 7, 9, 8, 6,\n",
            "        3, 0, 4, 5, 7, 6, 7, 2]), tensor([5, 0, 2, 6, 3, 3, 0, 3, 4, 4, 4, 3, 6, 9, 9, 6, 7, 4, 3, 2, 2, 1, 9, 5,\n",
            "        9, 9, 0, 5, 8, 2, 7, 3]), tensor([9, 5, 2, 8, 9, 5, 8, 6, 0, 3, 6, 6, 3, 7, 8, 0, 1, 2, 2, 6, 1, 1, 3, 2,\n",
            "        2, 5, 4, 3, 9, 3, 4, 4]), tensor([3, 7, 2, 9, 2, 1, 4, 7, 5, 5, 9, 4, 6, 9, 7, 9, 5, 4, 1, 8, 3, 3, 8, 0,\n",
            "        8, 7, 6, 7, 7, 9, 6, 4]), tensor([6, 3, 7, 2, 1, 5, 2, 0, 5, 8, 6, 7, 0, 1, 6, 5, 6, 2, 1, 4, 1, 8, 7, 9,\n",
            "        9, 7, 3, 2, 2, 4, 7, 2]), tensor([3, 9, 6, 3, 9, 5, 1, 0, 9, 2, 7, 4, 3, 5, 7, 2, 7, 6, 8, 7, 5, 4, 5, 9,\n",
            "        4, 3, 5, 0, 2, 7, 5, 3]), tensor([1, 9, 3, 7, 1, 6, 3, 4, 4, 2, 5, 9, 2, 1, 1, 9, 7, 9, 0, 1, 6, 8, 5, 2,\n",
            "        5, 3, 7, 8, 7, 7, 0, 8]), tensor([5, 6, 6, 3, 5, 2, 7, 7, 9, 7, 1, 0, 0, 8, 6, 4, 0, 3, 4, 5, 5, 6, 5, 3,\n",
            "        2, 4, 5, 2, 7, 1, 8, 7]), tensor([1, 6, 2, 0, 4, 7, 3, 7, 4, 6, 6, 3, 9, 4, 6, 6, 6, 8, 7, 3, 3, 6, 5, 6,\n",
            "        1, 5, 0, 9, 9, 1, 3, 0]), tensor([6, 1, 6, 6, 5, 7, 2, 2, 0, 9, 2, 3, 8, 2, 8, 3, 7, 7, 3, 3, 9, 5, 7, 3,\n",
            "        0, 9, 4, 5, 6, 7, 2, 9]), tensor([5, 5, 8, 7, 4, 9, 6, 2, 3, 6, 3, 0, 2, 7, 6, 4, 2, 7, 4, 1, 5, 7, 9, 7,\n",
            "        3, 9, 8, 8, 5, 1, 9, 6]), tensor([1, 6, 4, 8, 0, 5, 6, 9, 8, 5, 4, 4, 4, 1, 7, 5, 1, 4, 6, 5, 0, 3, 2, 8,\n",
            "        7, 8, 5, 9, 1, 1, 3, 5]), tensor([9, 9, 9, 1, 0, 3, 3, 4, 4, 4, 7, 1, 3, 0, 1, 5, 3, 4, 9, 2, 4, 2, 2, 6,\n",
            "        7, 9, 4, 7, 1, 4, 0, 8]), tensor([3, 3, 5, 4, 0, 8, 3, 3, 2, 0, 1, 8, 2, 3, 2, 9, 5, 4, 4, 5, 2, 1, 6, 4,\n",
            "        4, 5, 8, 6, 7, 3, 2, 6]), tensor([7, 4, 2, 3, 8, 4, 4, 6, 3, 4, 8, 1, 7, 8, 4, 8, 7, 8, 9, 9, 9, 2, 0, 9,\n",
            "        4, 0, 8, 8, 8, 0, 5, 6]), tensor([6, 6, 6, 2, 9, 9, 2, 3, 5, 2, 0, 1, 0, 8, 9, 5, 7, 3, 3, 2, 4, 1, 2, 8,\n",
            "        1, 8, 2, 2, 6, 9, 8, 5]), tensor([1, 2, 4, 0, 9, 6, 5, 5, 0, 7, 1, 6, 5, 8, 9, 9, 4, 9, 6, 3, 1, 2, 5, 0,\n",
            "        8, 6, 4, 6, 3, 6, 0, 6]), tensor([0, 3, 5, 9, 4, 7, 1, 5, 0, 1, 6, 1, 7, 9, 4, 0, 4, 5, 2, 9, 4, 9, 8, 8,\n",
            "        7, 6, 2, 0, 9, 3, 6, 7]), tensor([3, 2, 7, 6, 6, 1, 0, 5, 7, 3, 5, 9, 4, 3, 4, 8, 5, 8, 1, 9, 6, 7, 6, 7,\n",
            "        3, 6, 2, 5, 6, 8, 2, 6]), tensor([7, 4, 6, 5, 1, 5, 9, 6, 0, 9, 5, 8, 5, 7, 3, 9, 8, 3, 2, 6, 5, 7, 5, 1,\n",
            "        1, 5, 2, 1, 4, 5, 8, 2]), tensor([9, 6, 3, 3, 4, 6, 2, 4, 1, 1, 4, 7, 2, 5, 0, 2, 8, 8, 8, 8, 7, 7, 1, 2,\n",
            "        6, 4, 1, 4, 6, 2, 5, 8]), tensor([2, 4, 8, 3, 1, 8, 8, 4, 4, 0, 8, 2, 8, 6, 3, 2, 5, 8, 7, 5, 7, 0, 1, 1,\n",
            "        9, 7, 8, 6, 1, 9, 6, 3]), tensor([6, 9, 4, 0, 4, 9, 7, 2, 2, 2, 0, 9, 6, 4, 3, 7, 8, 6, 2, 6, 1, 1, 9, 9,\n",
            "        4, 5, 3, 4, 8, 9, 0, 6]), tensor([6, 1, 2, 3, 7, 6, 9, 0, 4, 8, 2, 3, 4, 9, 5, 5, 9, 4, 0, 4, 1, 1, 8, 9,\n",
            "        6, 4, 2, 3, 3, 0, 7, 1]), tensor([8, 8, 5, 3, 3, 7, 7, 1, 0, 1, 4, 1, 9, 0, 2, 1, 1, 6, 7, 3, 7, 3, 6, 0,\n",
            "        1, 8, 9, 2, 6, 6, 0, 9]), tensor([3, 6, 1, 4, 7, 8, 0, 5, 6, 8, 2, 5, 5, 3, 5, 9, 1, 8, 5, 3, 1, 2, 4, 3,\n",
            "        7, 3, 5, 4, 8, 6, 7, 1]), tensor([2, 3, 9, 8, 3, 8, 7, 7, 9, 7, 0, 9, 4, 0, 9, 6, 1, 9, 8, 6, 4, 7, 6, 9,\n",
            "        5, 4, 7, 1, 2, 1, 2, 6]), tensor([9, 2, 0, 5, 2, 0, 5, 5, 4, 6, 9, 9, 1, 6, 7, 7, 7, 4, 5, 1, 2, 0, 6, 3,\n",
            "        8, 9, 8, 4, 1, 0, 8, 3]), tensor([9, 8, 8, 7, 8, 3, 2, 0, 7, 4, 8, 6, 9, 9, 4, 7, 7, 2, 2, 1, 5, 3, 4, 3,\n",
            "        5, 5, 0, 8, 4, 7, 8, 9]), tensor([4, 2, 1, 7, 4, 4, 4, 9, 4, 3, 6, 0, 7, 7, 8, 0, 9, 1, 2, 6, 2, 9, 7, 1,\n",
            "        9, 7, 3, 3, 1, 4, 3, 5]), tensor([3, 3, 9, 4, 1, 4, 4, 6, 7, 5, 4, 6, 9, 9, 8, 1, 8, 1, 2, 2, 7, 5, 6, 1,\n",
            "        4, 6, 0, 1, 2, 0, 7, 6]), tensor([8, 8, 2, 8, 4, 5, 0, 6, 1, 7, 9, 7, 3, 9, 4, 6, 2, 8, 7, 1, 6, 8, 7, 6,\n",
            "        2, 4, 8, 2, 8, 0, 1, 5]), tensor([3, 8, 1, 7, 2, 9, 3, 7, 9, 3, 1, 8, 3, 0, 9, 3, 6, 2, 4, 2, 7, 6, 6, 9,\n",
            "        8, 8, 1, 5, 7, 7, 4, 7]), tensor([5, 4, 4, 0, 9, 8, 7, 3, 7, 0, 2, 5, 5, 1, 6, 9, 2, 6, 3, 2, 0, 4, 7, 8,\n",
            "        6, 4, 0, 1, 9, 3, 8, 3]), tensor([9, 7, 1, 7, 1, 3, 4, 6, 5, 6, 0, 6, 4, 1, 1, 2, 9, 6, 3, 2, 1, 3, 2, 7,\n",
            "        6, 1, 8, 5, 7, 4, 6, 5]), tensor([0, 4, 6, 2, 2, 5, 2, 1, 8, 2, 1, 7, 3, 2, 8, 9, 5, 0, 1, 2, 1, 4, 9, 6,\n",
            "        3, 1, 1, 4, 7, 8, 3, 6]), tensor([9, 3, 2, 8, 3, 8, 4, 9, 4, 7, 7, 0, 3, 6, 4, 5, 7, 3, 7, 6, 6, 6, 9, 3,\n",
            "        0, 5, 4, 1, 2, 1, 8, 1]), tensor([9, 4, 8, 9, 9, 3, 3, 7, 0, 6, 6, 1, 6, 4, 6, 4, 2, 2, 9, 3, 6, 3, 4, 0,\n",
            "        6, 1, 3, 6, 3, 5, 7, 9]), tensor([6, 6, 3, 7, 5, 1, 2, 7, 7, 5, 8, 0, 9, 1, 6, 1, 4, 9, 1, 6, 5, 2, 3, 6,\n",
            "        7, 1, 2, 7, 9, 3, 7, 2]), tensor([4, 2, 6, 7, 2, 7, 3, 1, 7, 8, 8, 7, 0, 1, 2, 0, 9, 7, 9, 9, 1, 2, 3, 4,\n",
            "        7, 4, 3, 3, 1, 7, 5, 7]), tensor([8, 5, 2, 0, 3, 3, 4, 7, 5, 3, 2, 7, 8, 4, 7, 4, 6, 8, 3, 6, 1, 7, 9, 2,\n",
            "        9, 1, 4, 6, 5, 1, 0, 2]), tensor([3, 7, 3, 1, 8, 2, 5, 9, 8, 8, 1, 0, 9, 6, 6, 6, 1, 1, 4, 7, 3, 0, 7, 9,\n",
            "        8, 9, 5, 4, 6, 4, 7, 2]), tensor([3, 8, 3, 8, 1, 1, 2, 4, 8, 1, 0, 8, 1, 8, 5, 3, 2, 7, 0, 2, 4, 9, 4, 2,\n",
            "        4, 5, 9, 6, 9, 9, 6, 7]), tensor([3, 2, 3, 3, 9, 2, 7, 7, 8, 1, 1, 2, 6, 5, 7, 9, 4, 7, 2, 7, 0, 2, 2, 9,\n",
            "        9, 7, 7, 5, 0, 1, 2, 3]), tensor([4, 6, 2, 0, 5, 8, 7, 8, 4, 2, 8, 9, 7, 1, 6, 7, 9, 9, 0, 1, 5, 1, 1, 3,\n",
            "        6, 7, 9, 8, 3, 3, 8, 5]), tensor([2, 4, 3, 6, 8, 0, 5, 6, 6, 5, 0, 1, 2, 5, 3, 8, 2, 1, 8, 1, 7, 1, 9, 1,\n",
            "        8, 3, 5, 4, 1, 0, 6, 4]), tensor([6, 6, 8, 2, 2, 5, 5, 0, 2, 6, 9, 8, 6, 1, 0, 6, 4, 8, 3, 4, 7, 7, 5, 9,\n",
            "        2, 5, 3, 6, 9, 9, 4, 8]), tensor([5, 6, 9, 3, 4, 0, 2, 8, 3, 1, 9, 2, 1, 6, 7, 3, 8, 5, 0, 2, 6, 4, 1, 1,\n",
            "        9, 8, 3, 9, 2, 2, 6, 0]), tensor([5, 2, 7, 6, 8, 3, 2, 4, 8, 4, 4, 5, 0, 3, 3, 1, 9, 2, 3, 7, 8, 2, 3, 6,\n",
            "        2, 5, 6, 9, 6, 7, 1, 1]), tensor([7, 9, 6, 1, 6, 7, 5, 4, 6, 3, 3, 2, 1, 0, 0, 9, 9, 8, 2, 9, 6, 4, 5, 4,\n",
            "        7, 2, 6, 5, 2, 6, 9, 3]), tensor([7, 0, 6, 3, 5, 3, 4, 3, 4, 6, 9, 8, 8, 6, 2, 0, 6, 3, 9, 4, 2, 8, 1, 7,\n",
            "        2, 4, 9, 3, 6, 2, 0, 6]), tensor([7, 3, 5, 0, 2, 3, 1, 3, 0, 9, 5, 4, 3, 7, 6, 2, 2, 9, 0, 7, 2, 5, 6, 8,\n",
            "        2, 1, 3, 2, 2, 5, 9, 4]), tensor([5, 6, 2, 0, 7, 4, 6, 2, 3, 3, 8, 2, 3, 8, 9, 4, 0, 2, 8, 3, 8, 2, 7, 7,\n",
            "        0, 3, 6, 8, 1, 5, 9, 2]), tensor([2, 8, 9, 4, 1, 0, 5, 8, 2, 2, 8, 2, 2, 6, 7, 2, 7, 3, 7, 4, 5, 8, 8, 3,\n",
            "        9, 7, 0, 6, 2, 0, 3, 6]), tensor([4, 9, 2, 5, 6, 5, 6, 3, 1, 7, 8, 6, 4, 7, 3, 3, 8, 3, 0, 9, 2, 8, 5, 4,\n",
            "        9, 6, 3, 4, 2, 0, 1, 1]), tensor([7, 3, 8, 2, 1, 9, 3, 8, 2, 8, 2, 3, 7, 6, 6, 4, 9, 2, 6, 2, 9, 8, 0, 5,\n",
            "        7, 4, 4, 5, 2, 3, 6, 7]), tensor([2, 4, 2, 7, 2, 6, 3, 3, 1, 5, 4, 0, 1, 9, 7, 5, 6, 5, 2, 7, 2, 6, 3, 5,\n",
            "        4, 8, 9, 0, 9, 7, 5, 7]), tensor([7, 9, 3, 4, 8, 4, 3, 9, 3, 1, 0, 2, 5, 2, 8, 7, 9, 7, 7, 7, 9, 2, 6, 0,\n",
            "        6, 7, 2, 1, 8, 0, 3, 8]), tensor([5, 0, 5, 6, 9, 1, 1, 2, 2, 8, 9, 7, 7, 5, 8, 6, 1, 4, 0, 1, 8, 4, 3, 4,\n",
            "        7, 9, 3, 7, 5, 5, 3, 9]), tensor([1, 2, 1, 2, 7, 4, 6, 9, 3, 4, 4, 1, 7, 8, 1, 2, 5, 9, 0, 2, 9, 5, 3, 8,\n",
            "        8, 2, 6, 5, 7, 0, 7, 6]), tensor([9, 6, 9, 2, 9, 4, 8, 5, 2, 0, 3, 6, 6, 4, 7, 4, 1, 7, 7, 8, 5, 7, 0, 6,\n",
            "        4, 2, 1, 3, 8, 3, 3, 2]), tensor([7, 5, 9, 1, 0, 4, 3, 7, 6, 6, 3, 1, 8, 4, 7, 2, 5, 5, 3, 1, 5, 1, 9, 2,\n",
            "        9, 6, 2, 6, 1, 8, 3, 9]), tensor([8, 4, 0, 3, 8, 4, 5, 1, 2, 4, 4, 4, 4, 8, 5, 7, 7, 7, 3, 5, 5, 7, 9, 9,\n",
            "        8, 2, 8, 2, 1, 3, 3, 4]), tensor([8, 9, 4, 0, 7, 3, 6, 8, 1, 6, 6, 1, 6, 5, 4, 9, 7, 2, 8, 7, 3, 7, 2, 1,\n",
            "        2, 1, 7, 4, 2, 8, 5, 0]), tensor([2, 3, 0, 1, 6, 6, 5, 0, 1, 5, 5, 4, 5, 1, 7, 8, 7, 1, 2, 7, 0, 9, 3, 1,\n",
            "        9, 0, 4, 6, 6, 5, 9, 9]), tensor([4, 2, 7, 1, 8, 1, 4, 2, 3, 7, 8, 4, 0, 4, 5, 4, 2, 9, 3, 5, 8, 0, 1, 9,\n",
            "        6, 7, 3, 7, 4, 4, 6, 6]), tensor([2, 1, 3, 3, 6, 7, 0, 5, 9, 8, 9, 3, 7, 9, 9, 2, 8, 8, 3, 1, 4, 4, 0, 2,\n",
            "        8, 1, 4, 1, 3, 3, 2, 7]), tensor([8, 7, 0, 4, 3, 4, 4, 8, 7, 9, 2, 8, 2, 4, 8, 6, 1, 7, 6, 7, 6, 6, 0, 3,\n",
            "        5, 1, 1, 2, 4, 6, 9, 8]), tensor([1, 6, 1, 6, 8, 5, 4, 0, 4, 0, 4, 9, 3, 7, 5, 4, 8, 6, 2, 8, 6, 4, 4, 6,\n",
            "        6, 7, 5, 2, 8, 7, 2, 9]), tensor([5, 9, 2, 1, 2, 4, 1, 9, 7, 1, 7, 3, 5, 8, 7, 2, 5, 1, 5, 2, 0, 6, 0, 1,\n",
            "        2, 4, 4, 8, 0, 3, 2, 6]), tensor([3, 5, 1, 6, 3, 6, 5, 1, 8, 3, 1, 6, 7, 8, 4, 2, 0, 4, 7, 8, 1, 3, 9, 0,\n",
            "        2, 8, 1, 4, 6, 8, 3, 0]), tensor([8, 7, 7, 5, 4, 7, 7, 6, 1, 8, 1, 7, 7, 0, 3, 1, 2, 5, 5, 3, 8, 9, 2, 0,\n",
            "        9, 5, 1, 7, 2, 1, 5, 2]), tensor([8, 3, 2, 0, 7, 1, 3, 4, 4, 5, 7, 0, 6, 7, 3, 3, 7, 8, 8, 2, 5, 6, 9, 7,\n",
            "        1, 2, 9, 3, 0, 5, 5, 0]), tensor([9, 1, 4, 8, 5, 2, 4, 1, 4, 6, 3, 3, 6, 3, 0, 8, 4, 7, 5, 5, 7, 0, 7, 9,\n",
            "        4, 4, 2, 9, 4, 7, 1, 8]), tensor([8, 8, 5, 8, 3, 8, 9, 3, 2, 0, 2, 1, 8, 4, 4, 2, 6, 9, 7, 3, 1, 5, 1, 3,\n",
            "        5, 6, 6, 2, 1, 7, 3, 6]), tensor([8, 2, 9, 3, 9, 6, 0, 4, 1, 2, 6, 2, 9, 1, 4, 9, 7, 3, 2, 6, 3, 9, 7, 8,\n",
            "        5, 6, 9, 6, 0, 3, 8, 1]), tensor([3, 2, 7, 5, 8, 4, 0, 6, 8, 9, 1, 9, 1, 0, 1, 2])]\n"
          ]
        },
        {
          "output_type": "execute_result",
          "data": {
            "text/plain": [
              "tensor([9, 2, 1, 1, 6, 1, 4, 6, 5, 7])"
            ]
          },
          "metadata": {},
          "execution_count": 67
        }
      ]
    },
    {
      "cell_type": "code",
      "source": [
        "try:\n",
        "  import torchmetrics, mlxtend\n",
        "  print(f\"mlextenf version:{mlxtenf.__version__}\")\n",
        "  assert int(mlxtend.__version__.split(\".\")[1]>-19,\"mlxtend version should be 0.19 or higher\")\n",
        "except:\n",
        "  !pip install torchmetrics -U mlxtend\n",
        "  import torchmetrics,mlxtend\n",
        "  print(f\"mlxtend version:{mlxtend.__version__}\")"
      ],
      "metadata": {
        "id": "4y5p-5bRixtY",
        "colab": {
          "base_uri": "https://localhost:8080/"
        },
        "outputId": "def2b942-b5e9-4211-9473-0dd8b4dfc52b"
      },
      "execution_count": null,
      "outputs": [
        {
          "output_type": "stream",
          "name": "stdout",
          "text": [
            "Collecting torchmetrics\n",
            "  Downloading torchmetrics-1.7.1-py3-none-any.whl.metadata (21 kB)\n",
            "Requirement already satisfied: mlxtend in /usr/local/lib/python3.11/dist-packages (0.23.4)\n",
            "Requirement already satisfied: numpy>1.20.0 in /usr/local/lib/python3.11/dist-packages (from torchmetrics) (2.0.2)\n",
            "Requirement already satisfied: packaging>17.1 in /usr/local/lib/python3.11/dist-packages (from torchmetrics) (24.2)\n",
            "Requirement already satisfied: torch>=2.0.0 in /usr/local/lib/python3.11/dist-packages (from torchmetrics) (2.6.0+cu124)\n",
            "Collecting lightning-utilities>=0.8.0 (from torchmetrics)\n",
            "  Downloading lightning_utilities-0.14.3-py3-none-any.whl.metadata (5.6 kB)\n",
            "Requirement already satisfied: scipy>=1.2.1 in /usr/local/lib/python3.11/dist-packages (from mlxtend) (1.14.1)\n",
            "Requirement already satisfied: pandas>=0.24.2 in /usr/local/lib/python3.11/dist-packages (from mlxtend) (2.2.2)\n",
            "Requirement already satisfied: scikit-learn>=1.3.1 in /usr/local/lib/python3.11/dist-packages (from mlxtend) (1.6.1)\n",
            "Requirement already satisfied: matplotlib>=3.0.0 in /usr/local/lib/python3.11/dist-packages (from mlxtend) (3.10.0)\n",
            "Requirement already satisfied: joblib>=0.13.2 in /usr/local/lib/python3.11/dist-packages (from mlxtend) (1.4.2)\n",
            "Requirement already satisfied: setuptools in /usr/local/lib/python3.11/dist-packages (from lightning-utilities>=0.8.0->torchmetrics) (75.2.0)\n",
            "Requirement already satisfied: typing_extensions in /usr/local/lib/python3.11/dist-packages (from lightning-utilities>=0.8.0->torchmetrics) (4.13.1)\n",
            "Requirement already satisfied: contourpy>=1.0.1 in /usr/local/lib/python3.11/dist-packages (from matplotlib>=3.0.0->mlxtend) (1.3.1)\n",
            "Requirement already satisfied: cycler>=0.10 in /usr/local/lib/python3.11/dist-packages (from matplotlib>=3.0.0->mlxtend) (0.12.1)\n",
            "Requirement already satisfied: fonttools>=4.22.0 in /usr/local/lib/python3.11/dist-packages (from matplotlib>=3.0.0->mlxtend) (4.57.0)\n",
            "Requirement already satisfied: kiwisolver>=1.3.1 in /usr/local/lib/python3.11/dist-packages (from matplotlib>=3.0.0->mlxtend) (1.4.8)\n",
            "Requirement already satisfied: pillow>=8 in /usr/local/lib/python3.11/dist-packages (from matplotlib>=3.0.0->mlxtend) (11.1.0)\n",
            "Requirement already satisfied: pyparsing>=2.3.1 in /usr/local/lib/python3.11/dist-packages (from matplotlib>=3.0.0->mlxtend) (3.2.3)\n",
            "Requirement already satisfied: python-dateutil>=2.7 in /usr/local/lib/python3.11/dist-packages (from matplotlib>=3.0.0->mlxtend) (2.8.2)\n",
            "Requirement already satisfied: pytz>=2020.1 in /usr/local/lib/python3.11/dist-packages (from pandas>=0.24.2->mlxtend) (2025.2)\n",
            "Requirement already satisfied: tzdata>=2022.7 in /usr/local/lib/python3.11/dist-packages (from pandas>=0.24.2->mlxtend) (2025.2)\n",
            "Requirement already satisfied: threadpoolctl>=3.1.0 in /usr/local/lib/python3.11/dist-packages (from scikit-learn>=1.3.1->mlxtend) (3.6.0)\n",
            "Requirement already satisfied: filelock in /usr/local/lib/python3.11/dist-packages (from torch>=2.0.0->torchmetrics) (3.18.0)\n",
            "Requirement already satisfied: networkx in /usr/local/lib/python3.11/dist-packages (from torch>=2.0.0->torchmetrics) (3.4.2)\n",
            "Requirement already satisfied: jinja2 in /usr/local/lib/python3.11/dist-packages (from torch>=2.0.0->torchmetrics) (3.1.6)\n",
            "Requirement already satisfied: fsspec in /usr/local/lib/python3.11/dist-packages (from torch>=2.0.0->torchmetrics) (2025.3.2)\n",
            "Collecting nvidia-cuda-nvrtc-cu12==12.4.127 (from torch>=2.0.0->torchmetrics)\n",
            "  Downloading nvidia_cuda_nvrtc_cu12-12.4.127-py3-none-manylinux2014_x86_64.whl.metadata (1.5 kB)\n",
            "Collecting nvidia-cuda-runtime-cu12==12.4.127 (from torch>=2.0.0->torchmetrics)\n",
            "  Downloading nvidia_cuda_runtime_cu12-12.4.127-py3-none-manylinux2014_x86_64.whl.metadata (1.5 kB)\n",
            "Collecting nvidia-cuda-cupti-cu12==12.4.127 (from torch>=2.0.0->torchmetrics)\n",
            "  Downloading nvidia_cuda_cupti_cu12-12.4.127-py3-none-manylinux2014_x86_64.whl.metadata (1.6 kB)\n",
            "Collecting nvidia-cudnn-cu12==9.1.0.70 (from torch>=2.0.0->torchmetrics)\n",
            "  Downloading nvidia_cudnn_cu12-9.1.0.70-py3-none-manylinux2014_x86_64.whl.metadata (1.6 kB)\n",
            "Collecting nvidia-cublas-cu12==12.4.5.8 (from torch>=2.0.0->torchmetrics)\n",
            "  Downloading nvidia_cublas_cu12-12.4.5.8-py3-none-manylinux2014_x86_64.whl.metadata (1.5 kB)\n",
            "Collecting nvidia-cufft-cu12==11.2.1.3 (from torch>=2.0.0->torchmetrics)\n",
            "  Downloading nvidia_cufft_cu12-11.2.1.3-py3-none-manylinux2014_x86_64.whl.metadata (1.5 kB)\n",
            "Collecting nvidia-curand-cu12==10.3.5.147 (from torch>=2.0.0->torchmetrics)\n",
            "  Downloading nvidia_curand_cu12-10.3.5.147-py3-none-manylinux2014_x86_64.whl.metadata (1.5 kB)\n",
            "Collecting nvidia-cusolver-cu12==11.6.1.9 (from torch>=2.0.0->torchmetrics)\n",
            "  Downloading nvidia_cusolver_cu12-11.6.1.9-py3-none-manylinux2014_x86_64.whl.metadata (1.6 kB)\n",
            "Collecting nvidia-cusparse-cu12==12.3.1.170 (from torch>=2.0.0->torchmetrics)\n",
            "  Downloading nvidia_cusparse_cu12-12.3.1.170-py3-none-manylinux2014_x86_64.whl.metadata (1.6 kB)\n",
            "Requirement already satisfied: nvidia-cusparselt-cu12==0.6.2 in /usr/local/lib/python3.11/dist-packages (from torch>=2.0.0->torchmetrics) (0.6.2)\n",
            "Requirement already satisfied: nvidia-nccl-cu12==2.21.5 in /usr/local/lib/python3.11/dist-packages (from torch>=2.0.0->torchmetrics) (2.21.5)\n",
            "Requirement already satisfied: nvidia-nvtx-cu12==12.4.127 in /usr/local/lib/python3.11/dist-packages (from torch>=2.0.0->torchmetrics) (12.4.127)\n",
            "Collecting nvidia-nvjitlink-cu12==12.4.127 (from torch>=2.0.0->torchmetrics)\n",
            "  Downloading nvidia_nvjitlink_cu12-12.4.127-py3-none-manylinux2014_x86_64.whl.metadata (1.5 kB)\n",
            "Requirement already satisfied: triton==3.2.0 in /usr/local/lib/python3.11/dist-packages (from torch>=2.0.0->torchmetrics) (3.2.0)\n",
            "Requirement already satisfied: sympy==1.13.1 in /usr/local/lib/python3.11/dist-packages (from torch>=2.0.0->torchmetrics) (1.13.1)\n",
            "Requirement already satisfied: mpmath<1.4,>=1.1.0 in /usr/local/lib/python3.11/dist-packages (from sympy==1.13.1->torch>=2.0.0->torchmetrics) (1.3.0)\n",
            "Requirement already satisfied: six>=1.5 in /usr/local/lib/python3.11/dist-packages (from python-dateutil>=2.7->matplotlib>=3.0.0->mlxtend) (1.17.0)\n",
            "Requirement already satisfied: MarkupSafe>=2.0 in /usr/local/lib/python3.11/dist-packages (from jinja2->torch>=2.0.0->torchmetrics) (3.0.2)\n",
            "Downloading torchmetrics-1.7.1-py3-none-any.whl (961 kB)\n",
            "\u001b[2K   \u001b[90m━━━━━━━━━━━━━━━━━━━━━━━━━━━━━━━━━━━━━━━━\u001b[0m \u001b[32m961.5/961.5 kB\u001b[0m \u001b[31m24.6 MB/s\u001b[0m eta \u001b[36m0:00:00\u001b[0m\n",
            "\u001b[?25hDownloading lightning_utilities-0.14.3-py3-none-any.whl (28 kB)\n",
            "Downloading nvidia_cublas_cu12-12.4.5.8-py3-none-manylinux2014_x86_64.whl (363.4 MB)\n",
            "\u001b[2K   \u001b[90m━━━━━━━━━━━━━━━━━━━━━━━━━━━━━━━━━━━━━━━━\u001b[0m \u001b[32m363.4/363.4 MB\u001b[0m \u001b[31m4.0 MB/s\u001b[0m eta \u001b[36m0:00:00\u001b[0m\n",
            "\u001b[?25hDownloading nvidia_cuda_cupti_cu12-12.4.127-py3-none-manylinux2014_x86_64.whl (13.8 MB)\n",
            "\u001b[2K   \u001b[90m━━━━━━━━━━━━━━━━━━━━━━━━━━━━━━━━━━━━━━━━\u001b[0m \u001b[32m13.8/13.8 MB\u001b[0m \u001b[31m67.3 MB/s\u001b[0m eta \u001b[36m0:00:00\u001b[0m\n",
            "\u001b[?25hDownloading nvidia_cuda_nvrtc_cu12-12.4.127-py3-none-manylinux2014_x86_64.whl (24.6 MB)\n",
            "\u001b[2K   \u001b[90m━━━━━━━━━━━━━━━━━━━━━━━━━━━━━━━━━━━━━━━━\u001b[0m \u001b[32m24.6/24.6 MB\u001b[0m \u001b[31m34.8 MB/s\u001b[0m eta \u001b[36m0:00:00\u001b[0m\n",
            "\u001b[?25hDownloading nvidia_cuda_runtime_cu12-12.4.127-py3-none-manylinux2014_x86_64.whl (883 kB)\n",
            "\u001b[2K   \u001b[90m━━━━━━━━━━━━━━━━━━━━━━━━━━━━━━━━━━━━━━━━\u001b[0m \u001b[32m883.7/883.7 kB\u001b[0m \u001b[31m44.9 MB/s\u001b[0m eta \u001b[36m0:00:00\u001b[0m\n",
            "\u001b[?25hDownloading nvidia_cudnn_cu12-9.1.0.70-py3-none-manylinux2014_x86_64.whl (664.8 MB)\n",
            "\u001b[2K   \u001b[90m━━━━━━━━━━━━━━━━━━━━━━━━━━━━━━━━━━━━━━━━\u001b[0m \u001b[32m664.8/664.8 MB\u001b[0m \u001b[31m2.0 MB/s\u001b[0m eta \u001b[36m0:00:00\u001b[0m\n",
            "\u001b[?25hDownloading nvidia_cufft_cu12-11.2.1.3-py3-none-manylinux2014_x86_64.whl (211.5 MB)\n",
            "\u001b[2K   \u001b[90m━━━━━━━━━━━━━━━━━━━━━━━━━━━━━━━━━━━━━━━━\u001b[0m \u001b[32m211.5/211.5 MB\u001b[0m \u001b[31m3.9 MB/s\u001b[0m eta \u001b[36m0:00:00\u001b[0m\n",
            "\u001b[?25hDownloading nvidia_curand_cu12-10.3.5.147-py3-none-manylinux2014_x86_64.whl (56.3 MB)\n",
            "\u001b[2K   \u001b[90m━━━━━━━━━━━━━━━━━━━━━━━━━━━━━━━━━━━━━━━━\u001b[0m \u001b[32m56.3/56.3 MB\u001b[0m \u001b[31m11.2 MB/s\u001b[0m eta \u001b[36m0:00:00\u001b[0m\n",
            "\u001b[?25hDownloading nvidia_cusolver_cu12-11.6.1.9-py3-none-manylinux2014_x86_64.whl (127.9 MB)\n",
            "\u001b[2K   \u001b[90m━━━━━━━━━━━━━━━━━━━━━━━━━━━━━━━━━━━━━━━━\u001b[0m \u001b[32m127.9/127.9 MB\u001b[0m \u001b[31m9.5 MB/s\u001b[0m eta \u001b[36m0:00:00\u001b[0m\n",
            "\u001b[?25hDownloading nvidia_cusparse_cu12-12.3.1.170-py3-none-manylinux2014_x86_64.whl (207.5 MB)\n",
            "\u001b[2K   \u001b[90m━━━━━━━━━━━━━━━━━━━━━━━━━━━━━━━━━━━━━━━━\u001b[0m \u001b[32m207.5/207.5 MB\u001b[0m \u001b[31m6.7 MB/s\u001b[0m eta \u001b[36m0:00:00\u001b[0m\n",
            "\u001b[?25hDownloading nvidia_nvjitlink_cu12-12.4.127-py3-none-manylinux2014_x86_64.whl (21.1 MB)\n",
            "\u001b[2K   \u001b[90m━━━━━━━━━━━━━━━━━━━━━━━━━━━━━━━━━━━━━━━━\u001b[0m \u001b[32m21.1/21.1 MB\u001b[0m \u001b[31m98.3 MB/s\u001b[0m eta \u001b[36m0:00:00\u001b[0m\n",
            "\u001b[?25hInstalling collected packages: nvidia-nvjitlink-cu12, nvidia-curand-cu12, nvidia-cufft-cu12, nvidia-cuda-runtime-cu12, nvidia-cuda-nvrtc-cu12, nvidia-cuda-cupti-cu12, nvidia-cublas-cu12, lightning-utilities, nvidia-cusparse-cu12, nvidia-cudnn-cu12, nvidia-cusolver-cu12, torchmetrics\n",
            "  Attempting uninstall: nvidia-nvjitlink-cu12\n",
            "    Found existing installation: nvidia-nvjitlink-cu12 12.5.82\n",
            "    Uninstalling nvidia-nvjitlink-cu12-12.5.82:\n",
            "      Successfully uninstalled nvidia-nvjitlink-cu12-12.5.82\n",
            "  Attempting uninstall: nvidia-curand-cu12\n",
            "    Found existing installation: nvidia-curand-cu12 10.3.6.82\n",
            "    Uninstalling nvidia-curand-cu12-10.3.6.82:\n",
            "      Successfully uninstalled nvidia-curand-cu12-10.3.6.82\n",
            "  Attempting uninstall: nvidia-cufft-cu12\n",
            "    Found existing installation: nvidia-cufft-cu12 11.2.3.61\n",
            "    Uninstalling nvidia-cufft-cu12-11.2.3.61:\n",
            "      Successfully uninstalled nvidia-cufft-cu12-11.2.3.61\n",
            "  Attempting uninstall: nvidia-cuda-runtime-cu12\n",
            "    Found existing installation: nvidia-cuda-runtime-cu12 12.5.82\n",
            "    Uninstalling nvidia-cuda-runtime-cu12-12.5.82:\n",
            "      Successfully uninstalled nvidia-cuda-runtime-cu12-12.5.82\n",
            "  Attempting uninstall: nvidia-cuda-nvrtc-cu12\n",
            "    Found existing installation: nvidia-cuda-nvrtc-cu12 12.5.82\n",
            "    Uninstalling nvidia-cuda-nvrtc-cu12-12.5.82:\n",
            "      Successfully uninstalled nvidia-cuda-nvrtc-cu12-12.5.82\n",
            "  Attempting uninstall: nvidia-cuda-cupti-cu12\n",
            "    Found existing installation: nvidia-cuda-cupti-cu12 12.5.82\n",
            "    Uninstalling nvidia-cuda-cupti-cu12-12.5.82:\n",
            "      Successfully uninstalled nvidia-cuda-cupti-cu12-12.5.82\n",
            "  Attempting uninstall: nvidia-cublas-cu12\n",
            "    Found existing installation: nvidia-cublas-cu12 12.5.3.2\n",
            "    Uninstalling nvidia-cublas-cu12-12.5.3.2:\n",
            "      Successfully uninstalled nvidia-cublas-cu12-12.5.3.2\n",
            "  Attempting uninstall: nvidia-cusparse-cu12\n",
            "    Found existing installation: nvidia-cusparse-cu12 12.5.1.3\n",
            "    Uninstalling nvidia-cusparse-cu12-12.5.1.3:\n",
            "      Successfully uninstalled nvidia-cusparse-cu12-12.5.1.3\n",
            "  Attempting uninstall: nvidia-cudnn-cu12\n",
            "    Found existing installation: nvidia-cudnn-cu12 9.3.0.75\n",
            "    Uninstalling nvidia-cudnn-cu12-9.3.0.75:\n",
            "      Successfully uninstalled nvidia-cudnn-cu12-9.3.0.75\n",
            "  Attempting uninstall: nvidia-cusolver-cu12\n",
            "    Found existing installation: nvidia-cusolver-cu12 11.6.3.83\n",
            "    Uninstalling nvidia-cusolver-cu12-11.6.3.83:\n",
            "      Successfully uninstalled nvidia-cusolver-cu12-11.6.3.83\n",
            "Successfully installed lightning-utilities-0.14.3 nvidia-cublas-cu12-12.4.5.8 nvidia-cuda-cupti-cu12-12.4.127 nvidia-cuda-nvrtc-cu12-12.4.127 nvidia-cuda-runtime-cu12-12.4.127 nvidia-cudnn-cu12-9.1.0.70 nvidia-cufft-cu12-11.2.1.3 nvidia-curand-cu12-10.3.5.147 nvidia-cusolver-cu12-11.6.1.9 nvidia-cusparse-cu12-12.3.1.170 nvidia-nvjitlink-cu12-12.4.127 torchmetrics-1.7.1\n",
            "mlxtend version:0.23.4\n"
          ]
        }
      ]
    },
    {
      "cell_type": "code",
      "source": [
        "mlxtend.__version__"
      ],
      "metadata": {
        "colab": {
          "base_uri": "https://localhost:8080/",
          "height": 36
        },
        "id": "LdrXXWf6lDiy",
        "outputId": "cc4feeab-4a20-4c13-8867-224518929c90"
      },
      "execution_count": null,
      "outputs": [
        {
          "output_type": "execute_result",
          "data": {
            "text/plain": [
              "'0.23.4'"
            ],
            "application/vnd.google.colaboratory.intrinsic+json": {
              "type": "string"
            }
          },
          "metadata": {},
          "execution_count": 74
        }
      ]
    },
    {
      "cell_type": "code",
      "source": [
        "import mlxtend"
      ],
      "metadata": {
        "id": "21PIv23YzQH8"
      },
      "execution_count": null,
      "outputs": []
    },
    {
      "cell_type": "code",
      "source": [
        "len(class_names),len(y_pred_tensor)"
      ],
      "metadata": {
        "colab": {
          "base_uri": "https://localhost:8080/"
        },
        "id": "CyLE6JtRIjvq",
        "outputId": "aad5cfdd-dbac-4b35-93b6-c43ed5f16573"
      },
      "execution_count": null,
      "outputs": [
        {
          "output_type": "execute_result",
          "data": {
            "text/plain": [
              "(10, 10000)"
            ]
          },
          "metadata": {},
          "execution_count": 76
        }
      ]
    },
    {
      "cell_type": "code",
      "source": [
        "test_data"
      ],
      "metadata": {
        "id": "YfYUje4NJQcq",
        "outputId": "c9faf885-6845-43ed-de74-b7001b03c599",
        "colab": {
          "base_uri": "https://localhost:8080/"
        }
      },
      "execution_count": null,
      "outputs": [
        {
          "output_type": "execute_result",
          "data": {
            "text/plain": [
              "Dataset FashionMNIST\n",
              "    Number of datapoints: 10000\n",
              "    Root location: data\n",
              "    Split: Test\n",
              "    StandardTransform\n",
              "Transform: ToTensor()"
            ]
          },
          "metadata": {},
          "execution_count": 77
        }
      ]
    },
    {
      "cell_type": "code",
      "source": [
        "from torchmetrics import ConfusionMatrix\n",
        "from mlxtend.plotting import plot_confusion_matrix\n",
        "\n",
        "confmat=ConfusionMatrix(num_classes=len(class_names),\n",
        "                        task='multiclass')\n",
        "confmat_tensor=confmat(preds=y_pred_tensor,\n",
        "                       target=test_data.targets)\n",
        "\n",
        "fig,ax=plot_confusion_matrix(\n",
        "    conf_mat=confmat_tensor.numpy(),\n",
        "    class_names=class_names,\n",
        "    figsize=(10,7)\n",
        ")"
      ],
      "metadata": {
        "id": "809SNFWLzdwg",
        "colab": {
          "base_uri": "https://localhost:8080/",
          "height": 667
        },
        "outputId": "228f1d38-b174-4567-f871-0c84a16265a3"
      },
      "execution_count": null,
      "outputs": [
        {
          "output_type": "display_data",
          "data": {
            "text/plain": [
              "<Figure size 1000x700 with 1 Axes>"
            ],
            "image/png": "[encoded data removed]"
          },
          "metadata": {}
        }
      ]
    },
    {
      "cell_type": "code",
      "source": [
        "confmat_tensor"
      ],
      "metadata": {
        "colab": {
          "base_uri": "https://localhost:8080/"
        },
        "id": "yB2ycBnFFiUR",
        "outputId": "1b9ba614-993f-4493-f9af-c2a74c150991"
      },
      "execution_count": null,
      "outputs": [
        {
          "output_type": "execute_result",
          "data": {
            "text/plain": [
              "tensor([[560,   5,  37,  82,  16,   1, 292,   0,   7,   0],\n",
              "        [  9, 911,   5,  49,  18,   0,   5,   0,   3,   0],\n",
              "        [  5,   1, 800,  12, 117,   0,  57,   0,   8,   0],\n",
              "        [ 22,  14,  20, 837,  60,   0,  36,   0,   9,   2],\n",
              "        [  4,   8, 120,  44, 753,   0,  64,   0,   7,   0],\n",
              "        [  5,   1,   4,   7,   0, 831,   4,  60,  65,  23],\n",
              "        [ 54,   8, 131,  64, 116,   0, 617,   0,  10,   0],\n",
              "        [  1,   1,   0,   0,   0,  22,   0, 911,   9,  56],\n",
              "        [ 10,   2,  27,  13,   9,  11,  29,   8, 890,   1],\n",
              "        [  0,   0,   1,   1,   0,  24,   3,  77,   9, 885]])"
            ]
          },
          "metadata": {},
          "execution_count": 80
        }
      ]
    },
    {
      "cell_type": "markdown",
      "source": [
        "#Sava and load"
      ],
      "metadata": {
        "id": "yjfKHSImFkzh"
      }
    },
    {
      "cell_type": "code",
      "source": [
        "from pathlib import Path\n",
        "\n",
        "MODEL_PATH=Path(\"models\")\n",
        "MODEL_PATH.mkdir(parents=True,\n",
        "                 exist_ok=True)\n",
        "\n",
        "MODEL_NAME=\"03__pytorch_computer_vision_model_2.pth\"\n",
        "MODEL_SAVE_PATH=MODEL_PATH / MODEL_NAME\n",
        "\n",
        "print(f\"Saving model to {MODEL_SAVE_PATH}\")\n",
        "torch.save(obj=model_2.state_dict(),\n",
        "           f=MODEL_SAVE_PATH)"
      ],
      "metadata": {
        "colab": {
          "base_uri": "https://localhost:8080/"
        },
        "id": "CafiWfyaJdXo",
        "outputId": "44b97975-f857-4c46-d55a-22fa70300f9b"
      },
      "execution_count": null,
      "outputs": [
        {
          "output_type": "stream",
          "name": "stdout",
          "text": [
            "Saving model to models/03__pytorch_computer_vision_model_2.pth\n"
          ]
        }
      ]
    },
    {
      "cell_type": "code",
      "source": [
        "torch.manual_seed(42)\n",
        "loaded_model_2=FashionMNIST_V2(in_channels=1,\n",
        "                               hiddenchannels=10,\n",
        "                               out_channels=len(class_names))\n",
        "loaded_model_2.load_state_dict(torch.load(MODEL_SAVE_PATH))\n",
        "\n",
        "loaded_model_2.to(device)"
      ],
      "metadata": {
        "colab": {
          "base_uri": "https://localhost:8080/"
        },
        "id": "1lj5DF2BKxRZ",
        "outputId": "28fa8d7d-7574-41c3-a164-b5e51369668d"
      },
      "execution_count": null,
      "outputs": [
        {
          "output_type": "execute_result",
          "data": {
            "text/plain": [
              "FashionMNIST_V2(\n",
              "  (conv_block_1): Sequential(\n",
              "    (0): Conv2d(1, 10, kernel_size=(3, 3), stride=(1, 1), padding=(1, 1))\n",
              "    (1): ReLU()\n",
              "    (2): Conv2d(10, 10, kernel_size=(3, 3), stride=(1, 1), padding=(1, 1))\n",
              "    (3): ReLU()\n",
              "    (4): MaxPool2d(kernel_size=2, stride=2, padding=0, dilation=1, ceil_mode=False)\n",
              "  )\n",
              "  (conv_block_2): Sequential(\n",
              "    (0): Conv2d(10, 10, kernel_size=(3, 3), stride=(1, 1), padding=(1, 1))\n",
              "    (1): ReLU()\n",
              "    (2): Conv2d(10, 10, kernel_size=(3, 3), stride=(1, 1), padding=(1, 1))\n",
              "    (3): ReLU()\n",
              "    (4): MaxPool2d(kernel_size=2, stride=2, padding=0, dilation=1, ceil_mode=False)\n",
              "  )\n",
              "  (classifier): Sequential(\n",
              "    (0): Flatten(start_dim=1, end_dim=-1)\n",
              "    (1): Linear(in_features=490, out_features=10, bias=True)\n",
              "  )\n",
              ")"
            ]
          },
          "metadata": {},
          "execution_count": 83
        }
      ]
    },
    {
      "cell_type": "markdown",
      "source": [
        "#Evaluate loaded model"
      ],
      "metadata": {
        "id": "XJyiCRz0MEdJ"
      }
    },
    {
      "cell_type": "code",
      "source": [
        "model_2_results"
      ],
      "metadata": {
        "colab": {
          "base_uri": "https://localhost:8080/"
        },
        "id": "JpcAGxMyMJFA",
        "outputId": "e213b318-702b-40ef-c2ea-57c0239db3f2"
      },
      "execution_count": null,
      "outputs": [
        {
          "output_type": "execute_result",
          "data": {
            "text/plain": [
              "{'Model_name': 'FashionMNIST_V2',\n",
              " 'Model_loss': 0.3215969204902649,\n",
              " 'Model_acc': 88.21884984025559}"
            ]
          },
          "metadata": {},
          "execution_count": 84
        }
      ]
    },
    {
      "cell_type": "code",
      "source": [
        "torch.manual_seed(42)\n",
        "loaded_model_2_results=eval_model(\n",
        "    model=loaded_model_2,\n",
        "    data_loader=test_dataloader,\n",
        "    loss_fn=loss_fn,\n",
        "    accuracy_fn=accuracy_fn\n",
        "\n",
        ")\n",
        "loaded_model_2_results"
      ],
      "metadata": {
        "colab": {
          "base_uri": "https://localhost:8080/",
          "height": 104,
          "referenced_widgets": [
            "f354f42540f44b8ab6697328b5e9104a",
            "b6a4af43e8354315bc0fe56c1c40ed2a",
            "617ae7fb33bd47a9b740dc48859a7f44",
            "cf0670fe72bc4395a51cff37cf6ad672",
            "649e509aa3b54af1972e079e56fe34cf",
            "6c942790f2b44c94a936831ebcaba760",
            "599d8b9d51544ea195834893fc86bec8",
            "d5d1f76985f0429495cf74c1e3baac27",
            "668fe2a074b14757b87ec238c2041b14",
            "8b51a832c19e4ba0bc306f71ab155d0c",
            "09b3c06482e94521975855f84be44d97"
          ]
        },
        "id": "HO2q-DhgMKbO",
        "outputId": "ed26a88d-95a6-4f13-fc61-6b6db7bfa512"
      },
      "execution_count": null,
      "outputs": [
        {
          "output_type": "display_data",
          "data": {
            "text/plain": [
              "  0%|          | 0/313 [00:00<?, ?it/s]"
            ],
            "application/vnd.jupyter.widget-view+json": {
              "version_major": 2,
              "version_minor": 0,
              "model_id": "f354f42540f44b8ab6697328b5e9104a"
            }
          },
          "metadata": {}
        },
        {
          "output_type": "execute_result",
          "data": {
            "text/plain": [
              "{'Model_name': 'FashionMNIST_V2',\n",
              " 'Model_loss': 0.3215969204902649,\n",
              " 'Model_acc': 88.21884984025559}"
            ]
          },
          "metadata": {},
          "execution_count": 87
        }
      ]
    },
    {
      "cell_type": "code",
      "source": [
        "model_2_results"
      ],
      "metadata": {
        "colab": {
          "base_uri": "https://localhost:8080/"
        },
        "id": "nzCpNdhPMoKU",
        "outputId": "f3363272-9986-4b2a-dacb-9cf14f92d511"
      },
      "execution_count": null,
      "outputs": [
        {
          "output_type": "execute_result",
          "data": {
            "text/plain": [
              "{'Model_name': 'FashionMNIST_V2',\n",
              " 'Model_loss': 0.3215969204902649,\n",
              " 'Model_acc': 88.21884984025559}"
            ]
          },
          "metadata": {},
          "execution_count": 88
        }
      ]
    },
    {
      "cell_type": "code",
      "source": [
        "torch.isclose(torch.tensor(model_2_results[\"Model_loss\"]),\n",
        "              torch.tensor(loaded_model_2_results[\"Model_loss\"]),\n",
        "              atol=1e-02)"
      ],
      "metadata": {
        "colab": {
          "base_uri": "https://localhost:8080/"
        },
        "id": "OiEzrgKkMyjz",
        "outputId": "2b9e01e1-a197-4420-b8a1-4208eac34044"
      },
      "execution_count": null,
      "outputs": [
        {
          "output_type": "execute_result",
          "data": {
            "text/plain": [
              "tensor(True)"
            ]
          },
          "metadata": {},
          "execution_count": 92
        }
      ]
    },
    {
      "cell_type": "code",
      "source": [],
      "metadata": {
        "id": "zzJKhrFxNf7S"
      },
      "execution_count": null,
      "outputs": []
    }
  ]
}